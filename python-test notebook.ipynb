{
 "cells": [
  {
   "cell_type": "code",
   "execution_count": 36,
   "metadata": {},
   "outputs": [
    {
     "data": {
      "text/html": [
       "\n",
       "    <div class=\"bk-root\">\n",
       "        <a href=\"https://bokeh.pydata.org\" target=\"_blank\" class=\"bk-logo bk-logo-small bk-logo-notebook\"></a>\n",
       "        <span id=\"4050\">Loading BokehJS ...</span>\n",
       "    </div>"
      ]
     },
     "metadata": {},
     "output_type": "display_data"
    },
    {
     "data": {
      "application/javascript": [
       "\n",
       "(function(root) {\n",
       "  function now() {\n",
       "    return new Date();\n",
       "  }\n",
       "\n",
       "  var force = true;\n",
       "\n",
       "  if (typeof (root._bokeh_onload_callbacks) === \"undefined\" || force === true) {\n",
       "    root._bokeh_onload_callbacks = [];\n",
       "    root._bokeh_is_loading = undefined;\n",
       "  }\n",
       "\n",
       "  var JS_MIME_TYPE = 'application/javascript';\n",
       "  var HTML_MIME_TYPE = 'text/html';\n",
       "  var EXEC_MIME_TYPE = 'application/vnd.bokehjs_exec.v0+json';\n",
       "  var CLASS_NAME = 'output_bokeh rendered_html';\n",
       "\n",
       "  /**\n",
       "   * Render data to the DOM node\n",
       "   */\n",
       "  function render(props, node) {\n",
       "    var script = document.createElement(\"script\");\n",
       "    node.appendChild(script);\n",
       "  }\n",
       "\n",
       "  /**\n",
       "   * Handle when an output is cleared or removed\n",
       "   */\n",
       "  function handleClearOutput(event, handle) {\n",
       "    var cell = handle.cell;\n",
       "\n",
       "    var id = cell.output_area._bokeh_element_id;\n",
       "    var server_id = cell.output_area._bokeh_server_id;\n",
       "    // Clean up Bokeh references\n",
       "    if (id != null && id in Bokeh.index) {\n",
       "      Bokeh.index[id].model.document.clear();\n",
       "      delete Bokeh.index[id];\n",
       "    }\n",
       "\n",
       "    if (server_id !== undefined) {\n",
       "      // Clean up Bokeh references\n",
       "      var cmd = \"from bokeh.io.state import curstate; print(curstate().uuid_to_server['\" + server_id + \"'].get_sessions()[0].document.roots[0]._id)\";\n",
       "      cell.notebook.kernel.execute(cmd, {\n",
       "        iopub: {\n",
       "          output: function(msg) {\n",
       "            var id = msg.content.text.trim();\n",
       "            if (id in Bokeh.index) {\n",
       "              Bokeh.index[id].model.document.clear();\n",
       "              delete Bokeh.index[id];\n",
       "            }\n",
       "          }\n",
       "        }\n",
       "      });\n",
       "      // Destroy server and session\n",
       "      var cmd = \"import bokeh.io.notebook as ion; ion.destroy_server('\" + server_id + \"')\";\n",
       "      cell.notebook.kernel.execute(cmd);\n",
       "    }\n",
       "  }\n",
       "\n",
       "  /**\n",
       "   * Handle when a new output is added\n",
       "   */\n",
       "  function handleAddOutput(event, handle) {\n",
       "    var output_area = handle.output_area;\n",
       "    var output = handle.output;\n",
       "\n",
       "    // limit handleAddOutput to display_data with EXEC_MIME_TYPE content only\n",
       "    if ((output.output_type != \"display_data\") || (!output.data.hasOwnProperty(EXEC_MIME_TYPE))) {\n",
       "      return\n",
       "    }\n",
       "\n",
       "    var toinsert = output_area.element.find(\".\" + CLASS_NAME.split(' ')[0]);\n",
       "\n",
       "    if (output.metadata[EXEC_MIME_TYPE][\"id\"] !== undefined) {\n",
       "      toinsert[toinsert.length - 1].firstChild.textContent = output.data[JS_MIME_TYPE];\n",
       "      // store reference to embed id on output_area\n",
       "      output_area._bokeh_element_id = output.metadata[EXEC_MIME_TYPE][\"id\"];\n",
       "    }\n",
       "    if (output.metadata[EXEC_MIME_TYPE][\"server_id\"] !== undefined) {\n",
       "      var bk_div = document.createElement(\"div\");\n",
       "      bk_div.innerHTML = output.data[HTML_MIME_TYPE];\n",
       "      var script_attrs = bk_div.children[0].attributes;\n",
       "      for (var i = 0; i < script_attrs.length; i++) {\n",
       "        toinsert[toinsert.length - 1].firstChild.setAttribute(script_attrs[i].name, script_attrs[i].value);\n",
       "      }\n",
       "      // store reference to server id on output_area\n",
       "      output_area._bokeh_server_id = output.metadata[EXEC_MIME_TYPE][\"server_id\"];\n",
       "    }\n",
       "  }\n",
       "\n",
       "  function register_renderer(events, OutputArea) {\n",
       "\n",
       "    function append_mime(data, metadata, element) {\n",
       "      // create a DOM node to render to\n",
       "      var toinsert = this.create_output_subarea(\n",
       "        metadata,\n",
       "        CLASS_NAME,\n",
       "        EXEC_MIME_TYPE\n",
       "      );\n",
       "      this.keyboard_manager.register_events(toinsert);\n",
       "      // Render to node\n",
       "      var props = {data: data, metadata: metadata[EXEC_MIME_TYPE]};\n",
       "      render(props, toinsert[toinsert.length - 1]);\n",
       "      element.append(toinsert);\n",
       "      return toinsert\n",
       "    }\n",
       "\n",
       "    /* Handle when an output is cleared or removed */\n",
       "    events.on('clear_output.CodeCell', handleClearOutput);\n",
       "    events.on('delete.Cell', handleClearOutput);\n",
       "\n",
       "    /* Handle when a new output is added */\n",
       "    events.on('output_added.OutputArea', handleAddOutput);\n",
       "\n",
       "    /**\n",
       "     * Register the mime type and append_mime function with output_area\n",
       "     */\n",
       "    OutputArea.prototype.register_mime_type(EXEC_MIME_TYPE, append_mime, {\n",
       "      /* Is output safe? */\n",
       "      safe: true,\n",
       "      /* Index of renderer in `output_area.display_order` */\n",
       "      index: 0\n",
       "    });\n",
       "  }\n",
       "\n",
       "  // register the mime type if in Jupyter Notebook environment and previously unregistered\n",
       "  if (root.Jupyter !== undefined) {\n",
       "    var events = require('base/js/events');\n",
       "    var OutputArea = require('notebook/js/outputarea').OutputArea;\n",
       "\n",
       "    if (OutputArea.prototype.mime_types().indexOf(EXEC_MIME_TYPE) == -1) {\n",
       "      register_renderer(events, OutputArea);\n",
       "    }\n",
       "  }\n",
       "\n",
       "  \n",
       "  if (typeof (root._bokeh_timeout) === \"undefined\" || force === true) {\n",
       "    root._bokeh_timeout = Date.now() + 5000;\n",
       "    root._bokeh_failed_load = false;\n",
       "  }\n",
       "\n",
       "  var NB_LOAD_WARNING = {'data': {'text/html':\n",
       "     \"<div style='background-color: #fdd'>\\n\"+\n",
       "     \"<p>\\n\"+\n",
       "     \"BokehJS does not appear to have successfully loaded. If loading BokehJS from CDN, this \\n\"+\n",
       "     \"may be due to a slow or bad network connection. Possible fixes:\\n\"+\n",
       "     \"</p>\\n\"+\n",
       "     \"<ul>\\n\"+\n",
       "     \"<li>re-rerun `output_notebook()` to attempt to load from CDN again, or</li>\\n\"+\n",
       "     \"<li>use INLINE resources instead, as so:</li>\\n\"+\n",
       "     \"</ul>\\n\"+\n",
       "     \"<code>\\n\"+\n",
       "     \"from bokeh.resources import INLINE\\n\"+\n",
       "     \"output_notebook(resources=INLINE)\\n\"+\n",
       "     \"</code>\\n\"+\n",
       "     \"</div>\"}};\n",
       "\n",
       "  function display_loaded() {\n",
       "    var el = document.getElementById(\"4050\");\n",
       "    if (el != null) {\n",
       "      el.textContent = \"BokehJS is loading...\";\n",
       "    }\n",
       "    if (root.Bokeh !== undefined) {\n",
       "      if (el != null) {\n",
       "        el.textContent = \"BokehJS \" + root.Bokeh.version + \" successfully loaded.\";\n",
       "      }\n",
       "    } else if (Date.now() < root._bokeh_timeout) {\n",
       "      setTimeout(display_loaded, 100)\n",
       "    }\n",
       "  }\n",
       "\n",
       "\n",
       "  function run_callbacks() {\n",
       "    try {\n",
       "      root._bokeh_onload_callbacks.forEach(function(callback) { callback() });\n",
       "    }\n",
       "    finally {\n",
       "      delete root._bokeh_onload_callbacks\n",
       "    }\n",
       "    console.info(\"Bokeh: all callbacks have finished\");\n",
       "  }\n",
       "\n",
       "  function load_libs(js_urls, callback) {\n",
       "    root._bokeh_onload_callbacks.push(callback);\n",
       "    if (root._bokeh_is_loading > 0) {\n",
       "      console.log(\"Bokeh: BokehJS is being loaded, scheduling callback at\", now());\n",
       "      return null;\n",
       "    }\n",
       "    if (js_urls == null || js_urls.length === 0) {\n",
       "      run_callbacks();\n",
       "      return null;\n",
       "    }\n",
       "    console.log(\"Bokeh: BokehJS not loaded, scheduling load and callback at\", now());\n",
       "    root._bokeh_is_loading = js_urls.length;\n",
       "    for (var i = 0; i < js_urls.length; i++) {\n",
       "      var url = js_urls[i];\n",
       "      var s = document.createElement('script');\n",
       "      s.src = url;\n",
       "      s.async = false;\n",
       "      s.onreadystatechange = s.onload = function() {\n",
       "        root._bokeh_is_loading--;\n",
       "        if (root._bokeh_is_loading === 0) {\n",
       "          console.log(\"Bokeh: all BokehJS libraries loaded\");\n",
       "          run_callbacks()\n",
       "        }\n",
       "      };\n",
       "      s.onerror = function() {\n",
       "        console.warn(\"failed to load library \" + url);\n",
       "      };\n",
       "      console.log(\"Bokeh: injecting script tag for BokehJS library: \", url);\n",
       "      document.getElementsByTagName(\"head\")[0].appendChild(s);\n",
       "    }\n",
       "  };var element = document.getElementById(\"4050\");\n",
       "  if (element == null) {\n",
       "    console.log(\"Bokeh: ERROR: autoload.js configured with elementid '4050' but no matching script tag was found. \")\n",
       "    return false;\n",
       "  }\n",
       "\n",
       "  var js_urls = [\"https://cdn.pydata.org/bokeh/release/bokeh-1.0.2.min.js\", \"https://cdn.pydata.org/bokeh/release/bokeh-widgets-1.0.2.min.js\", \"https://cdn.pydata.org/bokeh/release/bokeh-tables-1.0.2.min.js\", \"https://cdn.pydata.org/bokeh/release/bokeh-gl-1.0.2.min.js\"];\n",
       "\n",
       "  var inline_js = [\n",
       "    function(Bokeh) {\n",
       "      Bokeh.set_log_level(\"info\");\n",
       "    },\n",
       "    \n",
       "    function(Bokeh) {\n",
       "      \n",
       "    },\n",
       "    function(Bokeh) {\n",
       "      console.log(\"Bokeh: injecting CSS: https://cdn.pydata.org/bokeh/release/bokeh-1.0.2.min.css\");\n",
       "      Bokeh.embed.inject_css(\"https://cdn.pydata.org/bokeh/release/bokeh-1.0.2.min.css\");\n",
       "      console.log(\"Bokeh: injecting CSS: https://cdn.pydata.org/bokeh/release/bokeh-widgets-1.0.2.min.css\");\n",
       "      Bokeh.embed.inject_css(\"https://cdn.pydata.org/bokeh/release/bokeh-widgets-1.0.2.min.css\");\n",
       "      console.log(\"Bokeh: injecting CSS: https://cdn.pydata.org/bokeh/release/bokeh-tables-1.0.2.min.css\");\n",
       "      Bokeh.embed.inject_css(\"https://cdn.pydata.org/bokeh/release/bokeh-tables-1.0.2.min.css\");\n",
       "    }\n",
       "  ];\n",
       "\n",
       "  function run_inline_js() {\n",
       "    \n",
       "    if ((root.Bokeh !== undefined) || (force === true)) {\n",
       "      for (var i = 0; i < inline_js.length; i++) {\n",
       "        inline_js[i].call(root, root.Bokeh);\n",
       "      }if (force === true) {\n",
       "        display_loaded();\n",
       "      }} else if (Date.now() < root._bokeh_timeout) {\n",
       "      setTimeout(run_inline_js, 100);\n",
       "    } else if (!root._bokeh_failed_load) {\n",
       "      console.log(\"Bokeh: BokehJS failed to load within specified timeout.\");\n",
       "      root._bokeh_failed_load = true;\n",
       "    } else if (force !== true) {\n",
       "      var cell = $(document.getElementById(\"4050\")).parents('.cell').data().cell;\n",
       "      cell.output_area.append_execute_result(NB_LOAD_WARNING)\n",
       "    }\n",
       "\n",
       "  }\n",
       "\n",
       "  if (root._bokeh_is_loading === 0) {\n",
       "    console.log(\"Bokeh: BokehJS loaded, going straight to plotting\");\n",
       "    run_inline_js();\n",
       "  } else {\n",
       "    load_libs(js_urls, function() {\n",
       "      console.log(\"Bokeh: BokehJS plotting callback run at\", now());\n",
       "      run_inline_js();\n",
       "    });\n",
       "  }\n",
       "}(window));"
      ],
      "application/vnd.bokehjs_load.v0+json": "\n(function(root) {\n  function now() {\n    return new Date();\n  }\n\n  var force = true;\n\n  if (typeof (root._bokeh_onload_callbacks) === \"undefined\" || force === true) {\n    root._bokeh_onload_callbacks = [];\n    root._bokeh_is_loading = undefined;\n  }\n\n  \n\n  \n  if (typeof (root._bokeh_timeout) === \"undefined\" || force === true) {\n    root._bokeh_timeout = Date.now() + 5000;\n    root._bokeh_failed_load = false;\n  }\n\n  var NB_LOAD_WARNING = {'data': {'text/html':\n     \"<div style='background-color: #fdd'>\\n\"+\n     \"<p>\\n\"+\n     \"BokehJS does not appear to have successfully loaded. If loading BokehJS from CDN, this \\n\"+\n     \"may be due to a slow or bad network connection. Possible fixes:\\n\"+\n     \"</p>\\n\"+\n     \"<ul>\\n\"+\n     \"<li>re-rerun `output_notebook()` to attempt to load from CDN again, or</li>\\n\"+\n     \"<li>use INLINE resources instead, as so:</li>\\n\"+\n     \"</ul>\\n\"+\n     \"<code>\\n\"+\n     \"from bokeh.resources import INLINE\\n\"+\n     \"output_notebook(resources=INLINE)\\n\"+\n     \"</code>\\n\"+\n     \"</div>\"}};\n\n  function display_loaded() {\n    var el = document.getElementById(\"4050\");\n    if (el != null) {\n      el.textContent = \"BokehJS is loading...\";\n    }\n    if (root.Bokeh !== undefined) {\n      if (el != null) {\n        el.textContent = \"BokehJS \" + root.Bokeh.version + \" successfully loaded.\";\n      }\n    } else if (Date.now() < root._bokeh_timeout) {\n      setTimeout(display_loaded, 100)\n    }\n  }\n\n\n  function run_callbacks() {\n    try {\n      root._bokeh_onload_callbacks.forEach(function(callback) { callback() });\n    }\n    finally {\n      delete root._bokeh_onload_callbacks\n    }\n    console.info(\"Bokeh: all callbacks have finished\");\n  }\n\n  function load_libs(js_urls, callback) {\n    root._bokeh_onload_callbacks.push(callback);\n    if (root._bokeh_is_loading > 0) {\n      console.log(\"Bokeh: BokehJS is being loaded, scheduling callback at\", now());\n      return null;\n    }\n    if (js_urls == null || js_urls.length === 0) {\n      run_callbacks();\n      return null;\n    }\n    console.log(\"Bokeh: BokehJS not loaded, scheduling load and callback at\", now());\n    root._bokeh_is_loading = js_urls.length;\n    for (var i = 0; i < js_urls.length; i++) {\n      var url = js_urls[i];\n      var s = document.createElement('script');\n      s.src = url;\n      s.async = false;\n      s.onreadystatechange = s.onload = function() {\n        root._bokeh_is_loading--;\n        if (root._bokeh_is_loading === 0) {\n          console.log(\"Bokeh: all BokehJS libraries loaded\");\n          run_callbacks()\n        }\n      };\n      s.onerror = function() {\n        console.warn(\"failed to load library \" + url);\n      };\n      console.log(\"Bokeh: injecting script tag for BokehJS library: \", url);\n      document.getElementsByTagName(\"head\")[0].appendChild(s);\n    }\n  };var element = document.getElementById(\"4050\");\n  if (element == null) {\n    console.log(\"Bokeh: ERROR: autoload.js configured with elementid '4050' but no matching script tag was found. \")\n    return false;\n  }\n\n  var js_urls = [\"https://cdn.pydata.org/bokeh/release/bokeh-1.0.2.min.js\", \"https://cdn.pydata.org/bokeh/release/bokeh-widgets-1.0.2.min.js\", \"https://cdn.pydata.org/bokeh/release/bokeh-tables-1.0.2.min.js\", \"https://cdn.pydata.org/bokeh/release/bokeh-gl-1.0.2.min.js\"];\n\n  var inline_js = [\n    function(Bokeh) {\n      Bokeh.set_log_level(\"info\");\n    },\n    \n    function(Bokeh) {\n      \n    },\n    function(Bokeh) {\n      console.log(\"Bokeh: injecting CSS: https://cdn.pydata.org/bokeh/release/bokeh-1.0.2.min.css\");\n      Bokeh.embed.inject_css(\"https://cdn.pydata.org/bokeh/release/bokeh-1.0.2.min.css\");\n      console.log(\"Bokeh: injecting CSS: https://cdn.pydata.org/bokeh/release/bokeh-widgets-1.0.2.min.css\");\n      Bokeh.embed.inject_css(\"https://cdn.pydata.org/bokeh/release/bokeh-widgets-1.0.2.min.css\");\n      console.log(\"Bokeh: injecting CSS: https://cdn.pydata.org/bokeh/release/bokeh-tables-1.0.2.min.css\");\n      Bokeh.embed.inject_css(\"https://cdn.pydata.org/bokeh/release/bokeh-tables-1.0.2.min.css\");\n    }\n  ];\n\n  function run_inline_js() {\n    \n    if ((root.Bokeh !== undefined) || (force === true)) {\n      for (var i = 0; i < inline_js.length; i++) {\n        inline_js[i].call(root, root.Bokeh);\n      }if (force === true) {\n        display_loaded();\n      }} else if (Date.now() < root._bokeh_timeout) {\n      setTimeout(run_inline_js, 100);\n    } else if (!root._bokeh_failed_load) {\n      console.log(\"Bokeh: BokehJS failed to load within specified timeout.\");\n      root._bokeh_failed_load = true;\n    } else if (force !== true) {\n      var cell = $(document.getElementById(\"4050\")).parents('.cell').data().cell;\n      cell.output_area.append_execute_result(NB_LOAD_WARNING)\n    }\n\n  }\n\n  if (root._bokeh_is_loading === 0) {\n    console.log(\"Bokeh: BokehJS loaded, going straight to plotting\");\n    run_inline_js();\n  } else {\n    load_libs(js_urls, function() {\n      console.log(\"Bokeh: BokehJS plotting callback run at\", now());\n      run_inline_js();\n    });\n  }\n}(window));"
     },
     "metadata": {},
     "output_type": "display_data"
    }
   ],
   "source": [
    "import pandas as pd\n",
    "import numpy as np\n",
    "from nsepy import get_history\n",
    "from datetime import date\n",
    "from bokeh.models import BoxAnnotation\n",
    "from datetime import datetime as dt\n",
    "from bokeh.plotting import figure, output_file, show\n",
    "from statsmodels.graphics.tsaplots import plot_acf\n",
    "from bokeh.io import output_notebook\n",
    "output_notebook()"
   ]
  },
  {
   "cell_type": "code",
   "execution_count": 37,
   "metadata": {},
   "outputs": [],
   "source": [
    "infy = get_history(symbol='INFY',\n",
    "                   start=date(2015,1,1),\n",
    "                   end=date(2015,12,30))\n",
    "tcs = get_history(symbol='TCS',\n",
    "                   start=date(2015,1,1),\n",
    "                   end=date(2015,12,30))\n",
    "\n",
    "niftyit = pd.read_csv('NIFTYIT.csv') \n",
    "#downloaded from the webpage https://www.nseindia.com/products/content/equities/indices/historical_index_data.htm\n"
   ]
  },
  {
   "cell_type": "markdown",
   "metadata": {},
   "source": [
    "# Part 1:"
   ]
  },
  {
   "cell_type": "markdown",
   "metadata": {},
   "source": [
    "# 1. "
   ]
  },
  {
   "cell_type": "code",
   "execution_count": 38,
   "metadata": {},
   "outputs": [],
   "source": [
    "def MovingAverage(data,window):\n",
    "    ma = data['Close'].rolling(window).mean()\n",
    "    return(ma)"
   ]
  },
  {
   "cell_type": "code",
   "execution_count": 39,
   "metadata": {},
   "outputs": [],
   "source": [
    "infy_ma = MovingAverage(infy,4)        \n",
    "tcs_ma = MovingAverage(tcs,4)\n",
    "niftyit_ma = MovingAverage(niftyit,4)"
   ]
  },
  {
   "cell_type": "code",
   "execution_count": 40,
   "metadata": {},
   "outputs": [
    {
     "data": {
      "text/html": [
       "\n",
       "\n",
       "\n",
       "\n",
       "\n",
       "\n",
       "  <div class=\"bk-root\" id=\"7e9b5dab-504f-4a87-b8b7-44e828855370\"></div>\n"
      ]
     },
     "metadata": {},
     "output_type": "display_data"
    },
    {
     "data": {
      "application/javascript": [
       "(function(root) {\n",
       "  function embed_document(root) {\n",
       "    \n",
       "  var docs_json = {\"04e03306-bfc2-474a-8b42-814ed6c7b104\":{\"roots\":{\"references\":[{\"attributes\":{\"below\":[{\"id\":\"4062\",\"type\":\"DatetimeAxis\"}],\"left\":[{\"id\":\"4067\",\"type\":\"LinearAxis\"}],\"plot_height\":350,\"plot_width\":800,\"renderers\":[{\"id\":\"4062\",\"type\":\"DatetimeAxis\"},{\"id\":\"4066\",\"type\":\"Grid\"},{\"id\":\"4067\",\"type\":\"LinearAxis\"},{\"id\":\"4071\",\"type\":\"Grid\"},{\"id\":\"4077\",\"type\":\"BoxAnnotation\"},{\"id\":\"4086\",\"type\":\"GlyphRenderer\"}],\"title\":{\"id\":\"4051\",\"type\":\"Title\"},\"toolbar\":{\"id\":\"4076\",\"type\":\"Toolbar\"},\"x_range\":{\"id\":\"4054\",\"type\":\"DataRange1d\"},\"x_scale\":{\"id\":\"4058\",\"type\":\"LinearScale\"},\"y_range\":{\"id\":\"4056\",\"type\":\"DataRange1d\"},\"y_scale\":{\"id\":\"4060\",\"type\":\"LinearScale\"}},\"id\":\"4052\",\"subtype\":\"Figure\",\"type\":\"Plot\"},{\"attributes\":{},\"id\":\"4325\",\"type\":\"YearsTicker\"},{\"attributes\":{},\"id\":\"4326\",\"type\":\"UnionRenderers\"},{\"attributes\":{\"active_drag\":\"auto\",\"active_inspect\":\"auto\",\"active_multi\":null,\"active_scroll\":\"auto\",\"active_tap\":\"auto\",\"tools\":[{\"id\":\"4072\",\"type\":\"PanTool\"},{\"id\":\"4073\",\"type\":\"BoxZoomTool\"},{\"id\":\"4074\",\"type\":\"ResetTool\"},{\"id\":\"4075\",\"type\":\"SaveTool\"}]},\"id\":\"4076\",\"type\":\"Toolbar\"},{\"attributes\":{\"days\":[1,2,3,4,5,6,7,8,9,10,11,12,13,14,15,16,17,18,19,20,21,22,23,24,25,26,27,28,29,30,31]},\"id\":\"4317\",\"type\":\"DaysTicker\"},{\"attributes\":{\"plot\":null,\"text\":\"INFY Moving Average Close plot\"},\"id\":\"4051\",\"type\":\"Title\"},{\"attributes\":{\"axis_label\":\"y\",\"formatter\":{\"id\":\"4312\",\"type\":\"BasicTickFormatter\"},\"plot\":{\"id\":\"4052\",\"subtype\":\"Figure\",\"type\":\"Plot\"},\"ticker\":{\"id\":\"4068\",\"type\":\"BasicTicker\"}},\"id\":\"4067\",\"type\":\"LinearAxis\"},{\"attributes\":{\"bottom_units\":\"screen\",\"fill_alpha\":{\"value\":0.5},\"fill_color\":{\"value\":\"lightgrey\"},\"left_units\":\"screen\",\"level\":\"overlay\",\"line_alpha\":{\"value\":1.0},\"line_color\":{\"value\":\"black\"},\"line_dash\":[4,4],\"line_width\":{\"value\":2},\"plot\":null,\"render_mode\":\"css\",\"right_units\":\"screen\",\"top_units\":\"screen\"},\"id\":\"4077\",\"type\":\"BoxAnnotation\"},{\"attributes\":{},\"id\":\"4312\",\"type\":\"BasicTickFormatter\"},{\"attributes\":{\"line_alpha\":0.1,\"line_color\":\"#1f77b4\",\"line_width\":2,\"x\":{\"field\":\"x\"},\"y\":{\"field\":\"y\"}},\"id\":\"4085\",\"type\":\"Line\"},{\"attributes\":{},\"id\":\"4068\",\"type\":\"BasicTicker\"},{\"attributes\":{\"callback\":null},\"id\":\"4056\",\"type\":\"DataRange1d\"},{\"attributes\":{\"days\":[1,8,15,22]},\"id\":\"4319\",\"type\":\"DaysTicker\"},{\"attributes\":{\"dimension\":1,\"plot\":{\"id\":\"4052\",\"subtype\":\"Figure\",\"type\":\"Plot\"},\"ticker\":{\"id\":\"4068\",\"type\":\"BasicTicker\"}},\"id\":\"4071\",\"type\":\"Grid\"},{\"attributes\":{\"data_source\":{\"id\":\"4083\",\"type\":\"ColumnDataSource\"},\"glyph\":{\"id\":\"4084\",\"type\":\"Line\"},\"hover_glyph\":null,\"muted_glyph\":null,\"nonselection_glyph\":{\"id\":\"4085\",\"type\":\"Line\"},\"selection_glyph\":null,\"view\":{\"id\":\"4087\",\"type\":\"CDSView\"}},\"id\":\"4086\",\"type\":\"GlyphRenderer\"},{\"attributes\":{\"months\":[0,4,8]},\"id\":\"4323\",\"type\":\"MonthsTicker\"},{\"attributes\":{\"callback\":null},\"id\":\"4054\",\"type\":\"DataRange1d\"},{\"attributes\":{\"plot\":{\"id\":\"4052\",\"subtype\":\"Figure\",\"type\":\"Plot\"},\"ticker\":{\"id\":\"4063\",\"type\":\"DatetimeTicker\"}},\"id\":\"4066\",\"type\":\"Grid\"},{\"attributes\":{\"source\":{\"id\":\"4083\",\"type\":\"ColumnDataSource\"}},\"id\":\"4087\",\"type\":\"CDSView\"},{\"attributes\":{\"line_color\":\"#1f77b4\",\"line_width\":2,\"x\":{\"field\":\"x\"},\"y\":{\"field\":\"y\"}},\"id\":\"4084\",\"type\":\"Line\"},{\"attributes\":{},\"id\":\"4058\",\"type\":\"LinearScale\"},{\"attributes\":{},\"id\":\"4072\",\"type\":\"PanTool\"},{\"attributes\":{\"months\":[0,1,2,3,4,5,6,7,8,9,10,11]},\"id\":\"4321\",\"type\":\"MonthsTicker\"},{\"attributes\":{\"mantissas\":[1,2,5],\"max_interval\":500.0,\"num_minor_ticks\":0},\"id\":\"4314\",\"type\":\"AdaptiveTicker\"},{\"attributes\":{},\"id\":\"4060\",\"type\":\"LinearScale\"},{\"attributes\":{},\"id\":\"4327\",\"type\":\"Selection\"},{\"attributes\":{\"months\":[0,6]},\"id\":\"4324\",\"type\":\"MonthsTicker\"},{\"attributes\":{\"overlay\":{\"id\":\"4077\",\"type\":\"BoxAnnotation\"}},\"id\":\"4073\",\"type\":\"BoxZoomTool\"},{\"attributes\":{\"axis_label\":\"x\",\"formatter\":{\"id\":\"4310\",\"type\":\"DatetimeTickFormatter\"},\"plot\":{\"id\":\"4052\",\"subtype\":\"Figure\",\"type\":\"Plot\"},\"ticker\":{\"id\":\"4063\",\"type\":\"DatetimeTicker\"}},\"id\":\"4062\",\"type\":\"DatetimeAxis\"},{\"attributes\":{\"days\":[1,15]},\"id\":\"4320\",\"type\":\"DaysTicker\"},{\"attributes\":{\"months\":[0,2,4,6,8,10]},\"id\":\"4322\",\"type\":\"MonthsTicker\"},{\"attributes\":{},\"id\":\"4074\",\"type\":\"ResetTool\"},{\"attributes\":{\"callback\":null,\"data\":{\"x\":[1420070400000.0,1420156800000.0,1420416000000.0,1420502400000.0,1420588800000.0,1420675200000.0,1420761600000.0,1421020800000.0,1421107200000.0,1421193600000.0,1421280000000.0,1421366400000.0,1421625600000.0,1421712000000.0,1421798400000.0,1421884800000.0,1421971200000.0,1422316800000.0,1422403200000.0,1422489600000.0,1422576000000.0,1422835200000.0,1422921600000.0,1423008000000.0,1423094400000.0,1423180800000.0,1423440000000.0,1423526400000.0,1423612800000.0,1423699200000.0,1423785600000.0,1424044800000.0,1424217600000.0,1424304000000.0,1424390400000.0,1424649600000.0,1424736000000.0,1424822400000.0,1424908800000.0,1424995200000.0,1425081600000.0,1425254400000.0,1425340800000.0,1425427200000.0,1425513600000.0,1425859200000.0,1425945600000.0,1426032000000.0,1426118400000.0,1426204800000.0,1426464000000.0,1426550400000.0,1426636800000.0,1426723200000.0,1426809600000.0,1427068800000.0,1427155200000.0,1427241600000.0,1427328000000.0,1427414400000.0,1427673600000.0,1427760000000.0,1427846400000.0,1428278400000.0,1428364800000.0,1428451200000.0,1428537600000.0,1428624000000.0,1428883200000.0,1429056000000.0,1429142400000.0,1429228800000.0,1429488000000.0,1429574400000.0,1429660800000.0,1429747200000.0,1429833600000.0,1430092800000.0,1430179200000.0,1430265600000.0,1430352000000.0,1430697600000.0,1430784000000.0,1430870400000.0,1430956800000.0,1431043200000.0,1431302400000.0,1431388800000.0,1431475200000.0,1431561600000.0,1431648000000.0,1431907200000.0,1431993600000.0,1432080000000.0,1432166400000.0,1432252800000.0,1432512000000.0,1432598400000.0,1432684800000.0,1432771200000.0,1432857600000.0,1433116800000.0,1433203200000.0,1433289600000.0,1433376000000.0,1433462400000.0,1433721600000.0,1433808000000.0,1433894400000.0,1433980800000.0,1434067200000.0,1434326400000.0,1434412800000.0,1434499200000.0,1434585600000.0,1434672000000.0,1434931200000.0,1435017600000.0,1435104000000.0,1435190400000.0,1435276800000.0,1435536000000.0,1435622400000.0,1435708800000.0,1435795200000.0,1435881600000.0,1436140800000.0,1436227200000.0,1436313600000.0,1436400000000.0,1436486400000.0,1436745600000.0,1436832000000.0,1436918400000.0,1437004800000.0,1437091200000.0,1437350400000.0,1437436800000.0,1437523200000.0,1437609600000.0,1437696000000.0,1437955200000.0,1438041600000.0,1438128000000.0,1438214400000.0,1438300800000.0,1438560000000.0,1438646400000.0,1438732800000.0,1438819200000.0,1438905600000.0,1439164800000.0,1439251200000.0,1439337600000.0,1439424000000.0,1439510400000.0,1439769600000.0,1439856000000.0,1439942400000.0,1440028800000.0,1440115200000.0,1440374400000.0,1440460800000.0,1440547200000.0,1440633600000.0,1440720000000.0,1440979200000.0,1441065600000.0,1441152000000.0,1441238400000.0,1441324800000.0,1441584000000.0,1441670400000.0,1441756800000.0,1441843200000.0,1441929600000.0,1442188800000.0,1442275200000.0,1442361600000.0,1442534400000.0,1442793600000.0,1442880000000.0,1442966400000.0,1443052800000.0,1443398400000.0,1443484800000.0,1443571200000.0,1443657600000.0,1444003200000.0,1444089600000.0,1444176000000.0,1444262400000.0,1444348800000.0,1444608000000.0,1444694400000.0,1444780800000.0,1444867200000.0,1444953600000.0,1445212800000.0,1445299200000.0,1445385600000.0,1445558400000.0,1445817600000.0,1445904000000.0,1445990400000.0,1446076800000.0,1446163200000.0,1446422400000.0,1446508800000.0,1446595200000.0,1446681600000.0,1446768000000.0,1447027200000.0,1447113600000.0,1447200000000.0,1447372800000.0,1447632000000.0,1447718400000.0,1447804800000.0,1447891200000.0,1447977600000.0,1448236800000.0,1448323200000.0,1448496000000.0,1448582400000.0,1448841600000.0,1448928000000.0,1449014400000.0,1449100800000.0,1449187200000.0,1449446400000.0,1449532800000.0,1449619200000.0,1449705600000.0,1449792000000.0,1450051200000.0,1450137600000.0,1450224000000.0,1450310400000.0,1450396800000.0,1450656000000.0,1450742400000.0,1450828800000.0,1450915200000.0,1451260800000.0,1451347200000.0,1451433600000.0],\"y\":{\"__ndarray__\":\"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\",\"dtype\":\"float64\",\"shape\":[247]}},\"selected\":{\"id\":\"4327\",\"type\":\"Selection\"},\"selection_policy\":{\"id\":\"4326\",\"type\":\"UnionRenderers\"}},\"id\":\"4083\",\"type\":\"ColumnDataSource\"},{\"attributes\":{\"days\":[1,4,7,10,13,16,19,22,25,28]},\"id\":\"4318\",\"type\":\"DaysTicker\"},{\"attributes\":{\"base\":24,\"mantissas\":[1,2,4,6,8,12],\"max_interval\":43200000.0,\"min_interval\":3600000.0,\"num_minor_ticks\":0},\"id\":\"4316\",\"type\":\"AdaptiveTicker\"},{\"attributes\":{\"num_minor_ticks\":5,\"tickers\":[{\"id\":\"4314\",\"type\":\"AdaptiveTicker\"},{\"id\":\"4315\",\"type\":\"AdaptiveTicker\"},{\"id\":\"4316\",\"type\":\"AdaptiveTicker\"},{\"id\":\"4317\",\"type\":\"DaysTicker\"},{\"id\":\"4318\",\"type\":\"DaysTicker\"},{\"id\":\"4319\",\"type\":\"DaysTicker\"},{\"id\":\"4320\",\"type\":\"DaysTicker\"},{\"id\":\"4321\",\"type\":\"MonthsTicker\"},{\"id\":\"4322\",\"type\":\"MonthsTicker\"},{\"id\":\"4323\",\"type\":\"MonthsTicker\"},{\"id\":\"4324\",\"type\":\"MonthsTicker\"},{\"id\":\"4325\",\"type\":\"YearsTicker\"}]},\"id\":\"4063\",\"type\":\"DatetimeTicker\"},{\"attributes\":{\"base\":60,\"mantissas\":[1,2,5,10,15,20,30],\"max_interval\":1800000.0,\"min_interval\":1000.0,\"num_minor_ticks\":0},\"id\":\"4315\",\"type\":\"AdaptiveTicker\"},{\"attributes\":{},\"id\":\"4075\",\"type\":\"SaveTool\"},{\"attributes\":{},\"id\":\"4310\",\"type\":\"DatetimeTickFormatter\"}],\"root_ids\":[\"4052\"]},\"title\":\"Bokeh Application\",\"version\":\"1.0.2\"}};\n",
       "  var render_items = [{\"docid\":\"04e03306-bfc2-474a-8b42-814ed6c7b104\",\"roots\":{\"4052\":\"7e9b5dab-504f-4a87-b8b7-44e828855370\"}}];\n",
       "  root.Bokeh.embed.embed_items_notebook(docs_json, render_items);\n",
       "\n",
       "  }\n",
       "  if (root.Bokeh !== undefined) {\n",
       "    embed_document(root);\n",
       "  } else {\n",
       "    var attempts = 0;\n",
       "    var timer = setInterval(function(root) {\n",
       "      if (root.Bokeh !== undefined) {\n",
       "        embed_document(root);\n",
       "        clearInterval(timer);\n",
       "      }\n",
       "      attempts++;\n",
       "      if (attempts > 100) {\n",
       "        console.log(\"Bokeh: ERROR: Unable to run BokehJS code because BokehJS library is missing\");\n",
       "        clearInterval(timer);\n",
       "      }\n",
       "    }, 10, root)\n",
       "  }\n",
       "})(window);"
      ],
      "application/vnd.bokehjs_exec.v0+json": ""
     },
     "metadata": {
      "application/vnd.bokehjs_exec.v0+json": {
       "id": "4052"
      }
     },
     "output_type": "display_data"
    }
   ],
   "source": [
    "i = figure(title= 'INFY Moving Average Close plot', x_axis_label='x',x_axis_type=\"datetime\", y_axis_label='y',plot_width=800, plot_height=350,tools=\"pan,box_zoom,reset,save\")\n",
    "i.line(infy_ma.index,infy_ma,line_width=2)\n",
    "show(i)"
   ]
  },
  {
   "cell_type": "code",
   "execution_count": 41,
   "metadata": {},
   "outputs": [
    {
     "data": {
      "text/html": [
       "\n",
       "\n",
       "\n",
       "\n",
       "\n",
       "\n",
       "  <div class=\"bk-root\" id=\"444501ba-7d53-45fc-b764-654f8cc3d679\"></div>\n"
      ]
     },
     "metadata": {},
     "output_type": "display_data"
    },
    {
     "data": {
      "application/javascript": [
       "(function(root) {\n",
       "  function embed_document(root) {\n",
       "    \n",
       "  var docs_json = {\"54e589e1-d306-4be5-bd42-dc38161cc6ce\":{\"roots\":{\"references\":[{\"attributes\":{\"below\":[{\"id\":\"4459\",\"type\":\"DatetimeAxis\"}],\"left\":[{\"id\":\"4464\",\"type\":\"LinearAxis\"}],\"plot_height\":350,\"plot_width\":800,\"renderers\":[{\"id\":\"4459\",\"type\":\"DatetimeAxis\"},{\"id\":\"4463\",\"type\":\"Grid\"},{\"id\":\"4464\",\"type\":\"LinearAxis\"},{\"id\":\"4468\",\"type\":\"Grid\"},{\"id\":\"4474\",\"type\":\"BoxAnnotation\"},{\"id\":\"4483\",\"type\":\"GlyphRenderer\"}],\"title\":{\"id\":\"4448\",\"type\":\"Title\"},\"toolbar\":{\"id\":\"4473\",\"type\":\"Toolbar\"},\"x_range\":{\"id\":\"4451\",\"type\":\"DataRange1d\"},\"x_scale\":{\"id\":\"4455\",\"type\":\"LinearScale\"},\"y_range\":{\"id\":\"4453\",\"type\":\"DataRange1d\"},\"y_scale\":{\"id\":\"4457\",\"type\":\"LinearScale\"}},\"id\":\"4449\",\"subtype\":\"Figure\",\"type\":\"Plot\"},{\"attributes\":{\"plot\":{\"id\":\"4449\",\"subtype\":\"Figure\",\"type\":\"Plot\"},\"ticker\":{\"id\":\"4460\",\"type\":\"DatetimeTicker\"}},\"id\":\"4463\",\"type\":\"Grid\"},{\"attributes\":{\"axis_label\":\"y\",\"formatter\":{\"id\":\"4729\",\"type\":\"BasicTickFormatter\"},\"plot\":{\"id\":\"4449\",\"subtype\":\"Figure\",\"type\":\"Plot\"},\"ticker\":{\"id\":\"4465\",\"type\":\"BasicTicker\"}},\"id\":\"4464\",\"type\":\"LinearAxis\"},{\"attributes\":{\"callback\":null},\"id\":\"4451\",\"type\":\"DataRange1d\"},{\"attributes\":{\"source\":{\"id\":\"4480\",\"type\":\"ColumnDataSource\"}},\"id\":\"4484\",\"type\":\"CDSView\"},{\"attributes\":{\"callback\":null,\"data\":{\"x\":[1420070400000.0,1420156800000.0,1420416000000.0,1420502400000.0,1420588800000.0,1420675200000.0,1420761600000.0,1421020800000.0,1421107200000.0,1421193600000.0,1421280000000.0,1421366400000.0,1421625600000.0,1421712000000.0,1421798400000.0,1421884800000.0,1421971200000.0,1422316800000.0,1422403200000.0,1422489600000.0,1422576000000.0,1422835200000.0,1422921600000.0,1423008000000.0,1423094400000.0,1423180800000.0,1423440000000.0,1423526400000.0,1423612800000.0,1423699200000.0,1423785600000.0,1424044800000.0,1424217600000.0,1424304000000.0,1424390400000.0,1424649600000.0,1424736000000.0,1424822400000.0,1424908800000.0,1424995200000.0,1425081600000.0,1425254400000.0,1425340800000.0,1425427200000.0,1425513600000.0,1425859200000.0,1425945600000.0,1426032000000.0,1426118400000.0,1426204800000.0,1426464000000.0,1426550400000.0,1426636800000.0,1426723200000.0,1426809600000.0,1427068800000.0,1427155200000.0,1427241600000.0,1427328000000.0,1427414400000.0,1427673600000.0,1427760000000.0,1427846400000.0,1428278400000.0,1428364800000.0,1428451200000.0,1428537600000.0,1428624000000.0,1428883200000.0,1429056000000.0,1429142400000.0,1429228800000.0,1429488000000.0,1429574400000.0,1429660800000.0,1429747200000.0,1429833600000.0,1430092800000.0,1430179200000.0,1430265600000.0,1430352000000.0,1430697600000.0,1430784000000.0,1430870400000.0,1430956800000.0,1431043200000.0,1431302400000.0,1431388800000.0,1431475200000.0,1431561600000.0,1431648000000.0,1431907200000.0,1431993600000.0,1432080000000.0,1432166400000.0,1432252800000.0,1432512000000.0,1432598400000.0,1432684800000.0,1432771200000.0,1432857600000.0,1433116800000.0,1433203200000.0,1433289600000.0,1433376000000.0,1433462400000.0,1433721600000.0,1433808000000.0,1433894400000.0,1433980800000.0,1434067200000.0,1434326400000.0,1434412800000.0,1434499200000.0,1434585600000.0,1434672000000.0,1434931200000.0,1435017600000.0,1435104000000.0,1435190400000.0,1435276800000.0,1435536000000.0,1435622400000.0,1435708800000.0,1435795200000.0,1435881600000.0,1436140800000.0,1436227200000.0,1436313600000.0,1436400000000.0,1436486400000.0,1436745600000.0,1436832000000.0,1436918400000.0,1437004800000.0,1437091200000.0,1437350400000.0,1437436800000.0,1437523200000.0,1437609600000.0,1437696000000.0,1437955200000.0,1438041600000.0,1438128000000.0,1438214400000.0,1438300800000.0,1438560000000.0,1438646400000.0,1438732800000.0,1438819200000.0,1438905600000.0,1439164800000.0,1439251200000.0,1439337600000.0,1439424000000.0,1439510400000.0,1439769600000.0,1439856000000.0,1439942400000.0,1440028800000.0,1440115200000.0,1440374400000.0,1440460800000.0,1440547200000.0,1440633600000.0,1440720000000.0,1440979200000.0,1441065600000.0,1441152000000.0,1441238400000.0,1441324800000.0,1441584000000.0,1441670400000.0,1441756800000.0,1441843200000.0,1441929600000.0,1442188800000.0,1442275200000.0,1442361600000.0,1442534400000.0,1442793600000.0,1442880000000.0,1442966400000.0,1443052800000.0,1443398400000.0,1443484800000.0,1443571200000.0,1443657600000.0,1444003200000.0,1444089600000.0,1444176000000.0,1444262400000.0,1444348800000.0,1444608000000.0,1444694400000.0,1444780800000.0,1444867200000.0,1444953600000.0,1445212800000.0,1445299200000.0,1445385600000.0,1445558400000.0,1445817600000.0,1445904000000.0,1445990400000.0,1446076800000.0,1446163200000.0,1446422400000.0,1446508800000.0,1446595200000.0,1446681600000.0,1446768000000.0,1447027200000.0,1447113600000.0,1447200000000.0,1447372800000.0,1447632000000.0,1447718400000.0,1447804800000.0,1447891200000.0,1447977600000.0,1448236800000.0,1448323200000.0,1448496000000.0,1448582400000.0,1448841600000.0,1448928000000.0,1449014400000.0,1449100800000.0,1449187200000.0,1449446400000.0,1449532800000.0,1449619200000.0,1449705600000.0,1449792000000.0,1450051200000.0,1450137600000.0,1450224000000.0,1450310400000.0,1450396800000.0,1450656000000.0,1450742400000.0,1450828800000.0,1450915200000.0,1451260800000.0,1451347200000.0,1451433600000.0],\"y\":{\"__ndarray__\":\"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\",\"dtype\":\"float64\",\"shape\":[247]}},\"selected\":{\"id\":\"4744\",\"type\":\"Selection\"},\"selection_policy\":{\"id\":\"4743\",\"type\":\"UnionRenderers\"}},\"id\":\"4480\",\"type\":\"ColumnDataSource\"},{\"attributes\":{\"plot\":null,\"text\":\"TCS Moving Average Close plot\"},\"id\":\"4448\",\"type\":\"Title\"},{\"attributes\":{\"callback\":null},\"id\":\"4453\",\"type\":\"DataRange1d\"},{\"attributes\":{\"days\":[1,2,3,4,5,6,7,8,9,10,11,12,13,14,15,16,17,18,19,20,21,22,23,24,25,26,27,28,29,30,31]},\"id\":\"4734\",\"type\":\"DaysTicker\"},{\"attributes\":{\"line_color\":\"#1f77b4\",\"line_width\":2,\"x\":{\"field\":\"x\"},\"y\":{\"field\":\"y\"}},\"id\":\"4481\",\"type\":\"Line\"},{\"attributes\":{\"mantissas\":[1,2,5],\"max_interval\":500.0,\"num_minor_ticks\":0},\"id\":\"4731\",\"type\":\"AdaptiveTicker\"},{\"attributes\":{\"days\":[1,8,15,22]},\"id\":\"4736\",\"type\":\"DaysTicker\"},{\"attributes\":{\"months\":[0,4,8]},\"id\":\"4740\",\"type\":\"MonthsTicker\"},{\"attributes\":{},\"id\":\"4729\",\"type\":\"BasicTickFormatter\"},{\"attributes\":{\"base\":24,\"mantissas\":[1,2,4,6,8,12],\"max_interval\":43200000.0,\"min_interval\":3600000.0,\"num_minor_ticks\":0},\"id\":\"4733\",\"type\":\"AdaptiveTicker\"},{\"attributes\":{},\"id\":\"4472\",\"type\":\"SaveTool\"},{\"attributes\":{\"overlay\":{\"id\":\"4474\",\"type\":\"BoxAnnotation\"}},\"id\":\"4470\",\"type\":\"BoxZoomTool\"},{\"attributes\":{\"months\":[0,2,4,6,8,10]},\"id\":\"4739\",\"type\":\"MonthsTicker\"},{\"attributes\":{},\"id\":\"4743\",\"type\":\"UnionRenderers\"},{\"attributes\":{\"num_minor_ticks\":5,\"tickers\":[{\"id\":\"4731\",\"type\":\"AdaptiveTicker\"},{\"id\":\"4732\",\"type\":\"AdaptiveTicker\"},{\"id\":\"4733\",\"type\":\"AdaptiveTicker\"},{\"id\":\"4734\",\"type\":\"DaysTicker\"},{\"id\":\"4735\",\"type\":\"DaysTicker\"},{\"id\":\"4736\",\"type\":\"DaysTicker\"},{\"id\":\"4737\",\"type\":\"DaysTicker\"},{\"id\":\"4738\",\"type\":\"MonthsTicker\"},{\"id\":\"4739\",\"type\":\"MonthsTicker\"},{\"id\":\"4740\",\"type\":\"MonthsTicker\"},{\"id\":\"4741\",\"type\":\"MonthsTicker\"},{\"id\":\"4742\",\"type\":\"YearsTicker\"}]},\"id\":\"4460\",\"type\":\"DatetimeTicker\"},{\"attributes\":{\"bottom_units\":\"screen\",\"fill_alpha\":{\"value\":0.5},\"fill_color\":{\"value\":\"lightgrey\"},\"left_units\":\"screen\",\"level\":\"overlay\",\"line_alpha\":{\"value\":1.0},\"line_color\":{\"value\":\"black\"},\"line_dash\":[4,4],\"line_width\":{\"value\":2},\"plot\":null,\"render_mode\":\"css\",\"right_units\":\"screen\",\"top_units\":\"screen\"},\"id\":\"4474\",\"type\":\"BoxAnnotation\"},{\"attributes\":{\"dimension\":1,\"plot\":{\"id\":\"4449\",\"subtype\":\"Figure\",\"type\":\"Plot\"},\"ticker\":{\"id\":\"4465\",\"type\":\"BasicTicker\"}},\"id\":\"4468\",\"type\":\"Grid\"},{\"attributes\":{},\"id\":\"4742\",\"type\":\"YearsTicker\"},{\"attributes\":{\"data_source\":{\"id\":\"4480\",\"type\":\"ColumnDataSource\"},\"glyph\":{\"id\":\"4481\",\"type\":\"Line\"},\"hover_glyph\":null,\"muted_glyph\":null,\"nonselection_glyph\":{\"id\":\"4482\",\"type\":\"Line\"},\"selection_glyph\":null,\"view\":{\"id\":\"4484\",\"type\":\"CDSView\"}},\"id\":\"4483\",\"type\":\"GlyphRenderer\"},{\"attributes\":{},\"id\":\"4465\",\"type\":\"BasicTicker\"},{\"attributes\":{\"base\":60,\"mantissas\":[1,2,5,10,15,20,30],\"max_interval\":1800000.0,\"min_interval\":1000.0,\"num_minor_ticks\":0},\"id\":\"4732\",\"type\":\"AdaptiveTicker\"},{\"attributes\":{\"months\":[0,1,2,3,4,5,6,7,8,9,10,11]},\"id\":\"4738\",\"type\":\"MonthsTicker\"},{\"attributes\":{\"active_drag\":\"auto\",\"active_inspect\":\"auto\",\"active_multi\":null,\"active_scroll\":\"auto\",\"active_tap\":\"auto\",\"tools\":[{\"id\":\"4469\",\"type\":\"PanTool\"},{\"id\":\"4470\",\"type\":\"BoxZoomTool\"},{\"id\":\"4471\",\"type\":\"ResetTool\"},{\"id\":\"4472\",\"type\":\"SaveTool\"}]},\"id\":\"4473\",\"type\":\"Toolbar\"},{\"attributes\":{\"months\":[0,6]},\"id\":\"4741\",\"type\":\"MonthsTicker\"},{\"attributes\":{},\"id\":\"4469\",\"type\":\"PanTool\"},{\"attributes\":{},\"id\":\"4457\",\"type\":\"LinearScale\"},{\"attributes\":{\"days\":[1,4,7,10,13,16,19,22,25,28]},\"id\":\"4735\",\"type\":\"DaysTicker\"},{\"attributes\":{},\"id\":\"4455\",\"type\":\"LinearScale\"},{\"attributes\":{\"axis_label\":\"x\",\"formatter\":{\"id\":\"4727\",\"type\":\"DatetimeTickFormatter\"},\"plot\":{\"id\":\"4449\",\"subtype\":\"Figure\",\"type\":\"Plot\"},\"ticker\":{\"id\":\"4460\",\"type\":\"DatetimeTicker\"}},\"id\":\"4459\",\"type\":\"DatetimeAxis\"},{\"attributes\":{},\"id\":\"4744\",\"type\":\"Selection\"},{\"attributes\":{\"line_alpha\":0.1,\"line_color\":\"#1f77b4\",\"line_width\":2,\"x\":{\"field\":\"x\"},\"y\":{\"field\":\"y\"}},\"id\":\"4482\",\"type\":\"Line\"},{\"attributes\":{\"days\":[1,15]},\"id\":\"4737\",\"type\":\"DaysTicker\"},{\"attributes\":{},\"id\":\"4727\",\"type\":\"DatetimeTickFormatter\"},{\"attributes\":{},\"id\":\"4471\",\"type\":\"ResetTool\"}],\"root_ids\":[\"4449\"]},\"title\":\"Bokeh Application\",\"version\":\"1.0.2\"}};\n",
       "  var render_items = [{\"docid\":\"54e589e1-d306-4be5-bd42-dc38161cc6ce\",\"roots\":{\"4449\":\"444501ba-7d53-45fc-b764-654f8cc3d679\"}}];\n",
       "  root.Bokeh.embed.embed_items_notebook(docs_json, render_items);\n",
       "\n",
       "  }\n",
       "  if (root.Bokeh !== undefined) {\n",
       "    embed_document(root);\n",
       "  } else {\n",
       "    var attempts = 0;\n",
       "    var timer = setInterval(function(root) {\n",
       "      if (root.Bokeh !== undefined) {\n",
       "        embed_document(root);\n",
       "        clearInterval(timer);\n",
       "      }\n",
       "      attempts++;\n",
       "      if (attempts > 100) {\n",
       "        console.log(\"Bokeh: ERROR: Unable to run BokehJS code because BokehJS library is missing\");\n",
       "        clearInterval(timer);\n",
       "      }\n",
       "    }, 10, root)\n",
       "  }\n",
       "})(window);"
      ],
      "application/vnd.bokehjs_exec.v0+json": ""
     },
     "metadata": {
      "application/vnd.bokehjs_exec.v0+json": {
       "id": "4449"
      }
     },
     "output_type": "display_data"
    }
   ],
   "source": [
    "i = figure(title= 'TCS Moving Average Close plot', x_axis_label='x',x_axis_type=\"datetime\", y_axis_label='y',plot_width=800, plot_height=350,tools=\"pan,box_zoom,reset,save\")\n",
    "i.line(tcs_ma.index,tcs_ma,line_width=2)\n",
    "show(i)"
   ]
  },
  {
   "cell_type": "code",
   "execution_count": 42,
   "metadata": {},
   "outputs": [
    {
     "data": {
      "text/html": [
       "\n",
       "\n",
       "\n",
       "\n",
       "\n",
       "\n",
       "  <div class=\"bk-root\" id=\"83d8a58c-1617-47fd-b8bd-867837945dfb\"></div>\n"
      ]
     },
     "metadata": {},
     "output_type": "display_data"
    },
    {
     "data": {
      "application/javascript": [
       "(function(root) {\n",
       "  function embed_document(root) {\n",
       "    \n",
       "  var docs_json = {\"bd023506-2f8e-43a4-b8aa-4982aa88c305\":{\"roots\":{\"references\":[{\"attributes\":{\"below\":[{\"id\":\"4876\",\"type\":\"DatetimeAxis\"}],\"left\":[{\"id\":\"4881\",\"type\":\"LinearAxis\"}],\"plot_height\":350,\"plot_width\":800,\"renderers\":[{\"id\":\"4876\",\"type\":\"DatetimeAxis\"},{\"id\":\"4880\",\"type\":\"Grid\"},{\"id\":\"4881\",\"type\":\"LinearAxis\"},{\"id\":\"4885\",\"type\":\"Grid\"},{\"id\":\"4891\",\"type\":\"BoxAnnotation\"},{\"id\":\"4900\",\"type\":\"GlyphRenderer\"}],\"title\":{\"id\":\"4865\",\"type\":\"Title\"},\"toolbar\":{\"id\":\"4890\",\"type\":\"Toolbar\"},\"x_range\":{\"id\":\"4868\",\"type\":\"DataRange1d\"},\"x_scale\":{\"id\":\"4872\",\"type\":\"LinearScale\"},\"y_range\":{\"id\":\"4870\",\"type\":\"DataRange1d\"},\"y_scale\":{\"id\":\"4874\",\"type\":\"LinearScale\"}},\"id\":\"4866\",\"subtype\":\"Figure\",\"type\":\"Plot\"},{\"attributes\":{\"line_color\":\"#1f77b4\",\"line_width\":2,\"x\":{\"field\":\"x\"},\"y\":{\"field\":\"y\"}},\"id\":\"4898\",\"type\":\"Line\"},{\"attributes\":{\"active_drag\":\"auto\",\"active_inspect\":\"auto\",\"active_multi\":null,\"active_scroll\":\"auto\",\"active_tap\":\"auto\",\"tools\":[{\"id\":\"4886\",\"type\":\"PanTool\"},{\"id\":\"4887\",\"type\":\"BoxZoomTool\"},{\"id\":\"4888\",\"type\":\"ResetTool\"},{\"id\":\"4889\",\"type\":\"SaveTool\"}]},\"id\":\"4890\",\"type\":\"Toolbar\"},{\"attributes\":{\"bottom_units\":\"screen\",\"fill_alpha\":{\"value\":0.5},\"fill_color\":{\"value\":\"lightgrey\"},\"left_units\":\"screen\",\"level\":\"overlay\",\"line_alpha\":{\"value\":1.0},\"line_color\":{\"value\":\"black\"},\"line_dash\":[4,4],\"line_width\":{\"value\":2},\"plot\":null,\"render_mode\":\"css\",\"right_units\":\"screen\",\"top_units\":\"screen\"},\"id\":\"4891\",\"type\":\"BoxAnnotation\"},{\"attributes\":{\"axis_label\":\"x\",\"formatter\":{\"id\":\"5164\",\"type\":\"DatetimeTickFormatter\"},\"plot\":{\"id\":\"4866\",\"subtype\":\"Figure\",\"type\":\"Plot\"},\"ticker\":{\"id\":\"4877\",\"type\":\"DatetimeTicker\"}},\"id\":\"4876\",\"type\":\"DatetimeAxis\"},{\"attributes\":{},\"id\":\"4888\",\"type\":\"ResetTool\"},{\"attributes\":{\"plot\":{\"id\":\"4866\",\"subtype\":\"Figure\",\"type\":\"Plot\"},\"ticker\":{\"id\":\"4877\",\"type\":\"DatetimeTicker\"}},\"id\":\"4880\",\"type\":\"Grid\"},{\"attributes\":{\"base\":60,\"mantissas\":[1,2,5,10,15,20,30],\"max_interval\":1800000.0,\"min_interval\":1000.0,\"num_minor_ticks\":0},\"id\":\"5169\",\"type\":\"AdaptiveTicker\"},{\"attributes\":{\"days\":[1,2,3,4,5,6,7,8,9,10,11,12,13,14,15,16,17,18,19,20,21,22,23,24,25,26,27,28,29,30,31]},\"id\":\"5171\",\"type\":\"DaysTicker\"},{\"attributes\":{\"callback\":null},\"id\":\"4870\",\"type\":\"DataRange1d\"},{\"attributes\":{\"dimension\":1,\"plot\":{\"id\":\"4866\",\"subtype\":\"Figure\",\"type\":\"Plot\"},\"ticker\":{\"id\":\"4882\",\"type\":\"BasicTicker\"}},\"id\":\"4885\",\"type\":\"Grid\"},{\"attributes\":{\"plot\":null,\"text\":\"NIFTY IT Moving Average Close plot\"},\"id\":\"4865\",\"type\":\"Title\"},{\"attributes\":{\"data_source\":{\"id\":\"4897\",\"type\":\"ColumnDataSource\"},\"glyph\":{\"id\":\"4898\",\"type\":\"Line\"},\"hover_glyph\":null,\"muted_glyph\":null,\"nonselection_glyph\":{\"id\":\"4899\",\"type\":\"Line\"},\"selection_glyph\":null,\"view\":{\"id\":\"4901\",\"type\":\"CDSView\"}},\"id\":\"4900\",\"type\":\"GlyphRenderer\"},{\"attributes\":{},\"id\":\"4886\",\"type\":\"PanTool\"},{\"attributes\":{},\"id\":\"5164\",\"type\":\"DatetimeTickFormatter\"},{\"attributes\":{},\"id\":\"4889\",\"type\":\"SaveTool\"},{\"attributes\":{\"months\":[0,1,2,3,4,5,6,7,8,9,10,11]},\"id\":\"5175\",\"type\":\"MonthsTicker\"},{\"attributes\":{},\"id\":\"4874\",\"type\":\"LinearScale\"},{\"attributes\":{\"days\":[1,4,7,10,13,16,19,22,25,28]},\"id\":\"5172\",\"type\":\"DaysTicker\"},{\"attributes\":{\"callback\":null,\"data\":{\"x\":[0,1,2,3,4,5,6,7,8,9,10,11,12,13,14,15,16,17,18,19,20,21,22,23,24,25,26,27,28,29,30,31,32,33,34,35,36,37,38,39,40,41,42,43,44,45,46,47,48,49,50,51,52,53,54,55,56,57,58,59,60,61,62,63,64,65,66,67,68,69,70,71,72,73,74,75,76,77,78,79,80,81,82,83,84,85,86,87,88,89,90,91,92,93,94,95,96,97,98,99,100,101,102,103,104,105,106,107,108,109,110,111,112,113,114,115,116,117,118,119,120,121,122,123,124,125,126,127,128,129,130,131,132,133,134,135,136,137,138,139,140,141,142,143,144,145,146,147,148,149,150,151,152,153,154,155,156,157,158,159,160,161,162,163,164,165,166,167,168,169,170,171,172,173,174,175,176,177,178,179,180,181,182,183,184,185,186,187,188,189,190,191,192,193,194,195,196,197,198,199,200,201,202,203,204,205,206,207,208,209,210,211,212,213,214,215,216,217,218,219,220,221,222,223,224,225,226,227,228,229,230,231,232,233,234,235,236,237,238,239,240,241,242,243,244,245,246],\"y\":{\"__ndarray__\":\"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\",\"dtype\":\"float64\",\"shape\":[247]}},\"selected\":{\"id\":\"5181\",\"type\":\"Selection\"},\"selection_policy\":{\"id\":\"5180\",\"type\":\"UnionRenderers\"}},\"id\":\"4897\",\"type\":\"ColumnDataSource\"},{\"attributes\":{\"months\":[0,2,4,6,8,10]},\"id\":\"5176\",\"type\":\"MonthsTicker\"},{\"attributes\":{\"months\":[0,6]},\"id\":\"5178\",\"type\":\"MonthsTicker\"},{\"attributes\":{\"base\":24,\"mantissas\":[1,2,4,6,8,12],\"max_interval\":43200000.0,\"min_interval\":3600000.0,\"num_minor_ticks\":0},\"id\":\"5170\",\"type\":\"AdaptiveTicker\"},{\"attributes\":{},\"id\":\"5181\",\"type\":\"Selection\"},{\"attributes\":{},\"id\":\"5180\",\"type\":\"UnionRenderers\"},{\"attributes\":{\"axis_label\":\"y\",\"formatter\":{\"id\":\"5166\",\"type\":\"BasicTickFormatter\"},\"plot\":{\"id\":\"4866\",\"subtype\":\"Figure\",\"type\":\"Plot\"},\"ticker\":{\"id\":\"4882\",\"type\":\"BasicTicker\"}},\"id\":\"4881\",\"type\":\"LinearAxis\"},{\"attributes\":{\"mantissas\":[1,2,5],\"max_interval\":500.0,\"num_minor_ticks\":0},\"id\":\"5168\",\"type\":\"AdaptiveTicker\"},{\"attributes\":{},\"id\":\"4872\",\"type\":\"LinearScale\"},{\"attributes\":{\"line_alpha\":0.1,\"line_color\":\"#1f77b4\",\"line_width\":2,\"x\":{\"field\":\"x\"},\"y\":{\"field\":\"y\"}},\"id\":\"4899\",\"type\":\"Line\"},{\"attributes\":{},\"id\":\"5166\",\"type\":\"BasicTickFormatter\"},{\"attributes\":{},\"id\":\"4882\",\"type\":\"BasicTicker\"},{\"attributes\":{\"days\":[1,8,15,22]},\"id\":\"5173\",\"type\":\"DaysTicker\"},{\"attributes\":{\"days\":[1,15]},\"id\":\"5174\",\"type\":\"DaysTicker\"},{\"attributes\":{\"callback\":null},\"id\":\"4868\",\"type\":\"DataRange1d\"},{\"attributes\":{\"months\":[0,4,8]},\"id\":\"5177\",\"type\":\"MonthsTicker\"},{\"attributes\":{},\"id\":\"5179\",\"type\":\"YearsTicker\"},{\"attributes\":{\"num_minor_ticks\":5,\"tickers\":[{\"id\":\"5168\",\"type\":\"AdaptiveTicker\"},{\"id\":\"5169\",\"type\":\"AdaptiveTicker\"},{\"id\":\"5170\",\"type\":\"AdaptiveTicker\"},{\"id\":\"5171\",\"type\":\"DaysTicker\"},{\"id\":\"5172\",\"type\":\"DaysTicker\"},{\"id\":\"5173\",\"type\":\"DaysTicker\"},{\"id\":\"5174\",\"type\":\"DaysTicker\"},{\"id\":\"5175\",\"type\":\"MonthsTicker\"},{\"id\":\"5176\",\"type\":\"MonthsTicker\"},{\"id\":\"5177\",\"type\":\"MonthsTicker\"},{\"id\":\"5178\",\"type\":\"MonthsTicker\"},{\"id\":\"5179\",\"type\":\"YearsTicker\"}]},\"id\":\"4877\",\"type\":\"DatetimeTicker\"},{\"attributes\":{\"overlay\":{\"id\":\"4891\",\"type\":\"BoxAnnotation\"}},\"id\":\"4887\",\"type\":\"BoxZoomTool\"},{\"attributes\":{\"source\":{\"id\":\"4897\",\"type\":\"ColumnDataSource\"}},\"id\":\"4901\",\"type\":\"CDSView\"}],\"root_ids\":[\"4866\"]},\"title\":\"Bokeh Application\",\"version\":\"1.0.2\"}};\n",
       "  var render_items = [{\"docid\":\"bd023506-2f8e-43a4-b8aa-4982aa88c305\",\"roots\":{\"4866\":\"83d8a58c-1617-47fd-b8bd-867837945dfb\"}}];\n",
       "  root.Bokeh.embed.embed_items_notebook(docs_json, render_items);\n",
       "\n",
       "  }\n",
       "  if (root.Bokeh !== undefined) {\n",
       "    embed_document(root);\n",
       "  } else {\n",
       "    var attempts = 0;\n",
       "    var timer = setInterval(function(root) {\n",
       "      if (root.Bokeh !== undefined) {\n",
       "        embed_document(root);\n",
       "        clearInterval(timer);\n",
       "      }\n",
       "      attempts++;\n",
       "      if (attempts > 100) {\n",
       "        console.log(\"Bokeh: ERROR: Unable to run BokehJS code because BokehJS library is missing\");\n",
       "        clearInterval(timer);\n",
       "      }\n",
       "    }, 10, root)\n",
       "  }\n",
       "})(window);"
      ],
      "application/vnd.bokehjs_exec.v0+json": ""
     },
     "metadata": {
      "application/vnd.bokehjs_exec.v0+json": {
       "id": "4866"
      }
     },
     "output_type": "display_data"
    }
   ],
   "source": [
    "i = figure(title= 'NIFTY IT Moving Average Close plot', x_axis_label='x',x_axis_type=\"datetime\", y_axis_label='y',plot_width=800, plot_height=350,tools=\"pan,box_zoom,reset,save\")\n",
    "i.line(niftyit_ma.index,niftyit_ma,line_width=2)\n",
    "show(i)"
   ]
  },
  {
   "cell_type": "markdown",
   "metadata": {},
   "source": [
    "# 3.1 "
   ]
  },
  {
   "cell_type": "code",
   "execution_count": 46,
   "metadata": {},
   "outputs": [],
   "source": [
    "def Volume_shocks(data):\n",
    "    data['Prev_Volume']=data['Volume'].shift(+1)\n",
    "    data.Prev_Volume.fillna(value=data.Volume[0],inplace=True)\n",
    "    data['%Volume_Inc']=100*(data['Volume']-data['Prev_Volume'])/data['Prev_Volume']\n",
    "    data['Volume_is_shock']=[1 if abs(i)>10 else 0 for i in data['%Volume_Inc']]\n",
    "    data['direction_of_Volume_shock']=[1 if i>=0 else 0 for i in data['%Volume_Inc']]\n",
    "    return(data)"
   ]
  },
  {
   "cell_type": "code",
   "execution_count": 50,
   "metadata": {},
   "outputs": [],
   "source": [
    "infy=Volume_shocks(infy)\n",
    "tcs=Volume_shocks(tcs)"
   ]
  },
  {
   "cell_type": "code",
   "execution_count": 83,
   "metadata": {},
   "outputs": [
    {
     "data": {
      "text/html": [
       "\n",
       "\n",
       "\n",
       "\n",
       "\n",
       "\n",
       "  <div class=\"bk-root\" id=\"e7282d96-a170-468c-860a-e00cbe65ecf1\"></div>\n"
      ]
     },
     "metadata": {},
     "output_type": "display_data"
    },
    {
     "data": {
      "application/javascript": [
       "(function(root) {\n",
       "  function embed_document(root) {\n",
       "    \n",
       "  var docs_json = {\"63bd7f43-7f18-4757-8b95-e305b53a20c1\":{\"roots\":{\"references\":[{\"attributes\":{\"below\":[{\"id\":\"19214\",\"type\":\"DatetimeAxis\"}],\"left\":[{\"id\":\"19219\",\"type\":\"LinearAxis\"}],\"plot_height\":350,\"plot_width\":800,\"renderers\":[{\"id\":\"19214\",\"type\":\"DatetimeAxis\"},{\"id\":\"19218\",\"type\":\"Grid\"},{\"id\":\"19219\",\"type\":\"LinearAxis\"},{\"id\":\"19223\",\"type\":\"Grid\"},{\"id\":\"19229\",\"type\":\"BoxAnnotation\"},{\"id\":\"19258\",\"type\":\"Legend\"},{\"id\":\"19238\",\"type\":\"GlyphRenderer\"},{\"id\":\"19263\",\"type\":\"GlyphRenderer\"}],\"title\":{\"id\":\"19203\",\"type\":\"Title\"},\"toolbar\":{\"id\":\"19228\",\"type\":\"Toolbar\"},\"x_range\":{\"id\":\"19206\",\"type\":\"DataRange1d\"},\"x_scale\":{\"id\":\"19210\",\"type\":\"LinearScale\"},\"y_range\":{\"id\":\"19208\",\"type\":\"DataRange1d\"},\"y_scale\":{\"id\":\"19212\",\"type\":\"LinearScale\"}},\"id\":\"19204\",\"subtype\":\"Figure\",\"type\":\"Plot\"},{\"attributes\":{\"active_drag\":\"auto\",\"active_inspect\":\"auto\",\"active_multi\":null,\"active_scroll\":\"auto\",\"active_tap\":\"auto\",\"tools\":[{\"id\":\"19224\",\"type\":\"PanTool\"},{\"id\":\"19225\",\"type\":\"BoxZoomTool\"},{\"id\":\"19226\",\"type\":\"ResetTool\"},{\"id\":\"19227\",\"type\":\"SaveTool\"}]},\"id\":\"19228\",\"type\":\"Toolbar\"},{\"attributes\":{},\"id\":\"19224\",\"type\":\"PanTool\"},{\"attributes\":{\"data_source\":{\"id\":\"19260\",\"type\":\"ColumnDataSource\"},\"glyph\":{\"id\":\"19261\",\"type\":\"Line\"},\"hover_glyph\":null,\"muted_glyph\":null,\"nonselection_glyph\":{\"id\":\"19262\",\"type\":\"Line\"},\"selection_glyph\":null,\"view\":{\"id\":\"19264\",\"type\":\"CDSView\"}},\"id\":\"19263\",\"type\":\"GlyphRenderer\"},{\"attributes\":{\"source\":{\"id\":\"19235\",\"type\":\"ColumnDataSource\"}},\"id\":\"19239\",\"type\":\"CDSView\"},{\"attributes\":{\"months\":[0,6]},\"id\":\"19256\",\"type\":\"MonthsTicker\"},{\"attributes\":{\"dimension\":1,\"plot\":{\"id\":\"19204\",\"subtype\":\"Figure\",\"type\":\"Plot\"},\"ticker\":{\"id\":\"19220\",\"type\":\"BasicTicker\"}},\"id\":\"19223\",\"type\":\"Grid\"},{\"attributes\":{},\"id\":\"19226\",\"type\":\"ResetTool\"},{\"attributes\":{\"days\":[1,15]},\"id\":\"19252\",\"type\":\"DaysTicker\"},{\"attributes\":{\"base\":24,\"mantissas\":[1,2,4,6,8,12],\"max_interval\":43200000.0,\"min_interval\":3600000.0,\"num_minor_ticks\":0},\"id\":\"19248\",\"type\":\"AdaptiveTicker\"},{\"attributes\":{\"days\":[1,2,3,4,5,6,7,8,9,10,11,12,13,14,15,16,17,18,19,20,21,22,23,24,25,26,27,28,29,30,31]},\"id\":\"19249\",\"type\":\"DaysTicker\"},{\"attributes\":{\"bottom_units\":\"screen\",\"fill_alpha\":{\"value\":0.5},\"fill_color\":{\"value\":\"lightgrey\"},\"left_units\":\"screen\",\"level\":\"overlay\",\"line_alpha\":{\"value\":1.0},\"line_color\":{\"value\":\"black\"},\"line_dash\":[4,4],\"line_width\":{\"value\":2},\"plot\":null,\"render_mode\":\"css\",\"right_units\":\"screen\",\"top_units\":\"screen\"},\"id\":\"19229\",\"type\":\"BoxAnnotation\"},{\"attributes\":{},\"id\":\"19257\",\"type\":\"YearsTicker\"},{\"attributes\":{},\"id\":\"19284\",\"type\":\"Selection\"},{\"attributes\":{},\"id\":\"20012\",\"type\":\"UnionRenderers\"},{\"attributes\":{\"callback\":null,\"data\":{\"x\":[1420070400000.0,1420156800000.0,1420416000000.0,1420502400000.0,1420588800000.0,1420675200000.0,1420761600000.0,1421020800000.0,1421107200000.0,1421193600000.0,1421280000000.0,1421366400000.0,1421625600000.0,1421712000000.0,1421798400000.0,1421884800000.0,1421971200000.0,1422316800000.0,1422403200000.0,1422489600000.0,1422576000000.0,1422835200000.0,1422921600000.0,1423008000000.0,1423094400000.0,1423180800000.0,1423440000000.0,1423526400000.0,1423612800000.0,1423699200000.0,1423785600000.0,1424044800000.0,1424217600000.0,1424304000000.0,1424390400000.0,1424649600000.0,1424736000000.0,1424822400000.0,1424908800000.0,1424995200000.0,1425081600000.0,1425254400000.0,1425340800000.0,1425427200000.0,1425513600000.0,1425859200000.0,1425945600000.0,1426032000000.0,1426118400000.0,1426204800000.0,1426464000000.0,1426550400000.0,1426636800000.0,1426723200000.0,1426809600000.0,1427068800000.0,1427155200000.0,1427241600000.0,1427328000000.0,1427414400000.0,1427673600000.0,1427760000000.0,1427846400000.0,1428278400000.0,1428364800000.0,1428451200000.0,1428537600000.0,1428624000000.0,1428883200000.0,1429056000000.0,1429142400000.0,1429228800000.0,1429488000000.0,1429574400000.0,1429660800000.0,1429747200000.0,1429833600000.0,1430092800000.0,1430179200000.0,1430265600000.0,1430352000000.0,1430697600000.0,1430784000000.0,1430870400000.0,1430956800000.0,1431043200000.0,1431302400000.0,1431388800000.0,1431475200000.0,1431561600000.0,1431648000000.0,1431907200000.0,1431993600000.0,1432080000000.0,1432166400000.0,1432252800000.0,1432512000000.0,1432598400000.0,1432684800000.0,1432771200000.0,1432857600000.0,1433116800000.0,1433203200000.0,1433289600000.0,1433376000000.0,1433462400000.0,1433721600000.0,1433808000000.0,1433894400000.0,1433980800000.0,1434067200000.0,1434326400000.0,1434412800000.0,1434499200000.0,1434585600000.0,1434672000000.0,1434931200000.0,1435017600000.0,1435104000000.0,1435190400000.0,1435276800000.0,1435536000000.0,1435622400000.0,1435708800000.0,1435795200000.0,1435881600000.0,1436140800000.0,1436227200000.0,1436313600000.0,1436400000000.0,1436486400000.0,1436745600000.0,1436832000000.0,1436918400000.0,1437004800000.0,1437091200000.0,1437350400000.0,1437436800000.0,1437523200000.0,1437609600000.0,1437696000000.0,1437955200000.0,1438041600000.0,1438128000000.0,1438214400000.0,1438300800000.0,1438560000000.0,1438646400000.0,1438732800000.0,1438819200000.0,1438905600000.0,1439164800000.0,1439251200000.0,1439337600000.0,1439424000000.0,1439510400000.0,1439769600000.0,1439856000000.0,1439942400000.0,1440028800000.0,1440115200000.0,1440374400000.0,1440460800000.0,1440547200000.0,1440633600000.0,1440720000000.0,1440979200000.0,1441065600000.0,1441152000000.0,1441238400000.0,1441324800000.0,1441584000000.0,1441670400000.0,1441756800000.0,1441843200000.0,1441929600000.0,1442188800000.0,1442275200000.0,1442361600000.0,1442534400000.0,1442793600000.0,1442880000000.0,1442966400000.0,1443052800000.0,1443398400000.0,1443484800000.0,1443571200000.0,1443657600000.0,1444003200000.0,1444089600000.0,1444176000000.0,1444262400000.0,1444348800000.0,1444608000000.0,1444694400000.0,1444780800000.0,1444867200000.0,1444953600000.0,1445212800000.0,1445299200000.0,1445385600000.0,1445558400000.0,1445817600000.0,1445904000000.0,1445990400000.0,1446076800000.0,1446163200000.0,1446422400000.0,1446508800000.0,1446595200000.0,1446681600000.0,1446768000000.0,1447027200000.0,1447113600000.0,1447200000000.0,1447372800000.0,1447632000000.0,1447718400000.0,1447804800000.0,1447891200000.0,1447977600000.0,1448236800000.0,1448323200000.0,1448496000000.0,1448582400000.0,1448841600000.0,1448928000000.0,1449014400000.0,1449100800000.0,1449187200000.0,1449446400000.0,1449532800000.0,1449619200000.0,1449705600000.0,1449792000000.0,1450051200000.0,1450137600000.0,1450224000000.0,1450310400000.0,1450396800000.0,1450656000000.0,1450742400000.0,1450828800000.0,1450915200000.0,1451260800000.0,1451347200000.0,1451433600000.0],\"y\":{\"__ndarray__\":\"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\",\"dtype\":\"float64\",\"shape\":[247]}},\"selected\":{\"id\":\"19284\",\"type\":\"Selection\"},\"selection_policy\":{\"id\":\"19283\",\"type\":\"UnionRenderers\"}},\"id\":\"19235\",\"type\":\"ColumnDataSource\"},{\"attributes\":{},\"id\":\"19242\",\"type\":\"DatetimeTickFormatter\"},{\"attributes\":{\"callback\":null},\"id\":\"19206\",\"type\":\"DataRange1d\"},{\"attributes\":{\"label\":{\"value\":\"infy\"},\"renderers\":[{\"id\":\"19238\",\"type\":\"GlyphRenderer\"}]},\"id\":\"19259\",\"type\":\"LegendItem\"},{\"attributes\":{\"label\":{\"value\":\"tcs\"},\"renderers\":[{\"id\":\"19263\",\"type\":\"GlyphRenderer\"}]},\"id\":\"19285\",\"type\":\"LegendItem\"},{\"attributes\":{},\"id\":\"19227\",\"type\":\"SaveTool\"},{\"attributes\":{},\"id\":\"19220\",\"type\":\"BasicTicker\"},{\"attributes\":{\"source\":{\"id\":\"19260\",\"type\":\"ColumnDataSource\"}},\"id\":\"19264\",\"type\":\"CDSView\"},{\"attributes\":{\"plot\":null,\"text\":\"Volume Shock plot\"},\"id\":\"19203\",\"type\":\"Title\"},{\"attributes\":{\"mantissas\":[1,2,5],\"max_interval\":500.0,\"num_minor_ticks\":0},\"id\":\"19246\",\"type\":\"AdaptiveTicker\"},{\"attributes\":{\"plot\":{\"id\":\"19204\",\"subtype\":\"Figure\",\"type\":\"Plot\"},\"ticker\":{\"id\":\"19215\",\"type\":\"DatetimeTicker\"}},\"id\":\"19218\",\"type\":\"Grid\"},{\"attributes\":{\"callback\":null},\"id\":\"19208\",\"type\":\"DataRange1d\"},{\"attributes\":{},\"id\":\"19283\",\"type\":\"UnionRenderers\"},{\"attributes\":{},\"id\":\"19210\",\"type\":\"LinearScale\"},{\"attributes\":{\"base\":60,\"mantissas\":[1,2,5,10,15,20,30],\"max_interval\":1800000.0,\"min_interval\":1000.0,\"num_minor_ticks\":0},\"id\":\"19247\",\"type\":\"AdaptiveTicker\"},{\"attributes\":{\"months\":[0,1,2,3,4,5,6,7,8,9,10,11]},\"id\":\"19253\",\"type\":\"MonthsTicker\"},{\"attributes\":{\"months\":[0,4,8]},\"id\":\"19255\",\"type\":\"MonthsTicker\"},{\"attributes\":{\"axis_label\":\"y\",\"formatter\":{\"id\":\"19244\",\"type\":\"BasicTickFormatter\"},\"plot\":{\"id\":\"19204\",\"subtype\":\"Figure\",\"type\":\"Plot\"},\"ticker\":{\"id\":\"19220\",\"type\":\"BasicTicker\"}},\"id\":\"19219\",\"type\":\"LinearAxis\"},{\"attributes\":{\"months\":[0,2,4,6,8,10]},\"id\":\"19254\",\"type\":\"MonthsTicker\"},{\"attributes\":{\"items\":[{\"id\":\"19259\",\"type\":\"LegendItem\"},{\"id\":\"19285\",\"type\":\"LegendItem\"}],\"plot\":{\"id\":\"19204\",\"subtype\":\"Figure\",\"type\":\"Plot\"}},\"id\":\"19258\",\"type\":\"Legend\"},{\"attributes\":{},\"id\":\"19244\",\"type\":\"BasicTickFormatter\"},{\"attributes\":{\"line_color\":\"red\",\"line_width\":2,\"x\":{\"field\":\"x\"},\"y\":{\"field\":\"y\"}},\"id\":\"19261\",\"type\":\"Line\"},{\"attributes\":{\"line_alpha\":0.1,\"line_color\":\"#1f77b4\",\"line_width\":2,\"x\":{\"field\":\"x\"},\"y\":{\"field\":\"y\"}},\"id\":\"19262\",\"type\":\"Line\"},{\"attributes\":{\"data_source\":{\"id\":\"19235\",\"type\":\"ColumnDataSource\"},\"glyph\":{\"id\":\"19236\",\"type\":\"Line\"},\"hover_glyph\":null,\"muted_glyph\":null,\"nonselection_glyph\":{\"id\":\"19237\",\"type\":\"Line\"},\"selection_glyph\":null,\"view\":{\"id\":\"19239\",\"type\":\"CDSView\"}},\"id\":\"19238\",\"type\":\"GlyphRenderer\"},{\"attributes\":{\"overlay\":{\"id\":\"19229\",\"type\":\"BoxAnnotation\"}},\"id\":\"19225\",\"type\":\"BoxZoomTool\"},{\"attributes\":{\"days\":[1,4,7,10,13,16,19,22,25,28]},\"id\":\"19250\",\"type\":\"DaysTicker\"},{\"attributes\":{\"axis_label\":\"x\",\"formatter\":{\"id\":\"19242\",\"type\":\"DatetimeTickFormatter\"},\"plot\":{\"id\":\"19204\",\"subtype\":\"Figure\",\"type\":\"Plot\"},\"ticker\":{\"id\":\"19215\",\"type\":\"DatetimeTicker\"}},\"id\":\"19214\",\"type\":\"DatetimeAxis\"},{\"attributes\":{\"line_alpha\":0.1,\"line_color\":\"#1f77b4\",\"line_width\":2,\"x\":{\"field\":\"x\"},\"y\":{\"field\":\"y\"}},\"id\":\"19237\",\"type\":\"Line\"},{\"attributes\":{\"days\":[1,8,15,22]},\"id\":\"19251\",\"type\":\"DaysTicker\"},{\"attributes\":{\"callback\":null,\"data\":{\"x\":[1420070400000.0,1420156800000.0,1420416000000.0,1420502400000.0,1420588800000.0,1420675200000.0,1420761600000.0,1421020800000.0,1421107200000.0,1421193600000.0,1421280000000.0,1421366400000.0,1421625600000.0,1421712000000.0,1421798400000.0,1421884800000.0,1421971200000.0,1422316800000.0,1422403200000.0,1422489600000.0,1422576000000.0,1422835200000.0,1422921600000.0,1423008000000.0,1423094400000.0,1423180800000.0,1423440000000.0,1423526400000.0,1423612800000.0,1423699200000.0,1423785600000.0,1424044800000.0,1424217600000.0,1424304000000.0,1424390400000.0,1424649600000.0,1424736000000.0,1424822400000.0,1424908800000.0,1424995200000.0,1425081600000.0,1425254400000.0,1425340800000.0,1425427200000.0,1425513600000.0,1425859200000.0,1425945600000.0,1426032000000.0,1426118400000.0,1426204800000.0,1426464000000.0,1426550400000.0,1426636800000.0,1426723200000.0,1426809600000.0,1427068800000.0,1427155200000.0,1427241600000.0,1427328000000.0,1427414400000.0,1427673600000.0,1427760000000.0,1427846400000.0,1428278400000.0,1428364800000.0,1428451200000.0,1428537600000.0,1428624000000.0,1428883200000.0,1429056000000.0,1429142400000.0,1429228800000.0,1429488000000.0,1429574400000.0,1429660800000.0,1429747200000.0,1429833600000.0,1430092800000.0,1430179200000.0,1430265600000.0,1430352000000.0,1430697600000.0,1430784000000.0,1430870400000.0,1430956800000.0,1431043200000.0,1431302400000.0,1431388800000.0,1431475200000.0,1431561600000.0,1431648000000.0,1431907200000.0,1431993600000.0,1432080000000.0,1432166400000.0,1432252800000.0,1432512000000.0,1432598400000.0,1432684800000.0,1432771200000.0,1432857600000.0,1433116800000.0,1433203200000.0,1433289600000.0,1433376000000.0,1433462400000.0,1433721600000.0,1433808000000.0,1433894400000.0,1433980800000.0,1434067200000.0,1434326400000.0,1434412800000.0,1434499200000.0,1434585600000.0,1434672000000.0,1434931200000.0,1435017600000.0,1435104000000.0,1435190400000.0,1435276800000.0,1435536000000.0,1435622400000.0,1435708800000.0,1435795200000.0,1435881600000.0,1436140800000.0,1436227200000.0,1436313600000.0,1436400000000.0,1436486400000.0,1436745600000.0,1436832000000.0,1436918400000.0,1437004800000.0,1437091200000.0,1437350400000.0,1437436800000.0,1437523200000.0,1437609600000.0,1437696000000.0,1437955200000.0,1438041600000.0,1438128000000.0,1438214400000.0,1438300800000.0,1438560000000.0,1438646400000.0,1438732800000.0,1438819200000.0,1438905600000.0,1439164800000.0,1439251200000.0,1439337600000.0,1439424000000.0,1439510400000.0,1439769600000.0,1439856000000.0,1439942400000.0,1440028800000.0,1440115200000.0,1440374400000.0,1440460800000.0,1440547200000.0,1440633600000.0,1440720000000.0,1440979200000.0,1441065600000.0,1441152000000.0,1441238400000.0,1441324800000.0,1441584000000.0,1441670400000.0,1441756800000.0,1441843200000.0,1441929600000.0,1442188800000.0,1442275200000.0,1442361600000.0,1442534400000.0,1442793600000.0,1442880000000.0,1442966400000.0,1443052800000.0,1443398400000.0,1443484800000.0,1443571200000.0,1443657600000.0,1444003200000.0,1444089600000.0,1444176000000.0,1444262400000.0,1444348800000.0,1444608000000.0,1444694400000.0,1444780800000.0,1444867200000.0,1444953600000.0,1445212800000.0,1445299200000.0,1445385600000.0,1445558400000.0,1445817600000.0,1445904000000.0,1445990400000.0,1446076800000.0,1446163200000.0,1446422400000.0,1446508800000.0,1446595200000.0,1446681600000.0,1446768000000.0,1447027200000.0,1447113600000.0,1447200000000.0,1447372800000.0,1447632000000.0,1447718400000.0,1447804800000.0,1447891200000.0,1447977600000.0,1448236800000.0,1448323200000.0,1448496000000.0,1448582400000.0,1448841600000.0,1448928000000.0,1449014400000.0,1449100800000.0,1449187200000.0,1449446400000.0,1449532800000.0,1449619200000.0,1449705600000.0,1449792000000.0,1450051200000.0,1450137600000.0,1450224000000.0,1450310400000.0,1450396800000.0,1450656000000.0,1450742400000.0,1450828800000.0,1450915200000.0,1451260800000.0,1451347200000.0,1451433600000.0],\"y\":{\"__ndarray__\":\"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\",\"dtype\":\"float64\",\"shape\":[247]}},\"selected\":{\"id\":\"20013\",\"type\":\"Selection\"},\"selection_policy\":{\"id\":\"20012\",\"type\":\"UnionRenderers\"}},\"id\":\"19260\",\"type\":\"ColumnDataSource\"},{\"attributes\":{\"line_color\":\"#1f77b4\",\"line_width\":2,\"x\":{\"field\":\"x\"},\"y\":{\"field\":\"y\"}},\"id\":\"19236\",\"type\":\"Line\"},{\"attributes\":{},\"id\":\"20013\",\"type\":\"Selection\"},{\"attributes\":{},\"id\":\"19212\",\"type\":\"LinearScale\"},{\"attributes\":{\"num_minor_ticks\":5,\"tickers\":[{\"id\":\"19246\",\"type\":\"AdaptiveTicker\"},{\"id\":\"19247\",\"type\":\"AdaptiveTicker\"},{\"id\":\"19248\",\"type\":\"AdaptiveTicker\"},{\"id\":\"19249\",\"type\":\"DaysTicker\"},{\"id\":\"19250\",\"type\":\"DaysTicker\"},{\"id\":\"19251\",\"type\":\"DaysTicker\"},{\"id\":\"19252\",\"type\":\"DaysTicker\"},{\"id\":\"19253\",\"type\":\"MonthsTicker\"},{\"id\":\"19254\",\"type\":\"MonthsTicker\"},{\"id\":\"19255\",\"type\":\"MonthsTicker\"},{\"id\":\"19256\",\"type\":\"MonthsTicker\"},{\"id\":\"19257\",\"type\":\"YearsTicker\"}]},\"id\":\"19215\",\"type\":\"DatetimeTicker\"}],\"root_ids\":[\"19204\"]},\"title\":\"Bokeh Application\",\"version\":\"1.0.2\"}};\n",
       "  var render_items = [{\"docid\":\"63bd7f43-7f18-4757-8b95-e305b53a20c1\",\"roots\":{\"19204\":\"e7282d96-a170-468c-860a-e00cbe65ecf1\"}}];\n",
       "  root.Bokeh.embed.embed_items_notebook(docs_json, render_items);\n",
       "\n",
       "  }\n",
       "  if (root.Bokeh !== undefined) {\n",
       "    embed_document(root);\n",
       "  } else {\n",
       "    var attempts = 0;\n",
       "    var timer = setInterval(function(root) {\n",
       "      if (root.Bokeh !== undefined) {\n",
       "        embed_document(root);\n",
       "        clearInterval(timer);\n",
       "      }\n",
       "      attempts++;\n",
       "      if (attempts > 100) {\n",
       "        console.log(\"Bokeh: ERROR: Unable to run BokehJS code because BokehJS library is missing\");\n",
       "        clearInterval(timer);\n",
       "      }\n",
       "    }, 10, root)\n",
       "  }\n",
       "})(window);"
      ],
      "application/vnd.bokehjs_exec.v0+json": ""
     },
     "metadata": {
      "application/vnd.bokehjs_exec.v0+json": {
       "id": "19204"
      }
     },
     "output_type": "display_data"
    }
   ],
   "source": [
    "i = figure(title= 'Volume Shock plot', x_axis_label='x',x_axis_type=\"datetime\", y_axis_label='y',plot_width=800, plot_height=350,tools=\"pan,box_zoom,reset,save\")\n",
    "i.line(infy.index,infy['%Volume_Inc'],line_width=2,legend='infy')\n",
    "i.line(tcs.index,tcs['%Volume_Inc'],line_width=2,legend='tcs',color='red')\n",
    "show(i)"
   ]
  },
  {
   "cell_type": "markdown",
   "metadata": {},
   "source": [
    "# 3.2 "
   ]
  },
  {
   "cell_type": "code",
   "execution_count": 55,
   "metadata": {},
   "outputs": [],
   "source": [
    "def Price_shocks(data):\n",
    "    data['%Close_Inc']=100*(data['Close']-data['Prev Close'])/data['Prev Close']\n",
    "    data['Close_is_shock']=[1 if abs(i)>2 else 0 for i in data['%Close_Inc']]\n",
    "    data['direction_of_Close_shock']=[1 if i>=0 else 0 for i in data['%Close_Inc']]\n",
    "    return(data)"
   ]
  },
  {
   "cell_type": "code",
   "execution_count": 57,
   "metadata": {},
   "outputs": [],
   "source": [
    "infy=Price_shocks(infy)\n",
    "tcs=Price_shocks(tcs)"
   ]
  },
  {
   "cell_type": "code",
   "execution_count": 82,
   "metadata": {},
   "outputs": [
    {
     "data": {
      "text/html": [
       "\n",
       "\n",
       "\n",
       "\n",
       "\n",
       "\n",
       "  <div class=\"bk-root\" id=\"be3076f1-9c91-4cd1-92e6-09fd4f358cef\"></div>\n"
      ]
     },
     "metadata": {},
     "output_type": "display_data"
    },
    {
     "data": {
      "application/javascript": [
       "(function(root) {\n",
       "  function embed_document(root) {\n",
       "    \n",
       "  var docs_json = {\"8cc3c481-1018-4e6f-babd-e237a783980e\":{\"roots\":{\"references\":[{\"attributes\":{\"below\":[{\"id\":\"18293\",\"type\":\"DatetimeAxis\"}],\"left\":[{\"id\":\"18298\",\"type\":\"LinearAxis\"}],\"plot_height\":350,\"plot_width\":800,\"renderers\":[{\"id\":\"18293\",\"type\":\"DatetimeAxis\"},{\"id\":\"18297\",\"type\":\"Grid\"},{\"id\":\"18298\",\"type\":\"LinearAxis\"},{\"id\":\"18302\",\"type\":\"Grid\"},{\"id\":\"18308\",\"type\":\"BoxAnnotation\"},{\"id\":\"18337\",\"type\":\"Legend\"},{\"id\":\"18317\",\"type\":\"GlyphRenderer\"},{\"id\":\"18342\",\"type\":\"GlyphRenderer\"}],\"title\":{\"id\":\"18282\",\"type\":\"Title\"},\"toolbar\":{\"id\":\"18307\",\"type\":\"Toolbar\"},\"x_range\":{\"id\":\"18285\",\"type\":\"DataRange1d\"},\"x_scale\":{\"id\":\"18289\",\"type\":\"LinearScale\"},\"y_range\":{\"id\":\"18287\",\"type\":\"DataRange1d\"},\"y_scale\":{\"id\":\"18291\",\"type\":\"LinearScale\"}},\"id\":\"18283\",\"subtype\":\"Figure\",\"type\":\"Plot\"},{\"attributes\":{\"callback\":null},\"id\":\"18285\",\"type\":\"DataRange1d\"},{\"attributes\":{},\"id\":\"18299\",\"type\":\"BasicTicker\"},{\"attributes\":{\"callback\":null,\"data\":{\"x\":[1420070400000.0,1420156800000.0,1420416000000.0,1420502400000.0,1420588800000.0,1420675200000.0,1420761600000.0,1421020800000.0,1421107200000.0,1421193600000.0,1421280000000.0,1421366400000.0,1421625600000.0,1421712000000.0,1421798400000.0,1421884800000.0,1421971200000.0,1422316800000.0,1422403200000.0,1422489600000.0,1422576000000.0,1422835200000.0,1422921600000.0,1423008000000.0,1423094400000.0,1423180800000.0,1423440000000.0,1423526400000.0,1423612800000.0,1423699200000.0,1423785600000.0,1424044800000.0,1424217600000.0,1424304000000.0,1424390400000.0,1424649600000.0,1424736000000.0,1424822400000.0,1424908800000.0,1424995200000.0,1425081600000.0,1425254400000.0,1425340800000.0,1425427200000.0,1425513600000.0,1425859200000.0,1425945600000.0,1426032000000.0,1426118400000.0,1426204800000.0,1426464000000.0,1426550400000.0,1426636800000.0,1426723200000.0,1426809600000.0,1427068800000.0,1427155200000.0,1427241600000.0,1427328000000.0,1427414400000.0,1427673600000.0,1427760000000.0,1427846400000.0,1428278400000.0,1428364800000.0,1428451200000.0,1428537600000.0,1428624000000.0,1428883200000.0,1429056000000.0,1429142400000.0,1429228800000.0,1429488000000.0,1429574400000.0,1429660800000.0,1429747200000.0,1429833600000.0,1430092800000.0,1430179200000.0,1430265600000.0,1430352000000.0,1430697600000.0,1430784000000.0,1430870400000.0,1430956800000.0,1431043200000.0,1431302400000.0,1431388800000.0,1431475200000.0,1431561600000.0,1431648000000.0,1431907200000.0,1431993600000.0,1432080000000.0,1432166400000.0,1432252800000.0,1432512000000.0,1432598400000.0,1432684800000.0,1432771200000.0,1432857600000.0,1433116800000.0,1433203200000.0,1433289600000.0,1433376000000.0,1433462400000.0,1433721600000.0,1433808000000.0,1433894400000.0,1433980800000.0,1434067200000.0,1434326400000.0,1434412800000.0,1434499200000.0,1434585600000.0,1434672000000.0,1434931200000.0,1435017600000.0,1435104000000.0,1435190400000.0,1435276800000.0,1435536000000.0,1435622400000.0,1435708800000.0,1435795200000.0,1435881600000.0,1436140800000.0,1436227200000.0,1436313600000.0,1436400000000.0,1436486400000.0,1436745600000.0,1436832000000.0,1436918400000.0,1437004800000.0,1437091200000.0,1437350400000.0,1437436800000.0,1437523200000.0,1437609600000.0,1437696000000.0,1437955200000.0,1438041600000.0,1438128000000.0,1438214400000.0,1438300800000.0,1438560000000.0,1438646400000.0,1438732800000.0,1438819200000.0,1438905600000.0,1439164800000.0,1439251200000.0,1439337600000.0,1439424000000.0,1439510400000.0,1439769600000.0,1439856000000.0,1439942400000.0,1440028800000.0,1440115200000.0,1440374400000.0,1440460800000.0,1440547200000.0,1440633600000.0,1440720000000.0,1440979200000.0,1441065600000.0,1441152000000.0,1441238400000.0,1441324800000.0,1441584000000.0,1441670400000.0,1441756800000.0,1441843200000.0,1441929600000.0,1442188800000.0,1442275200000.0,1442361600000.0,1442534400000.0,1442793600000.0,1442880000000.0,1442966400000.0,1443052800000.0,1443398400000.0,1443484800000.0,1443571200000.0,1443657600000.0,1444003200000.0,1444089600000.0,1444176000000.0,1444262400000.0,1444348800000.0,1444608000000.0,1444694400000.0,1444780800000.0,1444867200000.0,1444953600000.0,1445212800000.0,1445299200000.0,1445385600000.0,1445558400000.0,1445817600000.0,1445904000000.0,1445990400000.0,1446076800000.0,1446163200000.0,1446422400000.0,1446508800000.0,1446595200000.0,1446681600000.0,1446768000000.0,1447027200000.0,1447113600000.0,1447200000000.0,1447372800000.0,1447632000000.0,1447718400000.0,1447804800000.0,1447891200000.0,1447977600000.0,1448236800000.0,1448323200000.0,1448496000000.0,1448582400000.0,1448841600000.0,1448928000000.0,1449014400000.0,1449100800000.0,1449187200000.0,1449446400000.0,1449532800000.0,1449619200000.0,1449705600000.0,1449792000000.0,1450051200000.0,1450137600000.0,1450224000000.0,1450310400000.0,1450396800000.0,1450656000000.0,1450742400000.0,1450828800000.0,1450915200000.0,1451260800000.0,1451347200000.0,1451433600000.0],\"y\":{\"__ndarray__\":\"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\",\"dtype\":\"float64\",\"shape\":[247]}},\"selected\":{\"id\":\"18363\",\"type\":\"Selection\"},\"selection_policy\":{\"id\":\"18362\",\"type\":\"UnionRenderers\"}},\"id\":\"18314\",\"type\":\"ColumnDataSource\"},{\"attributes\":{\"callback\":null},\"id\":\"18287\",\"type\":\"DataRange1d\"},{\"attributes\":{\"line_alpha\":0.1,\"line_color\":\"#1f77b4\",\"line_width\":2,\"x\":{\"field\":\"x\"},\"y\":{\"field\":\"y\"}},\"id\":\"18316\",\"type\":\"Line\"},{\"attributes\":{\"base\":24,\"mantissas\":[1,2,4,6,8,12],\"max_interval\":43200000.0,\"min_interval\":3600000.0,\"num_minor_ticks\":0},\"id\":\"18327\",\"type\":\"AdaptiveTicker\"},{\"attributes\":{},\"id\":\"18306\",\"type\":\"SaveTool\"},{\"attributes\":{\"overlay\":{\"id\":\"18308\",\"type\":\"BoxAnnotation\"}},\"id\":\"18304\",\"type\":\"BoxZoomTool\"},{\"attributes\":{\"callback\":null,\"data\":{\"x\":[1420070400000.0,1420156800000.0,1420416000000.0,1420502400000.0,1420588800000.0,1420675200000.0,1420761600000.0,1421020800000.0,1421107200000.0,1421193600000.0,1421280000000.0,1421366400000.0,1421625600000.0,1421712000000.0,1421798400000.0,1421884800000.0,1421971200000.0,1422316800000.0,1422403200000.0,1422489600000.0,1422576000000.0,1422835200000.0,1422921600000.0,1423008000000.0,1423094400000.0,1423180800000.0,1423440000000.0,1423526400000.0,1423612800000.0,1423699200000.0,1423785600000.0,1424044800000.0,1424217600000.0,1424304000000.0,1424390400000.0,1424649600000.0,1424736000000.0,1424822400000.0,1424908800000.0,1424995200000.0,1425081600000.0,1425254400000.0,1425340800000.0,1425427200000.0,1425513600000.0,1425859200000.0,1425945600000.0,1426032000000.0,1426118400000.0,1426204800000.0,1426464000000.0,1426550400000.0,1426636800000.0,1426723200000.0,1426809600000.0,1427068800000.0,1427155200000.0,1427241600000.0,1427328000000.0,1427414400000.0,1427673600000.0,1427760000000.0,1427846400000.0,1428278400000.0,1428364800000.0,1428451200000.0,1428537600000.0,1428624000000.0,1428883200000.0,1429056000000.0,1429142400000.0,1429228800000.0,1429488000000.0,1429574400000.0,1429660800000.0,1429747200000.0,1429833600000.0,1430092800000.0,1430179200000.0,1430265600000.0,1430352000000.0,1430697600000.0,1430784000000.0,1430870400000.0,1430956800000.0,1431043200000.0,1431302400000.0,1431388800000.0,1431475200000.0,1431561600000.0,1431648000000.0,1431907200000.0,1431993600000.0,1432080000000.0,1432166400000.0,1432252800000.0,1432512000000.0,1432598400000.0,1432684800000.0,1432771200000.0,1432857600000.0,1433116800000.0,1433203200000.0,1433289600000.0,1433376000000.0,1433462400000.0,1433721600000.0,1433808000000.0,1433894400000.0,1433980800000.0,1434067200000.0,1434326400000.0,1434412800000.0,1434499200000.0,1434585600000.0,1434672000000.0,1434931200000.0,1435017600000.0,1435104000000.0,1435190400000.0,1435276800000.0,1435536000000.0,1435622400000.0,1435708800000.0,1435795200000.0,1435881600000.0,1436140800000.0,1436227200000.0,1436313600000.0,1436400000000.0,1436486400000.0,1436745600000.0,1436832000000.0,1436918400000.0,1437004800000.0,1437091200000.0,1437350400000.0,1437436800000.0,1437523200000.0,1437609600000.0,1437696000000.0,1437955200000.0,1438041600000.0,1438128000000.0,1438214400000.0,1438300800000.0,1438560000000.0,1438646400000.0,1438732800000.0,1438819200000.0,1438905600000.0,1439164800000.0,1439251200000.0,1439337600000.0,1439424000000.0,1439510400000.0,1439769600000.0,1439856000000.0,1439942400000.0,1440028800000.0,1440115200000.0,1440374400000.0,1440460800000.0,1440547200000.0,1440633600000.0,1440720000000.0,1440979200000.0,1441065600000.0,1441152000000.0,1441238400000.0,1441324800000.0,1441584000000.0,1441670400000.0,1441756800000.0,1441843200000.0,1441929600000.0,1442188800000.0,1442275200000.0,1442361600000.0,1442534400000.0,1442793600000.0,1442880000000.0,1442966400000.0,1443052800000.0,1443398400000.0,1443484800000.0,1443571200000.0,1443657600000.0,1444003200000.0,1444089600000.0,1444176000000.0,1444262400000.0,1444348800000.0,1444608000000.0,1444694400000.0,1444780800000.0,1444867200000.0,1444953600000.0,1445212800000.0,1445299200000.0,1445385600000.0,1445558400000.0,1445817600000.0,1445904000000.0,1445990400000.0,1446076800000.0,1446163200000.0,1446422400000.0,1446508800000.0,1446595200000.0,1446681600000.0,1446768000000.0,1447027200000.0,1447113600000.0,1447200000000.0,1447372800000.0,1447632000000.0,1447718400000.0,1447804800000.0,1447891200000.0,1447977600000.0,1448236800000.0,1448323200000.0,1448496000000.0,1448582400000.0,1448841600000.0,1448928000000.0,1449014400000.0,1449100800000.0,1449187200000.0,1449446400000.0,1449532800000.0,1449619200000.0,1449705600000.0,1449792000000.0,1450051200000.0,1450137600000.0,1450224000000.0,1450310400000.0,1450396800000.0,1450656000000.0,1450742400000.0,1450828800000.0,1450915200000.0,1451260800000.0,1451347200000.0,1451433600000.0],\"y\":{\"__ndarray__\":\"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\",\"dtype\":\"float64\",\"shape\":[247]}},\"selected\":{\"id\":\"19070\",\"type\":\"Selection\"},\"selection_policy\":{\"id\":\"19069\",\"type\":\"UnionRenderers\"}},\"id\":\"18339\",\"type\":\"ColumnDataSource\"},{\"attributes\":{\"days\":[1,2,3,4,5,6,7,8,9,10,11,12,13,14,15,16,17,18,19,20,21,22,23,24,25,26,27,28,29,30,31]},\"id\":\"18328\",\"type\":\"DaysTicker\"},{\"attributes\":{\"items\":[{\"id\":\"18338\",\"type\":\"LegendItem\"},{\"id\":\"18364\",\"type\":\"LegendItem\"}],\"plot\":{\"id\":\"18283\",\"subtype\":\"Figure\",\"type\":\"Plot\"}},\"id\":\"18337\",\"type\":\"Legend\"},{\"attributes\":{},\"id\":\"18321\",\"type\":\"DatetimeTickFormatter\"},{\"attributes\":{\"label\":{\"value\":\"tcs\"},\"renderers\":[{\"id\":\"18342\",\"type\":\"GlyphRenderer\"}]},\"id\":\"18364\",\"type\":\"LegendItem\"},{\"attributes\":{\"data_source\":{\"id\":\"18314\",\"type\":\"ColumnDataSource\"},\"glyph\":{\"id\":\"18315\",\"type\":\"Line\"},\"hover_glyph\":null,\"muted_glyph\":null,\"nonselection_glyph\":{\"id\":\"18316\",\"type\":\"Line\"},\"selection_glyph\":null,\"view\":{\"id\":\"18318\",\"type\":\"CDSView\"}},\"id\":\"18317\",\"type\":\"GlyphRenderer\"},{\"attributes\":{\"base\":60,\"mantissas\":[1,2,5,10,15,20,30],\"max_interval\":1800000.0,\"min_interval\":1000.0,\"num_minor_ticks\":0},\"id\":\"18326\",\"type\":\"AdaptiveTicker\"},{\"attributes\":{},\"id\":\"18303\",\"type\":\"PanTool\"},{\"attributes\":{\"months\":[0,2,4,6,8,10]},\"id\":\"18333\",\"type\":\"MonthsTicker\"},{\"attributes\":{\"days\":[1,15]},\"id\":\"18331\",\"type\":\"DaysTicker\"},{\"attributes\":{\"months\":[0,1,2,3,4,5,6,7,8,9,10,11]},\"id\":\"18332\",\"type\":\"MonthsTicker\"},{\"attributes\":{\"source\":{\"id\":\"18314\",\"type\":\"ColumnDataSource\"}},\"id\":\"18318\",\"type\":\"CDSView\"},{\"attributes\":{},\"id\":\"18291\",\"type\":\"LinearScale\"},{\"attributes\":{\"plot\":null,\"text\":\"Close Shock plot\"},\"id\":\"18282\",\"type\":\"Title\"},{\"attributes\":{\"data_source\":{\"id\":\"18339\",\"type\":\"ColumnDataSource\"},\"glyph\":{\"id\":\"18340\",\"type\":\"Line\"},\"hover_glyph\":null,\"muted_glyph\":null,\"nonselection_glyph\":{\"id\":\"18341\",\"type\":\"Line\"},\"selection_glyph\":null,\"view\":{\"id\":\"18343\",\"type\":\"CDSView\"}},\"id\":\"18342\",\"type\":\"GlyphRenderer\"},{\"attributes\":{\"days\":[1,4,7,10,13,16,19,22,25,28]},\"id\":\"18329\",\"type\":\"DaysTicker\"},{\"attributes\":{\"mantissas\":[1,2,5],\"max_interval\":500.0,\"num_minor_ticks\":0},\"id\":\"18325\",\"type\":\"AdaptiveTicker\"},{\"attributes\":{},\"id\":\"18305\",\"type\":\"ResetTool\"},{\"attributes\":{},\"id\":\"18363\",\"type\":\"Selection\"},{\"attributes\":{},\"id\":\"18323\",\"type\":\"BasicTickFormatter\"},{\"attributes\":{\"days\":[1,8,15,22]},\"id\":\"18330\",\"type\":\"DaysTicker\"},{\"attributes\":{\"bottom_units\":\"screen\",\"fill_alpha\":{\"value\":0.5},\"fill_color\":{\"value\":\"lightgrey\"},\"left_units\":\"screen\",\"level\":\"overlay\",\"line_alpha\":{\"value\":1.0},\"line_color\":{\"value\":\"black\"},\"line_dash\":[4,4],\"line_width\":{\"value\":2},\"plot\":null,\"render_mode\":\"css\",\"right_units\":\"screen\",\"top_units\":\"screen\"},\"id\":\"18308\",\"type\":\"BoxAnnotation\"},{\"attributes\":{},\"id\":\"19069\",\"type\":\"UnionRenderers\"},{\"attributes\":{\"line_color\":\"#1f77b4\",\"line_width\":2,\"x\":{\"field\":\"x\"},\"y\":{\"field\":\"y\"}},\"id\":\"18315\",\"type\":\"Line\"},{\"attributes\":{\"source\":{\"id\":\"18339\",\"type\":\"ColumnDataSource\"}},\"id\":\"18343\",\"type\":\"CDSView\"},{\"attributes\":{\"dimension\":1,\"plot\":{\"id\":\"18283\",\"subtype\":\"Figure\",\"type\":\"Plot\"},\"ticker\":{\"id\":\"18299\",\"type\":\"BasicTicker\"}},\"id\":\"18302\",\"type\":\"Grid\"},{\"attributes\":{\"label\":{\"value\":\"infy\"},\"renderers\":[{\"id\":\"18317\",\"type\":\"GlyphRenderer\"}]},\"id\":\"18338\",\"type\":\"LegendItem\"},{\"attributes\":{},\"id\":\"18289\",\"type\":\"LinearScale\"},{\"attributes\":{\"num_minor_ticks\":5,\"tickers\":[{\"id\":\"18325\",\"type\":\"AdaptiveTicker\"},{\"id\":\"18326\",\"type\":\"AdaptiveTicker\"},{\"id\":\"18327\",\"type\":\"AdaptiveTicker\"},{\"id\":\"18328\",\"type\":\"DaysTicker\"},{\"id\":\"18329\",\"type\":\"DaysTicker\"},{\"id\":\"18330\",\"type\":\"DaysTicker\"},{\"id\":\"18331\",\"type\":\"DaysTicker\"},{\"id\":\"18332\",\"type\":\"MonthsTicker\"},{\"id\":\"18333\",\"type\":\"MonthsTicker\"},{\"id\":\"18334\",\"type\":\"MonthsTicker\"},{\"id\":\"18335\",\"type\":\"MonthsTicker\"},{\"id\":\"18336\",\"type\":\"YearsTicker\"}]},\"id\":\"18294\",\"type\":\"DatetimeTicker\"},{\"attributes\":{\"line_alpha\":0.1,\"line_color\":\"#1f77b4\",\"line_width\":2,\"x\":{\"field\":\"x\"},\"y\":{\"field\":\"y\"}},\"id\":\"18341\",\"type\":\"Line\"},{\"attributes\":{},\"id\":\"19070\",\"type\":\"Selection\"},{\"attributes\":{\"plot\":{\"id\":\"18283\",\"subtype\":\"Figure\",\"type\":\"Plot\"},\"ticker\":{\"id\":\"18294\",\"type\":\"DatetimeTicker\"}},\"id\":\"18297\",\"type\":\"Grid\"},{\"attributes\":{\"months\":[0,6]},\"id\":\"18335\",\"type\":\"MonthsTicker\"},{\"attributes\":{\"active_drag\":\"auto\",\"active_inspect\":\"auto\",\"active_multi\":null,\"active_scroll\":\"auto\",\"active_tap\":\"auto\",\"tools\":[{\"id\":\"18303\",\"type\":\"PanTool\"},{\"id\":\"18304\",\"type\":\"BoxZoomTool\"},{\"id\":\"18305\",\"type\":\"ResetTool\"},{\"id\":\"18306\",\"type\":\"SaveTool\"}]},\"id\":\"18307\",\"type\":\"Toolbar\"},{\"attributes\":{},\"id\":\"18362\",\"type\":\"UnionRenderers\"},{\"attributes\":{\"axis_label\":\"x\",\"formatter\":{\"id\":\"18321\",\"type\":\"DatetimeTickFormatter\"},\"plot\":{\"id\":\"18283\",\"subtype\":\"Figure\",\"type\":\"Plot\"},\"ticker\":{\"id\":\"18294\",\"type\":\"DatetimeTicker\"}},\"id\":\"18293\",\"type\":\"DatetimeAxis\"},{\"attributes\":{\"months\":[0,4,8]},\"id\":\"18334\",\"type\":\"MonthsTicker\"},{\"attributes\":{},\"id\":\"18336\",\"type\":\"YearsTicker\"},{\"attributes\":{\"axis_label\":\"y\",\"formatter\":{\"id\":\"18323\",\"type\":\"BasicTickFormatter\"},\"plot\":{\"id\":\"18283\",\"subtype\":\"Figure\",\"type\":\"Plot\"},\"ticker\":{\"id\":\"18299\",\"type\":\"BasicTicker\"}},\"id\":\"18298\",\"type\":\"LinearAxis\"},{\"attributes\":{\"line_color\":\"red\",\"line_width\":2,\"x\":{\"field\":\"x\"},\"y\":{\"field\":\"y\"}},\"id\":\"18340\",\"type\":\"Line\"}],\"root_ids\":[\"18283\"]},\"title\":\"Bokeh Application\",\"version\":\"1.0.2\"}};\n",
       "  var render_items = [{\"docid\":\"8cc3c481-1018-4e6f-babd-e237a783980e\",\"roots\":{\"18283\":\"be3076f1-9c91-4cd1-92e6-09fd4f358cef\"}}];\n",
       "  root.Bokeh.embed.embed_items_notebook(docs_json, render_items);\n",
       "\n",
       "  }\n",
       "  if (root.Bokeh !== undefined) {\n",
       "    embed_document(root);\n",
       "  } else {\n",
       "    var attempts = 0;\n",
       "    var timer = setInterval(function(root) {\n",
       "      if (root.Bokeh !== undefined) {\n",
       "        embed_document(root);\n",
       "        clearInterval(timer);\n",
       "      }\n",
       "      attempts++;\n",
       "      if (attempts > 100) {\n",
       "        console.log(\"Bokeh: ERROR: Unable to run BokehJS code because BokehJS library is missing\");\n",
       "        clearInterval(timer);\n",
       "      }\n",
       "    }, 10, root)\n",
       "  }\n",
       "})(window);"
      ],
      "application/vnd.bokehjs_exec.v0+json": ""
     },
     "metadata": {
      "application/vnd.bokehjs_exec.v0+json": {
       "id": "18283"
      }
     },
     "output_type": "display_data"
    }
   ],
   "source": [
    "i = figure(title= 'Close Shock plot', x_axis_label='x',x_axis_type=\"datetime\", y_axis_label='y',plot_width=800, plot_height=350,tools=\"pan,box_zoom,reset,save\")\n",
    "i.line(infy.index,infy['%Volume_Inc'],line_width=2,legend='infy')\n",
    "i.line(tcs.index,tcs['%Volume_Inc'],line_width=2,color='red',legend='tcs')\n",
    "show(i)"
   ]
  },
  {
   "cell_type": "markdown",
   "metadata": {},
   "source": [
    "# 3.3"
   ]
  },
  {
   "cell_type": "markdown",
   "metadata": {},
   "source": [
    "Pricing black swan already performed in 3.2"
   ]
  },
  {
   "cell_type": "code",
   "execution_count": 70,
   "metadata": {},
   "outputs": [
    {
     "data": {
      "text/html": [
       "<div>\n",
       "<style scoped>\n",
       "    .dataframe tbody tr th:only-of-type {\n",
       "        vertical-align: middle;\n",
       "    }\n",
       "\n",
       "    .dataframe tbody tr th {\n",
       "        vertical-align: top;\n",
       "    }\n",
       "\n",
       "    .dataframe thead th {\n",
       "        text-align: right;\n",
       "    }\n",
       "</style>\n",
       "<table border=\"1\" class=\"dataframe\">\n",
       "  <thead>\n",
       "    <tr style=\"text-align: right;\">\n",
       "      <th></th>\n",
       "      <th>Symbol</th>\n",
       "      <th>Series</th>\n",
       "      <th>Prev Close</th>\n",
       "      <th>Open</th>\n",
       "      <th>High</th>\n",
       "      <th>Low</th>\n",
       "      <th>Last</th>\n",
       "      <th>Close</th>\n",
       "      <th>VWAP</th>\n",
       "      <th>Volume</th>\n",
       "      <th>...</th>\n",
       "      <th>Trades</th>\n",
       "      <th>Deliverable Volume</th>\n",
       "      <th>%Deliverble</th>\n",
       "      <th>Prev_Volume</th>\n",
       "      <th>%Volume_Inc</th>\n",
       "      <th>Volume_is_shock</th>\n",
       "      <th>direction_of_Volume_shock</th>\n",
       "      <th>%Close_Inc</th>\n",
       "      <th>Close_is_shock</th>\n",
       "      <th>direction_of_Close_shock</th>\n",
       "    </tr>\n",
       "    <tr>\n",
       "      <th>Date</th>\n",
       "      <th></th>\n",
       "      <th></th>\n",
       "      <th></th>\n",
       "      <th></th>\n",
       "      <th></th>\n",
       "      <th></th>\n",
       "      <th></th>\n",
       "      <th></th>\n",
       "      <th></th>\n",
       "      <th></th>\n",
       "      <th></th>\n",
       "      <th></th>\n",
       "      <th></th>\n",
       "      <th></th>\n",
       "      <th></th>\n",
       "      <th></th>\n",
       "      <th></th>\n",
       "      <th></th>\n",
       "      <th></th>\n",
       "      <th></th>\n",
       "      <th></th>\n",
       "    </tr>\n",
       "  </thead>\n",
       "  <tbody>\n",
       "    <tr>\n",
       "      <th>2015-01-01</th>\n",
       "      <td>INFY</td>\n",
       "      <td>EQ</td>\n",
       "      <td>1972.55</td>\n",
       "      <td>1968.95</td>\n",
       "      <td>1982.00</td>\n",
       "      <td>1956.9</td>\n",
       "      <td>1971.00</td>\n",
       "      <td>1974.40</td>\n",
       "      <td>1971.34</td>\n",
       "      <td>500691</td>\n",
       "      <td>...</td>\n",
       "      <td>14908</td>\n",
       "      <td>258080</td>\n",
       "      <td>0.5154</td>\n",
       "      <td>500691.0</td>\n",
       "      <td>0.000000</td>\n",
       "      <td>0</td>\n",
       "      <td>1</td>\n",
       "      <td>0.093787</td>\n",
       "      <td>0</td>\n",
       "      <td>1</td>\n",
       "    </tr>\n",
       "    <tr>\n",
       "      <th>2015-01-02</th>\n",
       "      <td>INFY</td>\n",
       "      <td>EQ</td>\n",
       "      <td>1974.40</td>\n",
       "      <td>1972.00</td>\n",
       "      <td>2019.05</td>\n",
       "      <td>1972.0</td>\n",
       "      <td>2017.95</td>\n",
       "      <td>2013.20</td>\n",
       "      <td>2003.25</td>\n",
       "      <td>1694580</td>\n",
       "      <td>...</td>\n",
       "      <td>54166</td>\n",
       "      <td>1249104</td>\n",
       "      <td>0.7371</td>\n",
       "      <td>500691.0</td>\n",
       "      <td>238.448264</td>\n",
       "      <td>1</td>\n",
       "      <td>1</td>\n",
       "      <td>1.965154</td>\n",
       "      <td>0</td>\n",
       "      <td>1</td>\n",
       "    </tr>\n",
       "    <tr>\n",
       "      <th>2015-01-05</th>\n",
       "      <td>INFY</td>\n",
       "      <td>EQ</td>\n",
       "      <td>2013.20</td>\n",
       "      <td>2009.90</td>\n",
       "      <td>2030.00</td>\n",
       "      <td>1977.5</td>\n",
       "      <td>1996.00</td>\n",
       "      <td>1995.90</td>\n",
       "      <td>2004.59</td>\n",
       "      <td>2484256</td>\n",
       "      <td>...</td>\n",
       "      <td>82694</td>\n",
       "      <td>1830962</td>\n",
       "      <td>0.7370</td>\n",
       "      <td>1694580.0</td>\n",
       "      <td>46.600102</td>\n",
       "      <td>1</td>\n",
       "      <td>1</td>\n",
       "      <td>-0.859328</td>\n",
       "      <td>0</td>\n",
       "      <td>0</td>\n",
       "    </tr>\n",
       "    <tr>\n",
       "      <th>2015-01-06</th>\n",
       "      <td>INFY</td>\n",
       "      <td>EQ</td>\n",
       "      <td>1995.90</td>\n",
       "      <td>1980.00</td>\n",
       "      <td>1985.00</td>\n",
       "      <td>1934.1</td>\n",
       "      <td>1965.10</td>\n",
       "      <td>1954.20</td>\n",
       "      <td>1954.82</td>\n",
       "      <td>2416829</td>\n",
       "      <td>...</td>\n",
       "      <td>108209</td>\n",
       "      <td>1772070</td>\n",
       "      <td>0.7332</td>\n",
       "      <td>2484256.0</td>\n",
       "      <td>-2.714173</td>\n",
       "      <td>0</td>\n",
       "      <td>0</td>\n",
       "      <td>-2.089283</td>\n",
       "      <td>1</td>\n",
       "      <td>0</td>\n",
       "    </tr>\n",
       "    <tr>\n",
       "      <th>2015-01-07</th>\n",
       "      <td>INFY</td>\n",
       "      <td>EQ</td>\n",
       "      <td>1954.20</td>\n",
       "      <td>1965.00</td>\n",
       "      <td>1974.75</td>\n",
       "      <td>1950.0</td>\n",
       "      <td>1966.05</td>\n",
       "      <td>1963.55</td>\n",
       "      <td>1962.59</td>\n",
       "      <td>1812479</td>\n",
       "      <td>...</td>\n",
       "      <td>62463</td>\n",
       "      <td>1317720</td>\n",
       "      <td>0.7270</td>\n",
       "      <td>2416829.0</td>\n",
       "      <td>-25.005906</td>\n",
       "      <td>1</td>\n",
       "      <td>0</td>\n",
       "      <td>0.478457</td>\n",
       "      <td>0</td>\n",
       "      <td>1</td>\n",
       "    </tr>\n",
       "  </tbody>\n",
       "</table>\n",
       "<p>5 rows × 21 columns</p>\n",
       "</div>"
      ],
      "text/plain": [
       "           Symbol Series  Prev Close     Open     High     Low     Last  \\\n",
       "Date                                                                      \n",
       "2015-01-01   INFY     EQ     1972.55  1968.95  1982.00  1956.9  1971.00   \n",
       "2015-01-02   INFY     EQ     1974.40  1972.00  2019.05  1972.0  2017.95   \n",
       "2015-01-05   INFY     EQ     2013.20  2009.90  2030.00  1977.5  1996.00   \n",
       "2015-01-06   INFY     EQ     1995.90  1980.00  1985.00  1934.1  1965.10   \n",
       "2015-01-07   INFY     EQ     1954.20  1965.00  1974.75  1950.0  1966.05   \n",
       "\n",
       "              Close     VWAP   Volume            ...             Trades  \\\n",
       "Date                                             ...                      \n",
       "2015-01-01  1974.40  1971.34   500691            ...              14908   \n",
       "2015-01-02  2013.20  2003.25  1694580            ...              54166   \n",
       "2015-01-05  1995.90  2004.59  2484256            ...              82694   \n",
       "2015-01-06  1954.20  1954.82  2416829            ...             108209   \n",
       "2015-01-07  1963.55  1962.59  1812479            ...              62463   \n",
       "\n",
       "            Deliverable Volume  %Deliverble  Prev_Volume  %Volume_Inc  \\\n",
       "Date                                                                    \n",
       "2015-01-01              258080       0.5154     500691.0     0.000000   \n",
       "2015-01-02             1249104       0.7371     500691.0   238.448264   \n",
       "2015-01-05             1830962       0.7370    1694580.0    46.600102   \n",
       "2015-01-06             1772070       0.7332    2484256.0    -2.714173   \n",
       "2015-01-07             1317720       0.7270    2416829.0   -25.005906   \n",
       "\n",
       "            Volume_is_shock  direction_of_Volume_shock  %Close_Inc  \\\n",
       "Date                                                                 \n",
       "2015-01-01                0                          1    0.093787   \n",
       "2015-01-02                1                          1    1.965154   \n",
       "2015-01-05                1                          1   -0.859328   \n",
       "2015-01-06                0                          0   -2.089283   \n",
       "2015-01-07                1                          0    0.478457   \n",
       "\n",
       "            Close_is_shock  direction_of_Close_shock  \n",
       "Date                                                  \n",
       "2015-01-01               0                         1  \n",
       "2015-01-02               0                         1  \n",
       "2015-01-05               0                         0  \n",
       "2015-01-06               1                         0  \n",
       "2015-01-07               0                         1  \n",
       "\n",
       "[5 rows x 21 columns]"
      ]
     },
     "execution_count": 70,
     "metadata": {},
     "output_type": "execute_result"
    }
   ],
   "source": [
    "infy.head()"
   ]
  },
  {
   "cell_type": "code",
   "execution_count": 72,
   "metadata": {},
   "outputs": [
    {
     "data": {
      "text/html": [
       "\n",
       "\n",
       "\n",
       "\n",
       "\n",
       "\n",
       "  <div class=\"bk-root\" id=\"567cd5b3-60fe-4945-a35d-d47bc4e7d5d0\"></div>\n"
      ]
     },
     "metadata": {},
     "output_type": "display_data"
    },
    {
     "data": {
      "application/javascript": [
       "(function(root) {\n",
       "  function embed_document(root) {\n",
       "    \n",
       "  var docs_json = {\"3f58a045-b1ac-4bc1-8dd3-454f301e0a3f\":{\"roots\":{\"references\":[{\"attributes\":{\"below\":[{\"id\":\"14938\",\"type\":\"DatetimeAxis\"}],\"left\":[{\"id\":\"14943\",\"type\":\"LinearAxis\"}],\"plot_height\":350,\"plot_width\":800,\"renderers\":[{\"id\":\"14938\",\"type\":\"DatetimeAxis\"},{\"id\":\"14942\",\"type\":\"Grid\"},{\"id\":\"14943\",\"type\":\"LinearAxis\"},{\"id\":\"14947\",\"type\":\"Grid\"},{\"id\":\"14953\",\"type\":\"BoxAnnotation\"},{\"id\":\"14962\",\"type\":\"GlyphRenderer\"}],\"title\":{\"id\":\"14927\",\"type\":\"Title\"},\"toolbar\":{\"id\":\"14952\",\"type\":\"Toolbar\"},\"x_range\":{\"id\":\"14930\",\"type\":\"DataRange1d\"},\"x_scale\":{\"id\":\"14934\",\"type\":\"LinearScale\"},\"y_range\":{\"id\":\"14932\",\"type\":\"DataRange1d\"},\"y_scale\":{\"id\":\"14936\",\"type\":\"LinearScale\"}},\"id\":\"14928\",\"subtype\":\"Figure\",\"type\":\"Plot\"},{\"attributes\":{\"days\":[1,8,15,22]},\"id\":\"15575\",\"type\":\"DaysTicker\"},{\"attributes\":{\"months\":[0,4,8]},\"id\":\"15579\",\"type\":\"MonthsTicker\"},{\"attributes\":{\"bottom_units\":\"screen\",\"fill_alpha\":{\"value\":0.5},\"fill_color\":{\"value\":\"lightgrey\"},\"left_units\":\"screen\",\"level\":\"overlay\",\"line_alpha\":{\"value\":1.0},\"line_color\":{\"value\":\"black\"},\"line_dash\":[4,4],\"line_width\":{\"value\":2},\"plot\":null,\"render_mode\":\"css\",\"right_units\":\"screen\",\"top_units\":\"screen\"},\"id\":\"14953\",\"type\":\"BoxAnnotation\"},{\"attributes\":{},\"id\":\"15582\",\"type\":\"UnionRenderers\"},{\"attributes\":{\"active_drag\":\"auto\",\"active_inspect\":\"auto\",\"active_multi\":null,\"active_scroll\":\"auto\",\"active_tap\":\"auto\",\"tools\":[{\"id\":\"14948\",\"type\":\"PanTool\"},{\"id\":\"14949\",\"type\":\"BoxZoomTool\"},{\"id\":\"14950\",\"type\":\"ResetTool\"},{\"id\":\"14951\",\"type\":\"SaveTool\"}]},\"id\":\"14952\",\"type\":\"Toolbar\"},{\"attributes\":{\"data_source\":{\"id\":\"14959\",\"type\":\"ColumnDataSource\"},\"glyph\":{\"id\":\"14960\",\"type\":\"Line\"},\"hover_glyph\":null,\"muted_glyph\":null,\"nonselection_glyph\":{\"id\":\"14961\",\"type\":\"Line\"},\"selection_glyph\":null,\"view\":{\"id\":\"14963\",\"type\":\"CDSView\"}},\"id\":\"14962\",\"type\":\"GlyphRenderer\"},{\"attributes\":{\"axis_label\":\"y\",\"formatter\":{\"id\":\"15568\",\"type\":\"BasicTickFormatter\"},\"plot\":{\"id\":\"14928\",\"subtype\":\"Figure\",\"type\":\"Plot\"},\"ticker\":{\"id\":\"14944\",\"type\":\"BasicTicker\"}},\"id\":\"14943\",\"type\":\"LinearAxis\"},{\"attributes\":{\"source\":{\"id\":\"14959\",\"type\":\"ColumnDataSource\"}},\"id\":\"14963\",\"type\":\"CDSView\"},{\"attributes\":{\"months\":[0,1,2,3,4,5,6,7,8,9,10,11]},\"id\":\"15577\",\"type\":\"MonthsTicker\"},{\"attributes\":{\"overlay\":{\"id\":\"14953\",\"type\":\"BoxAnnotation\"}},\"id\":\"14949\",\"type\":\"BoxZoomTool\"},{\"attributes\":{\"dimension\":1,\"plot\":{\"id\":\"14928\",\"subtype\":\"Figure\",\"type\":\"Plot\"},\"ticker\":{\"id\":\"14944\",\"type\":\"BasicTicker\"}},\"id\":\"14947\",\"type\":\"Grid\"},{\"attributes\":{},\"id\":\"14950\",\"type\":\"ResetTool\"},{\"attributes\":{},\"id\":\"14951\",\"type\":\"SaveTool\"},{\"attributes\":{\"base\":24,\"mantissas\":[1,2,4,6,8,12],\"max_interval\":43200000.0,\"min_interval\":3600000.0,\"num_minor_ticks\":0},\"id\":\"15572\",\"type\":\"AdaptiveTicker\"},{\"attributes\":{},\"id\":\"15581\",\"type\":\"YearsTicker\"},{\"attributes\":{},\"id\":\"15568\",\"type\":\"BasicTickFormatter\"},{\"attributes\":{\"days\":[1,2,3,4,5,6,7,8,9,10,11,12,13,14,15,16,17,18,19,20,21,22,23,24,25,26,27,28,29,30,31]},\"id\":\"15573\",\"type\":\"DaysTicker\"},{\"attributes\":{\"callback\":null},\"id\":\"14930\",\"type\":\"DataRange1d\"},{\"attributes\":{\"plot\":null,\"text\":\"INFY Percentage change in Close plot\"},\"id\":\"14927\",\"type\":\"Title\"},{\"attributes\":{\"callback\":null},\"id\":\"14932\",\"type\":\"DataRange1d\"},{\"attributes\":{},\"id\":\"14944\",\"type\":\"BasicTicker\"},{\"attributes\":{\"num_minor_ticks\":5,\"tickers\":[{\"id\":\"15570\",\"type\":\"AdaptiveTicker\"},{\"id\":\"15571\",\"type\":\"AdaptiveTicker\"},{\"id\":\"15572\",\"type\":\"AdaptiveTicker\"},{\"id\":\"15573\",\"type\":\"DaysTicker\"},{\"id\":\"15574\",\"type\":\"DaysTicker\"},{\"id\":\"15575\",\"type\":\"DaysTicker\"},{\"id\":\"15576\",\"type\":\"DaysTicker\"},{\"id\":\"15577\",\"type\":\"MonthsTicker\"},{\"id\":\"15578\",\"type\":\"MonthsTicker\"},{\"id\":\"15579\",\"type\":\"MonthsTicker\"},{\"id\":\"15580\",\"type\":\"MonthsTicker\"},{\"id\":\"15581\",\"type\":\"YearsTicker\"}]},\"id\":\"14939\",\"type\":\"DatetimeTicker\"},{\"attributes\":{},\"id\":\"14934\",\"type\":\"LinearScale\"},{\"attributes\":{\"plot\":{\"id\":\"14928\",\"subtype\":\"Figure\",\"type\":\"Plot\"},\"ticker\":{\"id\":\"14939\",\"type\":\"DatetimeTicker\"}},\"id\":\"14942\",\"type\":\"Grid\"},{\"attributes\":{\"callback\":null,\"data\":{\"x\":[1420070400000.0,1420156800000.0,1420416000000.0,1420502400000.0,1420588800000.0,1420675200000.0,1420761600000.0,1421020800000.0,1421107200000.0,1421193600000.0,1421280000000.0,1421366400000.0,1421625600000.0,1421712000000.0,1421798400000.0,1421884800000.0,1421971200000.0,1422316800000.0,1422403200000.0,1422489600000.0,1422576000000.0,1422835200000.0,1422921600000.0,1423008000000.0,1423094400000.0,1423180800000.0,1423440000000.0,1423526400000.0,1423612800000.0,1423699200000.0,1423785600000.0,1424044800000.0,1424217600000.0,1424304000000.0,1424390400000.0,1424649600000.0,1424736000000.0,1424822400000.0,1424908800000.0,1424995200000.0,1425081600000.0,1425254400000.0,1425340800000.0,1425427200000.0,1425513600000.0,1425859200000.0,1425945600000.0,1426032000000.0,1426118400000.0,1426204800000.0,1426464000000.0,1426550400000.0,1426636800000.0,1426723200000.0,1426809600000.0,1427068800000.0,1427155200000.0,1427241600000.0,1427328000000.0,1427414400000.0,1427673600000.0,1427760000000.0,1427846400000.0,1428278400000.0,1428364800000.0,1428451200000.0,1428537600000.0,1428624000000.0,1428883200000.0,1429056000000.0,1429142400000.0,1429228800000.0,1429488000000.0,1429574400000.0,1429660800000.0,1429747200000.0,1429833600000.0,1430092800000.0,1430179200000.0,1430265600000.0,1430352000000.0,1430697600000.0,1430784000000.0,1430870400000.0,1430956800000.0,1431043200000.0,1431302400000.0,1431388800000.0,1431475200000.0,1431561600000.0,1431648000000.0,1431907200000.0,1431993600000.0,1432080000000.0,1432166400000.0,1432252800000.0,1432512000000.0,1432598400000.0,1432684800000.0,1432771200000.0,1432857600000.0,1433116800000.0,1433203200000.0,1433289600000.0,1433376000000.0,1433462400000.0,1433721600000.0,1433808000000.0,1433894400000.0,1433980800000.0,1434067200000.0,1434326400000.0,1434412800000.0,1434499200000.0,1434585600000.0,1434672000000.0,1434931200000.0,1435017600000.0,1435104000000.0,1435190400000.0,1435276800000.0,1435536000000.0,1435622400000.0,1435708800000.0,1435795200000.0,1435881600000.0,1436140800000.0,1436227200000.0,1436313600000.0,1436400000000.0,1436486400000.0,1436745600000.0,1436832000000.0,1436918400000.0,1437004800000.0,1437091200000.0,1437350400000.0,1437436800000.0,1437523200000.0,1437609600000.0,1437696000000.0,1437955200000.0,1438041600000.0,1438128000000.0,1438214400000.0,1438300800000.0,1438560000000.0,1438646400000.0,1438732800000.0,1438819200000.0,1438905600000.0,1439164800000.0,1439251200000.0,1439337600000.0,1439424000000.0,1439510400000.0,1439769600000.0,1439856000000.0,1439942400000.0,1440028800000.0,1440115200000.0,1440374400000.0,1440460800000.0,1440547200000.0,1440633600000.0,1440720000000.0,1440979200000.0,1441065600000.0,1441152000000.0,1441238400000.0,1441324800000.0,1441584000000.0,1441670400000.0,1441756800000.0,1441843200000.0,1441929600000.0,1442188800000.0,1442275200000.0,1442361600000.0,1442534400000.0,1442793600000.0,1442880000000.0,1442966400000.0,1443052800000.0,1443398400000.0,1443484800000.0,1443571200000.0,1443657600000.0,1444003200000.0,1444089600000.0,1444176000000.0,1444262400000.0,1444348800000.0,1444608000000.0,1444694400000.0,1444780800000.0,1444867200000.0,1444953600000.0,1445212800000.0,1445299200000.0,1445385600000.0,1445558400000.0,1445817600000.0,1445904000000.0,1445990400000.0,1446076800000.0,1446163200000.0,1446422400000.0,1446508800000.0,1446595200000.0,1446681600000.0,1446768000000.0,1447027200000.0,1447113600000.0,1447200000000.0,1447372800000.0,1447632000000.0,1447718400000.0,1447804800000.0,1447891200000.0,1447977600000.0,1448236800000.0,1448323200000.0,1448496000000.0,1448582400000.0,1448841600000.0,1448928000000.0,1449014400000.0,1449100800000.0,1449187200000.0,1449446400000.0,1449532800000.0,1449619200000.0,1449705600000.0,1449792000000.0,1450051200000.0,1450137600000.0,1450224000000.0,1450310400000.0,1450396800000.0,1450656000000.0,1450742400000.0,1450828800000.0,1450915200000.0,1451260800000.0,1451347200000.0,1451433600000.0],\"y\":{\"__ndarray__\":\"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\",\"dtype\":\"float64\",\"shape\":[247]}},\"selected\":{\"id\":\"15583\",\"type\":\"Selection\"},\"selection_policy\":{\"id\":\"15582\",\"type\":\"UnionRenderers\"}},\"id\":\"14959\",\"type\":\"ColumnDataSource\"},{\"attributes\":{},\"id\":\"14948\",\"type\":\"PanTool\"},{\"attributes\":{\"days\":[1,15]},\"id\":\"15576\",\"type\":\"DaysTicker\"},{\"attributes\":{},\"id\":\"15566\",\"type\":\"DatetimeTickFormatter\"},{\"attributes\":{\"months\":[0,6]},\"id\":\"15580\",\"type\":\"MonthsTicker\"},{\"attributes\":{\"base\":60,\"mantissas\":[1,2,5,10,15,20,30],\"max_interval\":1800000.0,\"min_interval\":1000.0,\"num_minor_ticks\":0},\"id\":\"15571\",\"type\":\"AdaptiveTicker\"},{\"attributes\":{\"axis_label\":\"x\",\"formatter\":{\"id\":\"15566\",\"type\":\"DatetimeTickFormatter\"},\"plot\":{\"id\":\"14928\",\"subtype\":\"Figure\",\"type\":\"Plot\"},\"ticker\":{\"id\":\"14939\",\"type\":\"DatetimeTicker\"}},\"id\":\"14938\",\"type\":\"DatetimeAxis\"},{\"attributes\":{\"months\":[0,2,4,6,8,10]},\"id\":\"15578\",\"type\":\"MonthsTicker\"},{\"attributes\":{},\"id\":\"15583\",\"type\":\"Selection\"},{\"attributes\":{\"line_alpha\":0.1,\"line_color\":\"#1f77b4\",\"line_width\":2,\"x\":{\"field\":\"x\"},\"y\":{\"field\":\"y\"}},\"id\":\"14961\",\"type\":\"Line\"},{\"attributes\":{\"line_color\":\"#1f77b4\",\"line_width\":2,\"x\":{\"field\":\"x\"},\"y\":{\"field\":\"y\"}},\"id\":\"14960\",\"type\":\"Line\"},{\"attributes\":{\"days\":[1,4,7,10,13,16,19,22,25,28]},\"id\":\"15574\",\"type\":\"DaysTicker\"},{\"attributes\":{},\"id\":\"14936\",\"type\":\"LinearScale\"},{\"attributes\":{\"mantissas\":[1,2,5],\"max_interval\":500.0,\"num_minor_ticks\":0},\"id\":\"15570\",\"type\":\"AdaptiveTicker\"}],\"root_ids\":[\"14928\"]},\"title\":\"Bokeh Application\",\"version\":\"1.0.2\"}};\n",
       "  var render_items = [{\"docid\":\"3f58a045-b1ac-4bc1-8dd3-454f301e0a3f\",\"roots\":{\"14928\":\"567cd5b3-60fe-4945-a35d-d47bc4e7d5d0\"}}];\n",
       "  root.Bokeh.embed.embed_items_notebook(docs_json, render_items);\n",
       "\n",
       "  }\n",
       "  if (root.Bokeh !== undefined) {\n",
       "    embed_document(root);\n",
       "  } else {\n",
       "    var attempts = 0;\n",
       "    var timer = setInterval(function(root) {\n",
       "      if (root.Bokeh !== undefined) {\n",
       "        embed_document(root);\n",
       "        clearInterval(timer);\n",
       "      }\n",
       "      attempts++;\n",
       "      if (attempts > 100) {\n",
       "        console.log(\"Bokeh: ERROR: Unable to run BokehJS code because BokehJS library is missing\");\n",
       "        clearInterval(timer);\n",
       "      }\n",
       "    }, 10, root)\n",
       "  }\n",
       "})(window);"
      ],
      "application/vnd.bokehjs_exec.v0+json": ""
     },
     "metadata": {
      "application/vnd.bokehjs_exec.v0+json": {
       "id": "14928"
      }
     },
     "output_type": "display_data"
    }
   ],
   "source": [
    "i = figure(title= 'INFY Percentage change in Close plot', x_axis_label='x',x_axis_type=\"datetime\", y_axis_label='y',plot_width=800, plot_height=350,tools=\"pan,box_zoom,reset,save\")\n",
    "i.line(infy.index,infy['%Close_Inc'],line_width=2)\n",
    "show(i)"
   ]
  },
  {
   "cell_type": "markdown",
   "metadata": {},
   "source": [
    "#Two major black swans are following:"
   ]
  },
  {
   "cell_type": "code",
   "execution_count": 39,
   "metadata": {},
   "outputs": [
    {
     "data": {
      "text/html": [
       "<div>\n",
       "<style scoped>\n",
       "    .dataframe tbody tr th:only-of-type {\n",
       "        vertical-align: middle;\n",
       "    }\n",
       "\n",
       "    .dataframe tbody tr th {\n",
       "        vertical-align: top;\n",
       "    }\n",
       "\n",
       "    .dataframe thead th {\n",
       "        text-align: right;\n",
       "    }\n",
       "</style>\n",
       "<table border=\"1\" class=\"dataframe\">\n",
       "  <thead>\n",
       "    <tr style=\"text-align: right;\">\n",
       "      <th></th>\n",
       "      <th>Symbol</th>\n",
       "      <th>Series</th>\n",
       "      <th>Prev Close</th>\n",
       "      <th>Open</th>\n",
       "      <th>High</th>\n",
       "      <th>Low</th>\n",
       "      <th>Last</th>\n",
       "      <th>Close</th>\n",
       "      <th>VWAP</th>\n",
       "      <th>Volume</th>\n",
       "      <th>...</th>\n",
       "      <th>Trades</th>\n",
       "      <th>Deliverable Volume</th>\n",
       "      <th>%Deliverble</th>\n",
       "      <th>Prev_Volume</th>\n",
       "      <th>%Volume_Inc</th>\n",
       "      <th>is_shock</th>\n",
       "      <th>direction of shock</th>\n",
       "      <th>%Close_Inc</th>\n",
       "      <th>Close_is_shock</th>\n",
       "      <th>direction_of_Close_shock</th>\n",
       "    </tr>\n",
       "    <tr>\n",
       "      <th>Date</th>\n",
       "      <th></th>\n",
       "      <th></th>\n",
       "      <th></th>\n",
       "      <th></th>\n",
       "      <th></th>\n",
       "      <th></th>\n",
       "      <th></th>\n",
       "      <th></th>\n",
       "      <th></th>\n",
       "      <th></th>\n",
       "      <th></th>\n",
       "      <th></th>\n",
       "      <th></th>\n",
       "      <th></th>\n",
       "      <th></th>\n",
       "      <th></th>\n",
       "      <th></th>\n",
       "      <th></th>\n",
       "      <th></th>\n",
       "      <th></th>\n",
       "      <th></th>\n",
       "    </tr>\n",
       "  </thead>\n",
       "  <tbody>\n",
       "    <tr>\n",
       "      <th>2015-06-15</th>\n",
       "      <td>INFY</td>\n",
       "      <td>EQ</td>\n",
       "      <td>1975.05</td>\n",
       "      <td>976.95</td>\n",
       "      <td>998.8</td>\n",
       "      <td>968.0</td>\n",
       "      <td>994.00</td>\n",
       "      <td>990.45</td>\n",
       "      <td>990.17</td>\n",
       "      <td>2618213</td>\n",
       "      <td>...</td>\n",
       "      <td>84843</td>\n",
       "      <td>1444754</td>\n",
       "      <td>0.5518</td>\n",
       "      <td>2463231.0</td>\n",
       "      <td>6.291818</td>\n",
       "      <td>0</td>\n",
       "      <td>1</td>\n",
       "      <td>-49.851902</td>\n",
       "      <td>1</td>\n",
       "      <td>0</td>\n",
       "    </tr>\n",
       "    <tr>\n",
       "      <th>2015-07-21</th>\n",
       "      <td>INFY</td>\n",
       "      <td>EQ</td>\n",
       "      <td>1001.25</td>\n",
       "      <td>1035.00</td>\n",
       "      <td>1149.0</td>\n",
       "      <td>1035.0</td>\n",
       "      <td>1116.35</td>\n",
       "      <td>1112.65</td>\n",
       "      <td>1099.62</td>\n",
       "      <td>19155056</td>\n",
       "      <td>...</td>\n",
       "      <td>408583</td>\n",
       "      <td>9575992</td>\n",
       "      <td>0.4999</td>\n",
       "      <td>2188590.0</td>\n",
       "      <td>775.223591</td>\n",
       "      <td>1</td>\n",
       "      <td>1</td>\n",
       "      <td>11.126092</td>\n",
       "      <td>1</td>\n",
       "      <td>1</td>\n",
       "    </tr>\n",
       "  </tbody>\n",
       "</table>\n",
       "<p>2 rows × 21 columns</p>\n",
       "</div>"
      ],
      "text/plain": [
       "           Symbol Series  Prev Close     Open    High     Low     Last  \\\n",
       "Date                                                                     \n",
       "2015-06-15   INFY     EQ     1975.05   976.95   998.8   968.0   994.00   \n",
       "2015-07-21   INFY     EQ     1001.25  1035.00  1149.0  1035.0  1116.35   \n",
       "\n",
       "              Close     VWAP    Volume            ...             Trades  \\\n",
       "Date                                              ...                      \n",
       "2015-06-15   990.45   990.17   2618213            ...              84843   \n",
       "2015-07-21  1112.65  1099.62  19155056            ...             408583   \n",
       "\n",
       "            Deliverable Volume  %Deliverble  Prev_Volume  %Volume_Inc  \\\n",
       "Date                                                                    \n",
       "2015-06-15             1444754       0.5518    2463231.0     6.291818   \n",
       "2015-07-21             9575992       0.4999    2188590.0   775.223591   \n",
       "\n",
       "            is_shock  direction of shock  %Close_Inc  Close_is_shock  \\\n",
       "Date                                                                   \n",
       "2015-06-15         0                   1  -49.851902               1   \n",
       "2015-07-21         1                   1   11.126092               1   \n",
       "\n",
       "            direction_of_Close_shock  \n",
       "Date                                  \n",
       "2015-06-15                         0  \n",
       "2015-07-21                         1  \n",
       "\n",
       "[2 rows x 21 columns]"
      ]
     },
     "execution_count": 39,
     "metadata": {},
     "output_type": "execute_result"
    }
   ],
   "source": [
    "infy[abs(infy['%Close_Inc'])>10]"
   ]
  },
  {
   "cell_type": "markdown",
   "metadata": {},
   "source": [
    "# 3.4 Pricing shock without volume shock - based on points a & b - Make a 0/1 dummy time series."
   ]
  },
  {
   "cell_type": "code",
   "execution_count": 73,
   "metadata": {},
   "outputs": [],
   "source": [
    "def Pricing_shock_without_volume_shock(data):\n",
    "    data['Closing_shock_without_volume_shock']=[1 if (data['Close_is_shock'][k]==1)&(data['Volume_is_shock'][k]==0) else 0 for k in range(len(data))]\n",
    "    return(data)"
   ]
  },
  {
   "cell_type": "code",
   "execution_count": 74,
   "metadata": {},
   "outputs": [],
   "source": [
    "infy=Pricing_shock_without_volume_shock(infy)\n",
    "tcs=Pricing_shock_without_volume_shock(tcs)"
   ]
  },
  {
   "cell_type": "code",
   "execution_count": 75,
   "metadata": {
    "scrolled": false
   },
   "outputs": [
    {
     "data": {
      "text/plain": [
       "0    242\n",
       "1      5\n",
       "Name: Closing_shock_without_volume_shock, dtype: int64"
      ]
     },
     "execution_count": 75,
     "metadata": {},
     "output_type": "execute_result"
    }
   ],
   "source": [
    "infy['Closing_shock_without_volume_shock'].value_counts()"
   ]
  },
  {
   "cell_type": "code",
   "execution_count": 76,
   "metadata": {},
   "outputs": [
    {
     "name": "stderr",
     "output_type": "stream",
     "text": [
      "C:\\Users\\Nishant\\Anaconda3\\lib\\site-packages\\ipykernel_launcher.py:1: UserWarning: Boolean Series key will be reindexed to match DataFrame index.\n",
      "  \"\"\"Entry point for launching an IPython kernel.\n"
     ]
    },
    {
     "data": {
      "text/plain": [
       "5"
      ]
     },
     "execution_count": 76,
     "metadata": {},
     "output_type": "execute_result"
    }
   ],
   "source": [
    "len(infy[infy['Close_is_shock']==1][infy['Volume_is_shock']==0])  #Verification"
   ]
  },
  {
   "cell_type": "markdown",
   "metadata": {},
   "source": [
    "# Part 2 (data visualization ):"
   ]
  },
  {
   "cell_type": "markdown",
   "metadata": {},
   "source": [
    "# 1. "
   ]
  },
  {
   "cell_type": "code",
   "execution_count": 84,
   "metadata": {},
   "outputs": [
    {
     "data": {
      "text/html": [
       "\n",
       "\n",
       "\n",
       "\n",
       "\n",
       "\n",
       "  <div class=\"bk-root\" id=\"c2810d87-cc67-4178-8c5a-8eb22dfdaf3b\"></div>\n"
      ]
     },
     "metadata": {},
     "output_type": "display_data"
    },
    {
     "data": {
      "application/javascript": [
       "(function(root) {\n",
       "  function embed_document(root) {\n",
       "    \n",
       "  var docs_json = {\"222c8c1b-8303-4f9c-8e17-c95d9642d031\":{\"roots\":{\"references\":[{\"attributes\":{\"below\":[{\"id\":\"20157\",\"type\":\"DatetimeAxis\"}],\"left\":[{\"id\":\"20162\",\"type\":\"LinearAxis\"}],\"plot_height\":350,\"plot_width\":800,\"renderers\":[{\"id\":\"20157\",\"type\":\"DatetimeAxis\"},{\"id\":\"20161\",\"type\":\"Grid\"},{\"id\":\"20162\",\"type\":\"LinearAxis\"},{\"id\":\"20166\",\"type\":\"Grid\"},{\"id\":\"20172\",\"type\":\"BoxAnnotation\"},{\"id\":\"20201\",\"type\":\"Legend\"},{\"id\":\"20181\",\"type\":\"GlyphRenderer\"},{\"id\":\"20206\",\"type\":\"GlyphRenderer\"}],\"title\":{\"id\":\"20146\",\"type\":\"Title\"},\"toolbar\":{\"id\":\"20171\",\"type\":\"Toolbar\"},\"x_range\":{\"id\":\"20149\",\"type\":\"DataRange1d\"},\"x_scale\":{\"id\":\"20153\",\"type\":\"LinearScale\"},\"y_range\":{\"id\":\"20151\",\"type\":\"DataRange1d\"},\"y_scale\":{\"id\":\"20155\",\"type\":\"LinearScale\"}},\"id\":\"20147\",\"subtype\":\"Figure\",\"type\":\"Plot\"},{\"attributes\":{\"label\":{\"value\":\"infy\"},\"renderers\":[{\"id\":\"20181\",\"type\":\"GlyphRenderer\"}]},\"id\":\"20202\",\"type\":\"LegendItem\"},{\"attributes\":{},\"id\":\"20155\",\"type\":\"LinearScale\"},{\"attributes\":{\"line_color\":\"#1f77b4\",\"line_width\":2,\"x\":{\"field\":\"x\"},\"y\":{\"field\":\"y\"}},\"id\":\"20179\",\"type\":\"Line\"},{\"attributes\":{\"callback\":null,\"data\":{\"x\":[1420070400000.0,1420156800000.0,1420416000000.0,1420502400000.0,1420588800000.0,1420675200000.0,1420761600000.0,1421020800000.0,1421107200000.0,1421193600000.0,1421280000000.0,1421366400000.0,1421625600000.0,1421712000000.0,1421798400000.0,1421884800000.0,1421971200000.0,1422316800000.0,1422403200000.0,1422489600000.0,1422576000000.0,1422835200000.0,1422921600000.0,1423008000000.0,1423094400000.0,1423180800000.0,1423440000000.0,1423526400000.0,1423612800000.0,1423699200000.0,1423785600000.0,1424044800000.0,1424217600000.0,1424304000000.0,1424390400000.0,1424649600000.0,1424736000000.0,1424822400000.0,1424908800000.0,1424995200000.0,1425081600000.0,1425254400000.0,1425340800000.0,1425427200000.0,1425513600000.0,1425859200000.0,1425945600000.0,1426032000000.0,1426118400000.0,1426204800000.0,1426464000000.0,1426550400000.0,1426636800000.0,1426723200000.0,1426809600000.0,1427068800000.0,1427155200000.0,1427241600000.0,1427328000000.0,1427414400000.0,1427673600000.0,1427760000000.0,1427846400000.0,1428278400000.0,1428364800000.0,1428451200000.0,1428537600000.0,1428624000000.0,1428883200000.0,1429056000000.0,1429142400000.0,1429228800000.0,1429488000000.0,1429574400000.0,1429660800000.0,1429747200000.0,1429833600000.0,1430092800000.0,1430179200000.0,1430265600000.0,1430352000000.0,1430697600000.0,1430784000000.0,1430870400000.0,1430956800000.0,1431043200000.0,1431302400000.0,1431388800000.0,1431475200000.0,1431561600000.0,1431648000000.0,1431907200000.0,1431993600000.0,1432080000000.0,1432166400000.0,1432252800000.0,1432512000000.0,1432598400000.0,1432684800000.0,1432771200000.0,1432857600000.0,1433116800000.0,1433203200000.0,1433289600000.0,1433376000000.0,1433462400000.0,1433721600000.0,1433808000000.0,1433894400000.0,1433980800000.0,1434067200000.0,1434326400000.0,1434412800000.0,1434499200000.0,1434585600000.0,1434672000000.0,1434931200000.0,1435017600000.0,1435104000000.0,1435190400000.0,1435276800000.0,1435536000000.0,1435622400000.0,1435708800000.0,1435795200000.0,1435881600000.0,1436140800000.0,1436227200000.0,1436313600000.0,1436400000000.0,1436486400000.0,1436745600000.0,1436832000000.0,1436918400000.0,1437004800000.0,1437091200000.0,1437350400000.0,1437436800000.0,1437523200000.0,1437609600000.0,1437696000000.0,1437955200000.0,1438041600000.0,1438128000000.0,1438214400000.0,1438300800000.0,1438560000000.0,1438646400000.0,1438732800000.0,1438819200000.0,1438905600000.0,1439164800000.0,1439251200000.0,1439337600000.0,1439424000000.0,1439510400000.0,1439769600000.0,1439856000000.0,1439942400000.0,1440028800000.0,1440115200000.0,1440374400000.0,1440460800000.0,1440547200000.0,1440633600000.0,1440720000000.0,1440979200000.0,1441065600000.0,1441152000000.0,1441238400000.0,1441324800000.0,1441584000000.0,1441670400000.0,1441756800000.0,1441843200000.0,1441929600000.0,1442188800000.0,1442275200000.0,1442361600000.0,1442534400000.0,1442793600000.0,1442880000000.0,1442966400000.0,1443052800000.0,1443398400000.0,1443484800000.0,1443571200000.0,1443657600000.0,1444003200000.0,1444089600000.0,1444176000000.0,1444262400000.0,1444348800000.0,1444608000000.0,1444694400000.0,1444780800000.0,1444867200000.0,1444953600000.0,1445212800000.0,1445299200000.0,1445385600000.0,1445558400000.0,1445817600000.0,1445904000000.0,1445990400000.0,1446076800000.0,1446163200000.0,1446422400000.0,1446508800000.0,1446595200000.0,1446681600000.0,1446768000000.0,1447027200000.0,1447113600000.0,1447200000000.0,1447372800000.0,1447632000000.0,1447718400000.0,1447804800000.0,1447891200000.0,1447977600000.0,1448236800000.0,1448323200000.0,1448496000000.0,1448582400000.0,1448841600000.0,1448928000000.0,1449014400000.0,1449100800000.0,1449187200000.0,1449446400000.0,1449532800000.0,1449619200000.0,1449705600000.0,1449792000000.0,1450051200000.0,1450137600000.0,1450224000000.0,1450310400000.0,1450396800000.0,1450656000000.0,1450742400000.0,1450828800000.0,1450915200000.0,1451260800000.0,1451347200000.0,1451433600000.0],\"y\":{\"__ndarray__\":\"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\",\"dtype\":\"float64\",\"shape\":[247]}},\"selected\":{\"id\":\"20227\",\"type\":\"Selection\"},\"selection_policy\":{\"id\":\"20226\",\"type\":\"UnionRenderers\"}},\"id\":\"20178\",\"type\":\"ColumnDataSource\"},{\"attributes\":{\"days\":[1,8,15,22]},\"id\":\"20194\",\"type\":\"DaysTicker\"},{\"attributes\":{},\"id\":\"20170\",\"type\":\"SaveTool\"},{\"attributes\":{\"overlay\":{\"id\":\"20172\",\"type\":\"BoxAnnotation\"}},\"id\":\"20168\",\"type\":\"BoxZoomTool\"},{\"attributes\":{\"days\":[1,15]},\"id\":\"20195\",\"type\":\"DaysTicker\"},{\"attributes\":{},\"id\":\"20200\",\"type\":\"YearsTicker\"},{\"attributes\":{},\"id\":\"20169\",\"type\":\"ResetTool\"},{\"attributes\":{\"line_color\":\"red\",\"line_width\":2,\"x\":{\"field\":\"x\"},\"y\":{\"field\":\"y\"}},\"id\":\"20204\",\"type\":\"Line\"},{\"attributes\":{\"source\":{\"id\":\"20178\",\"type\":\"ColumnDataSource\"}},\"id\":\"20182\",\"type\":\"CDSView\"},{\"attributes\":{},\"id\":\"20227\",\"type\":\"Selection\"},{\"attributes\":{\"axis_label\":\"y\",\"formatter\":{\"id\":\"20187\",\"type\":\"BasicTickFormatter\"},\"plot\":{\"id\":\"20147\",\"subtype\":\"Figure\",\"type\":\"Plot\"},\"ticker\":{\"id\":\"20163\",\"type\":\"BasicTicker\"}},\"id\":\"20162\",\"type\":\"LinearAxis\"},{\"attributes\":{\"line_alpha\":0.1,\"line_color\":\"#1f77b4\",\"line_width\":2,\"x\":{\"field\":\"x\"},\"y\":{\"field\":\"y\"}},\"id\":\"20180\",\"type\":\"Line\"},{\"attributes\":{\"items\":[{\"id\":\"20202\",\"type\":\"LegendItem\"},{\"id\":\"20228\",\"type\":\"LegendItem\"}],\"plot\":{\"id\":\"20147\",\"subtype\":\"Figure\",\"type\":\"Plot\"}},\"id\":\"20201\",\"type\":\"Legend\"},{\"attributes\":{\"data_source\":{\"id\":\"20178\",\"type\":\"ColumnDataSource\"},\"glyph\":{\"id\":\"20179\",\"type\":\"Line\"},\"hover_glyph\":null,\"muted_glyph\":null,\"nonselection_glyph\":{\"id\":\"20180\",\"type\":\"Line\"},\"selection_glyph\":null,\"view\":{\"id\":\"20182\",\"type\":\"CDSView\"}},\"id\":\"20181\",\"type\":\"GlyphRenderer\"},{\"attributes\":{},\"id\":\"20187\",\"type\":\"BasicTickFormatter\"},{\"attributes\":{},\"id\":\"20185\",\"type\":\"DatetimeTickFormatter\"},{\"attributes\":{\"plot\":null,\"text\":\"Close plot\"},\"id\":\"20146\",\"type\":\"Title\"},{\"attributes\":{},\"id\":\"20163\",\"type\":\"BasicTicker\"},{\"attributes\":{\"mantissas\":[1,2,5],\"max_interval\":500.0,\"num_minor_ticks\":0},\"id\":\"20189\",\"type\":\"AdaptiveTicker\"},{\"attributes\":{},\"id\":\"20978\",\"type\":\"Selection\"},{\"attributes\":{\"callback\":null},\"id\":\"20151\",\"type\":\"DataRange1d\"},{\"attributes\":{\"months\":[0,6]},\"id\":\"20199\",\"type\":\"MonthsTicker\"},{\"attributes\":{\"label\":{\"value\":\"tcs\"},\"renderers\":[{\"id\":\"20206\",\"type\":\"GlyphRenderer\"}]},\"id\":\"20228\",\"type\":\"LegendItem\"},{\"attributes\":{\"source\":{\"id\":\"20203\",\"type\":\"ColumnDataSource\"}},\"id\":\"20207\",\"type\":\"CDSView\"},{\"attributes\":{\"base\":60,\"mantissas\":[1,2,5,10,15,20,30],\"max_interval\":1800000.0,\"min_interval\":1000.0,\"num_minor_ticks\":0},\"id\":\"20190\",\"type\":\"AdaptiveTicker\"},{\"attributes\":{},\"id\":\"20153\",\"type\":\"LinearScale\"},{\"attributes\":{\"callback\":null,\"data\":{\"x\":[1420070400000.0,1420156800000.0,1420416000000.0,1420502400000.0,1420588800000.0,1420675200000.0,1420761600000.0,1421020800000.0,1421107200000.0,1421193600000.0,1421280000000.0,1421366400000.0,1421625600000.0,1421712000000.0,1421798400000.0,1421884800000.0,1421971200000.0,1422316800000.0,1422403200000.0,1422489600000.0,1422576000000.0,1422835200000.0,1422921600000.0,1423008000000.0,1423094400000.0,1423180800000.0,1423440000000.0,1423526400000.0,1423612800000.0,1423699200000.0,1423785600000.0,1424044800000.0,1424217600000.0,1424304000000.0,1424390400000.0,1424649600000.0,1424736000000.0,1424822400000.0,1424908800000.0,1424995200000.0,1425081600000.0,1425254400000.0,1425340800000.0,1425427200000.0,1425513600000.0,1425859200000.0,1425945600000.0,1426032000000.0,1426118400000.0,1426204800000.0,1426464000000.0,1426550400000.0,1426636800000.0,1426723200000.0,1426809600000.0,1427068800000.0,1427155200000.0,1427241600000.0,1427328000000.0,1427414400000.0,1427673600000.0,1427760000000.0,1427846400000.0,1428278400000.0,1428364800000.0,1428451200000.0,1428537600000.0,1428624000000.0,1428883200000.0,1429056000000.0,1429142400000.0,1429228800000.0,1429488000000.0,1429574400000.0,1429660800000.0,1429747200000.0,1429833600000.0,1430092800000.0,1430179200000.0,1430265600000.0,1430352000000.0,1430697600000.0,1430784000000.0,1430870400000.0,1430956800000.0,1431043200000.0,1431302400000.0,1431388800000.0,1431475200000.0,1431561600000.0,1431648000000.0,1431907200000.0,1431993600000.0,1432080000000.0,1432166400000.0,1432252800000.0,1432512000000.0,1432598400000.0,1432684800000.0,1432771200000.0,1432857600000.0,1433116800000.0,1433203200000.0,1433289600000.0,1433376000000.0,1433462400000.0,1433721600000.0,1433808000000.0,1433894400000.0,1433980800000.0,1434067200000.0,1434326400000.0,1434412800000.0,1434499200000.0,1434585600000.0,1434672000000.0,1434931200000.0,1435017600000.0,1435104000000.0,1435190400000.0,1435276800000.0,1435536000000.0,1435622400000.0,1435708800000.0,1435795200000.0,1435881600000.0,1436140800000.0,1436227200000.0,1436313600000.0,1436400000000.0,1436486400000.0,1436745600000.0,1436832000000.0,1436918400000.0,1437004800000.0,1437091200000.0,1437350400000.0,1437436800000.0,1437523200000.0,1437609600000.0,1437696000000.0,1437955200000.0,1438041600000.0,1438128000000.0,1438214400000.0,1438300800000.0,1438560000000.0,1438646400000.0,1438732800000.0,1438819200000.0,1438905600000.0,1439164800000.0,1439251200000.0,1439337600000.0,1439424000000.0,1439510400000.0,1439769600000.0,1439856000000.0,1439942400000.0,1440028800000.0,1440115200000.0,1440374400000.0,1440460800000.0,1440547200000.0,1440633600000.0,1440720000000.0,1440979200000.0,1441065600000.0,1441152000000.0,1441238400000.0,1441324800000.0,1441584000000.0,1441670400000.0,1441756800000.0,1441843200000.0,1441929600000.0,1442188800000.0,1442275200000.0,1442361600000.0,1442534400000.0,1442793600000.0,1442880000000.0,1442966400000.0,1443052800000.0,1443398400000.0,1443484800000.0,1443571200000.0,1443657600000.0,1444003200000.0,1444089600000.0,1444176000000.0,1444262400000.0,1444348800000.0,1444608000000.0,1444694400000.0,1444780800000.0,1444867200000.0,1444953600000.0,1445212800000.0,1445299200000.0,1445385600000.0,1445558400000.0,1445817600000.0,1445904000000.0,1445990400000.0,1446076800000.0,1446163200000.0,1446422400000.0,1446508800000.0,1446595200000.0,1446681600000.0,1446768000000.0,1447027200000.0,1447113600000.0,1447200000000.0,1447372800000.0,1447632000000.0,1447718400000.0,1447804800000.0,1447891200000.0,1447977600000.0,1448236800000.0,1448323200000.0,1448496000000.0,1448582400000.0,1448841600000.0,1448928000000.0,1449014400000.0,1449100800000.0,1449187200000.0,1449446400000.0,1449532800000.0,1449619200000.0,1449705600000.0,1449792000000.0,1450051200000.0,1450137600000.0,1450224000000.0,1450310400000.0,1450396800000.0,1450656000000.0,1450742400000.0,1450828800000.0,1450915200000.0,1451260800000.0,1451347200000.0,1451433600000.0],\"y\":{\"__ndarray__\":\"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\",\"dtype\":\"float64\",\"shape\":[247]}},\"selected\":{\"id\":\"20978\",\"type\":\"Selection\"},\"selection_policy\":{\"id\":\"20977\",\"type\":\"UnionRenderers\"}},\"id\":\"20203\",\"type\":\"ColumnDataSource\"},{\"attributes\":{},\"id\":\"20226\",\"type\":\"UnionRenderers\"},{\"attributes\":{\"axis_label\":\"x\",\"formatter\":{\"id\":\"20185\",\"type\":\"DatetimeTickFormatter\"},\"plot\":{\"id\":\"20147\",\"subtype\":\"Figure\",\"type\":\"Plot\"},\"ticker\":{\"id\":\"20158\",\"type\":\"DatetimeTicker\"}},\"id\":\"20157\",\"type\":\"DatetimeAxis\"},{\"attributes\":{\"line_alpha\":0.1,\"line_color\":\"#1f77b4\",\"line_width\":2,\"x\":{\"field\":\"x\"},\"y\":{\"field\":\"y\"}},\"id\":\"20205\",\"type\":\"Line\"},{\"attributes\":{\"active_drag\":\"auto\",\"active_inspect\":\"auto\",\"active_multi\":null,\"active_scroll\":\"auto\",\"active_tap\":\"auto\",\"tools\":[{\"id\":\"20167\",\"type\":\"PanTool\"},{\"id\":\"20168\",\"type\":\"BoxZoomTool\"},{\"id\":\"20169\",\"type\":\"ResetTool\"},{\"id\":\"20170\",\"type\":\"SaveTool\"}]},\"id\":\"20171\",\"type\":\"Toolbar\"},{\"attributes\":{\"callback\":null},\"id\":\"20149\",\"type\":\"DataRange1d\"},{\"attributes\":{},\"id\":\"20167\",\"type\":\"PanTool\"},{\"attributes\":{},\"id\":\"20977\",\"type\":\"UnionRenderers\"},{\"attributes\":{\"plot\":{\"id\":\"20147\",\"subtype\":\"Figure\",\"type\":\"Plot\"},\"ticker\":{\"id\":\"20158\",\"type\":\"DatetimeTicker\"}},\"id\":\"20161\",\"type\":\"Grid\"},{\"attributes\":{\"bottom_units\":\"screen\",\"fill_alpha\":{\"value\":0.5},\"fill_color\":{\"value\":\"lightgrey\"},\"left_units\":\"screen\",\"level\":\"overlay\",\"line_alpha\":{\"value\":1.0},\"line_color\":{\"value\":\"black\"},\"line_dash\":[4,4],\"line_width\":{\"value\":2},\"plot\":null,\"render_mode\":\"css\",\"right_units\":\"screen\",\"top_units\":\"screen\"},\"id\":\"20172\",\"type\":\"BoxAnnotation\"},{\"attributes\":{\"base\":24,\"mantissas\":[1,2,4,6,8,12],\"max_interval\":43200000.0,\"min_interval\":3600000.0,\"num_minor_ticks\":0},\"id\":\"20191\",\"type\":\"AdaptiveTicker\"},{\"attributes\":{\"months\":[0,1,2,3,4,5,6,7,8,9,10,11]},\"id\":\"20196\",\"type\":\"MonthsTicker\"},{\"attributes\":{\"months\":[0,4,8]},\"id\":\"20198\",\"type\":\"MonthsTicker\"},{\"attributes\":{\"days\":[1,4,7,10,13,16,19,22,25,28]},\"id\":\"20193\",\"type\":\"DaysTicker\"},{\"attributes\":{\"months\":[0,2,4,6,8,10]},\"id\":\"20197\",\"type\":\"MonthsTicker\"},{\"attributes\":{\"dimension\":1,\"plot\":{\"id\":\"20147\",\"subtype\":\"Figure\",\"type\":\"Plot\"},\"ticker\":{\"id\":\"20163\",\"type\":\"BasicTicker\"}},\"id\":\"20166\",\"type\":\"Grid\"},{\"attributes\":{\"days\":[1,2,3,4,5,6,7,8,9,10,11,12,13,14,15,16,17,18,19,20,21,22,23,24,25,26,27,28,29,30,31]},\"id\":\"20192\",\"type\":\"DaysTicker\"},{\"attributes\":{\"num_minor_ticks\":5,\"tickers\":[{\"id\":\"20189\",\"type\":\"AdaptiveTicker\"},{\"id\":\"20190\",\"type\":\"AdaptiveTicker\"},{\"id\":\"20191\",\"type\":\"AdaptiveTicker\"},{\"id\":\"20192\",\"type\":\"DaysTicker\"},{\"id\":\"20193\",\"type\":\"DaysTicker\"},{\"id\":\"20194\",\"type\":\"DaysTicker\"},{\"id\":\"20195\",\"type\":\"DaysTicker\"},{\"id\":\"20196\",\"type\":\"MonthsTicker\"},{\"id\":\"20197\",\"type\":\"MonthsTicker\"},{\"id\":\"20198\",\"type\":\"MonthsTicker\"},{\"id\":\"20199\",\"type\":\"MonthsTicker\"},{\"id\":\"20200\",\"type\":\"YearsTicker\"}]},\"id\":\"20158\",\"type\":\"DatetimeTicker\"},{\"attributes\":{\"data_source\":{\"id\":\"20203\",\"type\":\"ColumnDataSource\"},\"glyph\":{\"id\":\"20204\",\"type\":\"Line\"},\"hover_glyph\":null,\"muted_glyph\":null,\"nonselection_glyph\":{\"id\":\"20205\",\"type\":\"Line\"},\"selection_glyph\":null,\"view\":{\"id\":\"20207\",\"type\":\"CDSView\"}},\"id\":\"20206\",\"type\":\"GlyphRenderer\"}],\"root_ids\":[\"20147\"]},\"title\":\"Bokeh Application\",\"version\":\"1.0.2\"}};\n",
       "  var render_items = [{\"docid\":\"222c8c1b-8303-4f9c-8e17-c95d9642d031\",\"roots\":{\"20147\":\"c2810d87-cc67-4178-8c5a-8eb22dfdaf3b\"}}];\n",
       "  root.Bokeh.embed.embed_items_notebook(docs_json, render_items);\n",
       "\n",
       "  }\n",
       "  if (root.Bokeh !== undefined) {\n",
       "    embed_document(root);\n",
       "  } else {\n",
       "    var attempts = 0;\n",
       "    var timer = setInterval(function(root) {\n",
       "      if (root.Bokeh !== undefined) {\n",
       "        embed_document(root);\n",
       "        clearInterval(timer);\n",
       "      }\n",
       "      attempts++;\n",
       "      if (attempts > 100) {\n",
       "        console.log(\"Bokeh: ERROR: Unable to run BokehJS code because BokehJS library is missing\");\n",
       "        clearInterval(timer);\n",
       "      }\n",
       "    }, 10, root)\n",
       "  }\n",
       "})(window);"
      ],
      "application/vnd.bokehjs_exec.v0+json": ""
     },
     "metadata": {
      "application/vnd.bokehjs_exec.v0+json": {
       "id": "20147"
      }
     },
     "output_type": "display_data"
    }
   ],
   "source": [
    "i = figure(title= 'Close plot', x_axis_label='x',x_axis_type=\"datetime\", y_axis_label='y',plot_width=800, plot_height=350,tools=\"pan,box_zoom,reset,save\")\n",
    "i.line(infy.index,infy['Close'],line_width=2,legend='infy')\n",
    "i.line(tcs.index,tcs['Close'],line_width=2,color='red',legend='tcs')\n",
    "show(i)"
   ]
  },
  {
   "cell_type": "markdown",
   "metadata": {},
   "source": [
    "# 2."
   ]
  },
  {
   "cell_type": "code",
   "execution_count": 85,
   "metadata": {},
   "outputs": [
    {
     "data": {
      "text/html": [
       "\n",
       "\n",
       "\n",
       "\n",
       "\n",
       "\n",
       "  <div class=\"bk-root\" id=\"14251d9c-2cfe-4b8a-9700-9c79359b39dc\"></div>\n"
      ]
     },
     "metadata": {},
     "output_type": "display_data"
    },
    {
     "data": {
      "application/javascript": [
       "(function(root) {\n",
       "  function embed_document(root) {\n",
       "    \n",
       "  var docs_json = {\"fa7e40b6-1b94-4252-bc08-409694d02775\":{\"roots\":{\"references\":[{\"attributes\":{\"background_fill_alpha\":{\"value\":0.5},\"background_fill_color\":{\"value\":\"lightblue\"},\"below\":[{\"id\":\"21122\",\"type\":\"DatetimeAxis\"}],\"left\":[{\"id\":\"21127\",\"type\":\"LinearAxis\"}],\"plot_height\":350,\"plot_width\":800,\"renderers\":[{\"id\":\"21122\",\"type\":\"DatetimeAxis\"},{\"id\":\"21126\",\"type\":\"Grid\"},{\"id\":\"21127\",\"type\":\"LinearAxis\"},{\"id\":\"21131\",\"type\":\"Grid\"},{\"id\":\"21137\",\"type\":\"BoxAnnotation\"},{\"id\":\"21166\",\"type\":\"Legend\"},{\"id\":\"21146\",\"type\":\"GlyphRenderer\"},{\"id\":\"21171\",\"type\":\"GlyphRenderer\"}],\"title\":{\"id\":\"21111\",\"type\":\"Title\"},\"toolbar\":{\"id\":\"21136\",\"type\":\"Toolbar\"},\"x_range\":{\"id\":\"21114\",\"type\":\"DataRange1d\"},\"x_scale\":{\"id\":\"21118\",\"type\":\"LinearScale\"},\"y_range\":{\"id\":\"21116\",\"type\":\"DataRange1d\"},\"y_scale\":{\"id\":\"21120\",\"type\":\"LinearScale\"}},\"id\":\"21112\",\"subtype\":\"Figure\",\"type\":\"Plot\"},{\"attributes\":{\"callback\":null},\"id\":\"21116\",\"type\":\"DataRange1d\"},{\"attributes\":{\"dimension\":1,\"plot\":{\"id\":\"21112\",\"subtype\":\"Figure\",\"type\":\"Plot\"},\"ticker\":{\"id\":\"21128\",\"type\":\"BasicTicker\"}},\"id\":\"21131\",\"type\":\"Grid\"},{\"attributes\":{\"base\":60,\"mantissas\":[1,2,5,10,15,20,30],\"max_interval\":1800000.0,\"min_interval\":1000.0,\"num_minor_ticks\":0},\"id\":\"21155\",\"type\":\"AdaptiveTicker\"},{\"attributes\":{\"months\":[0,6]},\"id\":\"21164\",\"type\":\"MonthsTicker\"},{\"attributes\":{},\"id\":\"21128\",\"type\":\"BasicTicker\"},{\"attributes\":{\"days\":[1,4,7,10,13,16,19,22,25,28]},\"id\":\"21158\",\"type\":\"DaysTicker\"},{\"attributes\":{},\"id\":\"21192\",\"type\":\"Selection\"},{\"attributes\":{\"label\":{\"value\":\"tcs\"},\"renderers\":[{\"id\":\"21171\",\"type\":\"GlyphRenderer\"}]},\"id\":\"21193\",\"type\":\"LegendItem\"},{\"attributes\":{\"axis_label\":\"x\",\"formatter\":{\"id\":\"21150\",\"type\":\"DatetimeTickFormatter\"},\"plot\":{\"id\":\"21112\",\"subtype\":\"Figure\",\"type\":\"Plot\"},\"ticker\":{\"id\":\"21123\",\"type\":\"DatetimeTicker\"}},\"id\":\"21122\",\"type\":\"DatetimeAxis\"},{\"attributes\":{\"days\":[1,2,3,4,5,6,7,8,9,10,11,12,13,14,15,16,17,18,19,20,21,22,23,24,25,26,27,28,29,30,31]},\"id\":\"21157\",\"type\":\"DaysTicker\"},{\"attributes\":{\"months\":[0,1,2,3,4,5,6,7,8,9,10,11]},\"id\":\"21161\",\"type\":\"MonthsTicker\"},{\"attributes\":{},\"id\":\"21964\",\"type\":\"UnionRenderers\"},{\"attributes\":{\"months\":[0,2,4,6,8,10]},\"id\":\"21162\",\"type\":\"MonthsTicker\"},{\"attributes\":{\"source\":{\"id\":\"21143\",\"type\":\"ColumnDataSource\"}},\"id\":\"21147\",\"type\":\"CDSView\"},{\"attributes\":{},\"id\":\"21152\",\"type\":\"BasicTickFormatter\"},{\"attributes\":{},\"id\":\"21118\",\"type\":\"LinearScale\"},{\"attributes\":{\"base\":24,\"mantissas\":[1,2,4,6,8,12],\"max_interval\":43200000.0,\"min_interval\":3600000.0,\"num_minor_ticks\":0},\"id\":\"21156\",\"type\":\"AdaptiveTicker\"},{\"attributes\":{\"source\":{\"id\":\"21168\",\"type\":\"ColumnDataSource\"}},\"id\":\"21172\",\"type\":\"CDSView\"},{\"attributes\":{\"overlay\":{\"id\":\"21137\",\"type\":\"BoxAnnotation\"}},\"id\":\"21133\",\"type\":\"BoxZoomTool\"},{\"attributes\":{\"callback\":null,\"data\":{\"x\":[1420070400000.0,1420156800000.0,1420416000000.0,1420502400000.0,1420588800000.0,1420675200000.0,1420761600000.0,1421020800000.0,1421107200000.0,1421193600000.0,1421280000000.0,1421366400000.0,1421625600000.0,1421712000000.0,1421798400000.0,1421884800000.0,1421971200000.0,1422316800000.0,1422403200000.0,1422489600000.0,1422576000000.0,1422835200000.0,1422921600000.0,1423008000000.0,1423094400000.0,1423180800000.0,1423440000000.0,1423526400000.0,1423612800000.0,1423699200000.0,1423785600000.0,1424044800000.0,1424217600000.0,1424304000000.0,1424390400000.0,1424649600000.0,1424736000000.0,1424822400000.0,1424908800000.0,1424995200000.0,1425081600000.0,1425254400000.0,1425340800000.0,1425427200000.0,1425513600000.0,1425859200000.0,1425945600000.0,1426032000000.0,1426118400000.0,1426204800000.0,1426464000000.0,1426550400000.0,1426636800000.0,1426723200000.0,1426809600000.0,1427068800000.0,1427155200000.0,1427241600000.0,1427328000000.0,1427414400000.0,1427673600000.0,1427760000000.0,1427846400000.0,1428278400000.0,1428364800000.0,1428451200000.0,1428537600000.0,1428624000000.0,1428883200000.0,1429056000000.0,1429142400000.0,1429228800000.0,1429488000000.0,1429574400000.0,1429660800000.0,1429747200000.0,1429833600000.0,1430092800000.0,1430179200000.0,1430265600000.0,1430352000000.0,1430697600000.0,1430784000000.0,1430870400000.0,1430956800000.0,1431043200000.0,1431302400000.0,1431388800000.0,1431475200000.0,1431561600000.0,1431648000000.0,1431907200000.0,1431993600000.0,1432080000000.0,1432166400000.0,1432252800000.0,1432512000000.0,1432598400000.0,1432684800000.0,1432771200000.0,1432857600000.0,1433116800000.0,1433203200000.0,1433289600000.0,1433376000000.0,1433462400000.0,1433721600000.0,1433808000000.0,1433894400000.0,1433980800000.0,1434067200000.0,1434326400000.0,1434412800000.0,1434499200000.0,1434585600000.0,1434672000000.0,1434931200000.0,1435017600000.0,1435104000000.0,1435190400000.0,1435276800000.0,1435536000000.0,1435622400000.0,1435708800000.0,1435795200000.0,1435881600000.0,1436140800000.0,1436227200000.0,1436313600000.0,1436400000000.0,1436486400000.0,1436745600000.0,1436832000000.0,1436918400000.0,1437004800000.0,1437091200000.0,1437350400000.0,1437436800000.0,1437523200000.0,1437609600000.0,1437696000000.0,1437955200000.0,1438041600000.0,1438128000000.0,1438214400000.0,1438300800000.0,1438560000000.0,1438646400000.0,1438732800000.0,1438819200000.0,1438905600000.0,1439164800000.0,1439251200000.0,1439337600000.0,1439424000000.0,1439510400000.0,1439769600000.0,1439856000000.0,1439942400000.0,1440028800000.0,1440115200000.0,1440374400000.0,1440460800000.0,1440547200000.0,1440633600000.0,1440720000000.0,1440979200000.0,1441065600000.0,1441152000000.0,1441238400000.0,1441324800000.0,1441584000000.0,1441670400000.0,1441756800000.0,1441843200000.0,1441929600000.0,1442188800000.0,1442275200000.0,1442361600000.0,1442534400000.0,1442793600000.0,1442880000000.0,1442966400000.0,1443052800000.0,1443398400000.0,1443484800000.0,1443571200000.0,1443657600000.0,1444003200000.0,1444089600000.0,1444176000000.0,1444262400000.0,1444348800000.0,1444608000000.0,1444694400000.0,1444780800000.0,1444867200000.0,1444953600000.0,1445212800000.0,1445299200000.0,1445385600000.0,1445558400000.0,1445817600000.0,1445904000000.0,1445990400000.0,1446076800000.0,1446163200000.0,1446422400000.0,1446508800000.0,1446595200000.0,1446681600000.0,1446768000000.0,1447027200000.0,1447113600000.0,1447200000000.0,1447372800000.0,1447632000000.0,1447718400000.0,1447804800000.0,1447891200000.0,1447977600000.0,1448236800000.0,1448323200000.0,1448496000000.0,1448582400000.0,1448841600000.0,1448928000000.0,1449014400000.0,1449100800000.0,1449187200000.0,1449446400000.0,1449532800000.0,1449619200000.0,1449705600000.0,1449792000000.0,1450051200000.0,1450137600000.0,1450224000000.0,1450310400000.0,1450396800000.0,1450656000000.0,1450742400000.0,1450828800000.0,1450915200000.0,1451260800000.0,1451347200000.0,1451433600000.0],\"y\":{\"__ndarray__\":\"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\",\"dtype\":\"float64\",\"shape\":[247]}},\"selected\":{\"id\":\"21965\",\"type\":\"Selection\"},\"selection_policy\":{\"id\":\"21964\",\"type\":\"UnionRenderers\"}},\"id\":\"21168\",\"type\":\"ColumnDataSource\"},{\"attributes\":{\"line_alpha\":0.1,\"line_color\":\"#1f77b4\",\"line_width\":2,\"x\":{\"field\":\"x\"},\"y\":{\"field\":\"y\"}},\"id\":\"21170\",\"type\":\"Line\"},{\"attributes\":{\"days\":[1,8,15,22]},\"id\":\"21159\",\"type\":\"DaysTicker\"},{\"attributes\":{\"data_source\":{\"id\":\"21168\",\"type\":\"ColumnDataSource\"},\"glyph\":{\"id\":\"21169\",\"type\":\"Line\"},\"hover_glyph\":null,\"muted_glyph\":null,\"nonselection_glyph\":{\"id\":\"21170\",\"type\":\"Line\"},\"selection_glyph\":null,\"view\":{\"id\":\"21172\",\"type\":\"CDSView\"}},\"id\":\"21171\",\"type\":\"GlyphRenderer\"},{\"attributes\":{},\"id\":\"21150\",\"type\":\"DatetimeTickFormatter\"},{\"attributes\":{\"callback\":null,\"data\":{\"x\":[1420070400000.0,1420156800000.0,1420416000000.0,1420502400000.0,1420588800000.0,1420675200000.0,1420761600000.0,1421020800000.0,1421107200000.0,1421193600000.0,1421280000000.0,1421366400000.0,1421625600000.0,1421712000000.0,1421798400000.0,1421884800000.0,1421971200000.0,1422316800000.0,1422403200000.0,1422489600000.0,1422576000000.0,1422835200000.0,1422921600000.0,1423008000000.0,1423094400000.0,1423180800000.0,1423440000000.0,1423526400000.0,1423612800000.0,1423699200000.0,1423785600000.0,1424044800000.0,1424217600000.0,1424304000000.0,1424390400000.0,1424649600000.0,1424736000000.0,1424822400000.0,1424908800000.0,1424995200000.0,1425081600000.0,1425254400000.0,1425340800000.0,1425427200000.0,1425513600000.0,1425859200000.0,1425945600000.0,1426032000000.0,1426118400000.0,1426204800000.0,1426464000000.0,1426550400000.0,1426636800000.0,1426723200000.0,1426809600000.0,1427068800000.0,1427155200000.0,1427241600000.0,1427328000000.0,1427414400000.0,1427673600000.0,1427760000000.0,1427846400000.0,1428278400000.0,1428364800000.0,1428451200000.0,1428537600000.0,1428624000000.0,1428883200000.0,1429056000000.0,1429142400000.0,1429228800000.0,1429488000000.0,1429574400000.0,1429660800000.0,1429747200000.0,1429833600000.0,1430092800000.0,1430179200000.0,1430265600000.0,1430352000000.0,1430697600000.0,1430784000000.0,1430870400000.0,1430956800000.0,1431043200000.0,1431302400000.0,1431388800000.0,1431475200000.0,1431561600000.0,1431648000000.0,1431907200000.0,1431993600000.0,1432080000000.0,1432166400000.0,1432252800000.0,1432512000000.0,1432598400000.0,1432684800000.0,1432771200000.0,1432857600000.0,1433116800000.0,1433203200000.0,1433289600000.0,1433376000000.0,1433462400000.0,1433721600000.0,1433808000000.0,1433894400000.0,1433980800000.0,1434067200000.0,1434326400000.0,1434412800000.0,1434499200000.0,1434585600000.0,1434672000000.0,1434931200000.0,1435017600000.0,1435104000000.0,1435190400000.0,1435276800000.0,1435536000000.0,1435622400000.0,1435708800000.0,1435795200000.0,1435881600000.0,1436140800000.0,1436227200000.0,1436313600000.0,1436400000000.0,1436486400000.0,1436745600000.0,1436832000000.0,1436918400000.0,1437004800000.0,1437091200000.0,1437350400000.0,1437436800000.0,1437523200000.0,1437609600000.0,1437696000000.0,1437955200000.0,1438041600000.0,1438128000000.0,1438214400000.0,1438300800000.0,1438560000000.0,1438646400000.0,1438732800000.0,1438819200000.0,1438905600000.0,1439164800000.0,1439251200000.0,1439337600000.0,1439424000000.0,1439510400000.0,1439769600000.0,1439856000000.0,1439942400000.0,1440028800000.0,1440115200000.0,1440374400000.0,1440460800000.0,1440547200000.0,1440633600000.0,1440720000000.0,1440979200000.0,1441065600000.0,1441152000000.0,1441238400000.0,1441324800000.0,1441584000000.0,1441670400000.0,1441756800000.0,1441843200000.0,1441929600000.0,1442188800000.0,1442275200000.0,1442361600000.0,1442534400000.0,1442793600000.0,1442880000000.0,1442966400000.0,1443052800000.0,1443398400000.0,1443484800000.0,1443571200000.0,1443657600000.0,1444003200000.0,1444089600000.0,1444176000000.0,1444262400000.0,1444348800000.0,1444608000000.0,1444694400000.0,1444780800000.0,1444867200000.0,1444953600000.0,1445212800000.0,1445299200000.0,1445385600000.0,1445558400000.0,1445817600000.0,1445904000000.0,1445990400000.0,1446076800000.0,1446163200000.0,1446422400000.0,1446508800000.0,1446595200000.0,1446681600000.0,1446768000000.0,1447027200000.0,1447113600000.0,1447200000000.0,1447372800000.0,1447632000000.0,1447718400000.0,1447804800000.0,1447891200000.0,1447977600000.0,1448236800000.0,1448323200000.0,1448496000000.0,1448582400000.0,1448841600000.0,1448928000000.0,1449014400000.0,1449100800000.0,1449187200000.0,1449446400000.0,1449532800000.0,1449619200000.0,1449705600000.0,1449792000000.0,1450051200000.0,1450137600000.0,1450224000000.0,1450310400000.0,1450396800000.0,1450656000000.0,1450742400000.0,1450828800000.0,1450915200000.0,1451260800000.0,1451347200000.0,1451433600000.0],\"y\":{\"__ndarray__\":\"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\",\"dtype\":\"float64\",\"shape\":[247]}},\"selected\":{\"id\":\"21192\",\"type\":\"Selection\"},\"selection_policy\":{\"id\":\"21191\",\"type\":\"UnionRenderers\"}},\"id\":\"21143\",\"type\":\"ColumnDataSource\"},{\"attributes\":{\"days\":[1,15]},\"id\":\"21160\",\"type\":\"DaysTicker\"},{\"attributes\":{\"callback\":null},\"id\":\"21114\",\"type\":\"DataRange1d\"},{\"attributes\":{\"plot\":null,\"text\":\"Close plot with Blue color\"},\"id\":\"21111\",\"type\":\"Title\"},{\"attributes\":{\"line_alpha\":0.1,\"line_color\":\"#1f77b4\",\"line_width\":2,\"x\":{\"field\":\"x\"},\"y\":{\"field\":\"y\"}},\"id\":\"21145\",\"type\":\"Line\"},{\"attributes\":{},\"id\":\"21132\",\"type\":\"PanTool\"},{\"attributes\":{\"line_color\":\"#1f77b4\",\"line_width\":2,\"x\":{\"field\":\"x\"},\"y\":{\"field\":\"y\"}},\"id\":\"21144\",\"type\":\"Line\"},{\"attributes\":{},\"id\":\"21134\",\"type\":\"ResetTool\"},{\"attributes\":{},\"id\":\"21965\",\"type\":\"Selection\"},{\"attributes\":{\"plot\":{\"id\":\"21112\",\"subtype\":\"Figure\",\"type\":\"Plot\"},\"ticker\":{\"id\":\"21123\",\"type\":\"DatetimeTicker\"}},\"id\":\"21126\",\"type\":\"Grid\"},{\"attributes\":{\"num_minor_ticks\":5,\"tickers\":[{\"id\":\"21154\",\"type\":\"AdaptiveTicker\"},{\"id\":\"21155\",\"type\":\"AdaptiveTicker\"},{\"id\":\"21156\",\"type\":\"AdaptiveTicker\"},{\"id\":\"21157\",\"type\":\"DaysTicker\"},{\"id\":\"21158\",\"type\":\"DaysTicker\"},{\"id\":\"21159\",\"type\":\"DaysTicker\"},{\"id\":\"21160\",\"type\":\"DaysTicker\"},{\"id\":\"21161\",\"type\":\"MonthsTicker\"},{\"id\":\"21162\",\"type\":\"MonthsTicker\"},{\"id\":\"21163\",\"type\":\"MonthsTicker\"},{\"id\":\"21164\",\"type\":\"MonthsTicker\"},{\"id\":\"21165\",\"type\":\"YearsTicker\"}]},\"id\":\"21123\",\"type\":\"DatetimeTicker\"},{\"attributes\":{},\"id\":\"21135\",\"type\":\"SaveTool\"},{\"attributes\":{\"axis_label\":\"y\",\"formatter\":{\"id\":\"21152\",\"type\":\"BasicTickFormatter\"},\"plot\":{\"id\":\"21112\",\"subtype\":\"Figure\",\"type\":\"Plot\"},\"ticker\":{\"id\":\"21128\",\"type\":\"BasicTicker\"}},\"id\":\"21127\",\"type\":\"LinearAxis\"},{\"attributes\":{\"active_drag\":\"auto\",\"active_inspect\":\"auto\",\"active_multi\":null,\"active_scroll\":\"auto\",\"active_tap\":\"auto\",\"tools\":[{\"id\":\"21132\",\"type\":\"PanTool\"},{\"id\":\"21133\",\"type\":\"BoxZoomTool\"},{\"id\":\"21134\",\"type\":\"ResetTool\"},{\"id\":\"21135\",\"type\":\"SaveTool\"}]},\"id\":\"21136\",\"type\":\"Toolbar\"},{\"attributes\":{\"label\":{\"value\":\"infy\"},\"renderers\":[{\"id\":\"21146\",\"type\":\"GlyphRenderer\"}]},\"id\":\"21167\",\"type\":\"LegendItem\"},{\"attributes\":{\"data_source\":{\"id\":\"21143\",\"type\":\"ColumnDataSource\"},\"glyph\":{\"id\":\"21144\",\"type\":\"Line\"},\"hover_glyph\":null,\"muted_glyph\":null,\"nonselection_glyph\":{\"id\":\"21145\",\"type\":\"Line\"},\"selection_glyph\":null,\"view\":{\"id\":\"21147\",\"type\":\"CDSView\"}},\"id\":\"21146\",\"type\":\"GlyphRenderer\"},{\"attributes\":{\"items\":[{\"id\":\"21167\",\"type\":\"LegendItem\"},{\"id\":\"21193\",\"type\":\"LegendItem\"}],\"plot\":{\"id\":\"21112\",\"subtype\":\"Figure\",\"type\":\"Plot\"}},\"id\":\"21166\",\"type\":\"Legend\"},{\"attributes\":{},\"id\":\"21120\",\"type\":\"LinearScale\"},{\"attributes\":{},\"id\":\"21165\",\"type\":\"YearsTicker\"},{\"attributes\":{\"mantissas\":[1,2,5],\"max_interval\":500.0,\"num_minor_ticks\":0},\"id\":\"21154\",\"type\":\"AdaptiveTicker\"},{\"attributes\":{\"bottom_units\":\"screen\",\"fill_alpha\":{\"value\":0.5},\"fill_color\":{\"value\":\"lightgrey\"},\"left_units\":\"screen\",\"level\":\"overlay\",\"line_alpha\":{\"value\":1.0},\"line_color\":{\"value\":\"black\"},\"line_dash\":[4,4],\"line_width\":{\"value\":2},\"plot\":null,\"render_mode\":\"css\",\"right_units\":\"screen\",\"top_units\":\"screen\"},\"id\":\"21137\",\"type\":\"BoxAnnotation\"},{\"attributes\":{\"months\":[0,4,8]},\"id\":\"21163\",\"type\":\"MonthsTicker\"},{\"attributes\":{},\"id\":\"21191\",\"type\":\"UnionRenderers\"},{\"attributes\":{\"line_color\":\"red\",\"line_width\":2,\"x\":{\"field\":\"x\"},\"y\":{\"field\":\"y\"}},\"id\":\"21169\",\"type\":\"Line\"}],\"root_ids\":[\"21112\"]},\"title\":\"Bokeh Application\",\"version\":\"1.0.2\"}};\n",
       "  var render_items = [{\"docid\":\"fa7e40b6-1b94-4252-bc08-409694d02775\",\"roots\":{\"21112\":\"14251d9c-2cfe-4b8a-9700-9c79359b39dc\"}}];\n",
       "  root.Bokeh.embed.embed_items_notebook(docs_json, render_items);\n",
       "\n",
       "  }\n",
       "  if (root.Bokeh !== undefined) {\n",
       "    embed_document(root);\n",
       "  } else {\n",
       "    var attempts = 0;\n",
       "    var timer = setInterval(function(root) {\n",
       "      if (root.Bokeh !== undefined) {\n",
       "        embed_document(root);\n",
       "        clearInterval(timer);\n",
       "      }\n",
       "      attempts++;\n",
       "      if (attempts > 100) {\n",
       "        console.log(\"Bokeh: ERROR: Unable to run BokehJS code because BokehJS library is missing\");\n",
       "        clearInterval(timer);\n",
       "      }\n",
       "    }, 10, root)\n",
       "  }\n",
       "})(window);"
      ],
      "application/vnd.bokehjs_exec.v0+json": ""
     },
     "metadata": {
      "application/vnd.bokehjs_exec.v0+json": {
       "id": "21112"
      }
     },
     "output_type": "display_data"
    }
   ],
   "source": [
    "i = figure(title= 'Close plot with Blue color', x_axis_label='x',x_axis_type=\"datetime\", y_axis_label='y',plot_width=800, plot_height=350,tools=\"pan,box_zoom,reset,save\")\n",
    "i.background_fill_color = \"lightblue\"\n",
    "i.background_fill_alpha = 0.5\n",
    "i.line(infy.index,infy['Close'],line_width=2,legend='infy')\n",
    "i.line(tcs.index,tcs['Close'],line_width=2,color='red',legend='tcs')\n",
    "show(i)"
   ]
  },
  {
   "cell_type": "markdown",
   "metadata": {},
   "source": [
    "# 3. "
   ]
  },
  {
   "cell_type": "code",
   "execution_count": 79,
   "metadata": {},
   "outputs": [],
   "source": [
    "date1,date2=infy[infy['%Volume_Inc']>390]['%Volume_Inc'].index.values"
   ]
  },
  {
   "cell_type": "code",
   "execution_count": 80,
   "metadata": {},
   "outputs": [
    {
     "name": "stdout",
     "output_type": "stream",
     "text": [
      "2015-07-21 2015-11-13\n"
     ]
    }
   ],
   "source": [
    "print(date1,date2)   #These are the shock dates which had maximum change in Volume Percentage"
   ]
  },
  {
   "cell_type": "code",
   "execution_count": 98,
   "metadata": {},
   "outputs": [
    {
     "data": {
      "text/html": [
       "\n",
       "\n",
       "\n",
       "\n",
       "\n",
       "\n",
       "  <div class=\"bk-root\" id=\"08ae195c-5492-4081-8f28-86969bb190f8\"></div>\n"
      ]
     },
     "metadata": {},
     "output_type": "display_data"
    },
    {
     "data": {
      "application/javascript": [
       "(function(root) {\n",
       "  function embed_document(root) {\n",
       "    \n",
       "  var docs_json = {\"4fbd66f4-12f5-4337-87f9-a8650862c7a4\":{\"roots\":{\"references\":[{\"attributes\":{\"background_fill_alpha\":{\"value\":0.5},\"background_fill_color\":{\"value\":\"lightblue\"},\"below\":[{\"id\":\"27059\",\"type\":\"DatetimeAxis\"}],\"left\":[{\"id\":\"27064\",\"type\":\"LinearAxis\"}],\"plot_height\":350,\"plot_width\":800,\"renderers\":[{\"id\":\"27059\",\"type\":\"DatetimeAxis\"},{\"id\":\"27063\",\"type\":\"Grid\"},{\"id\":\"27064\",\"type\":\"LinearAxis\"},{\"id\":\"27068\",\"type\":\"Grid\"},{\"id\":\"27074\",\"type\":\"BoxAnnotation\"},{\"id\":\"27083\",\"type\":\"GlyphRenderer\"},{\"id\":\"27085\",\"type\":\"BoxAnnotation\"}],\"title\":{\"id\":\"27048\",\"type\":\"Title\"},\"toolbar\":{\"id\":\"27073\",\"type\":\"Toolbar\"},\"x_range\":{\"id\":\"27051\",\"type\":\"DataRange1d\"},\"x_scale\":{\"id\":\"27055\",\"type\":\"LinearScale\"},\"y_range\":{\"id\":\"27053\",\"type\":\"DataRange1d\"},\"y_scale\":{\"id\":\"27057\",\"type\":\"LinearScale\"}},\"id\":\"27049\",\"subtype\":\"Figure\",\"type\":\"Plot\"},{\"attributes\":{},\"id\":\"27975\",\"type\":\"YearsTicker\"},{\"attributes\":{\"bottom_units\":\"screen\",\"fill_alpha\":{\"value\":0.5},\"fill_color\":{\"value\":\"lightgrey\"},\"left_units\":\"screen\",\"level\":\"overlay\",\"line_alpha\":{\"value\":1.0},\"line_color\":{\"value\":\"black\"},\"line_dash\":[4,4],\"line_width\":{\"value\":2},\"plot\":null,\"render_mode\":\"css\",\"right_units\":\"screen\",\"top_units\":\"screen\"},\"id\":\"27074\",\"type\":\"BoxAnnotation\"},{\"attributes\":{\"active_drag\":\"auto\",\"active_inspect\":\"auto\",\"active_multi\":null,\"active_scroll\":\"auto\",\"active_tap\":\"auto\",\"tools\":[{\"id\":\"27069\",\"type\":\"PanTool\"},{\"id\":\"27070\",\"type\":\"BoxZoomTool\"},{\"id\":\"27071\",\"type\":\"ResetTool\"},{\"id\":\"27072\",\"type\":\"SaveTool\"}]},\"id\":\"27073\",\"type\":\"Toolbar\"},{\"attributes\":{},\"id\":\"27072\",\"type\":\"SaveTool\"},{\"attributes\":{},\"id\":\"27976\",\"type\":\"UnionRenderers\"},{\"attributes\":{\"source\":{\"id\":\"27080\",\"type\":\"ColumnDataSource\"}},\"id\":\"27084\",\"type\":\"CDSView\"},{\"attributes\":{},\"id\":\"27977\",\"type\":\"Selection\"},{\"attributes\":{},\"id\":\"27962\",\"type\":\"BasicTickFormatter\"},{\"attributes\":{},\"id\":\"27960\",\"type\":\"DatetimeTickFormatter\"},{\"attributes\":{\"mantissas\":[1,2,5],\"max_interval\":500.0,\"num_minor_ticks\":0},\"id\":\"27964\",\"type\":\"AdaptiveTicker\"},{\"attributes\":{\"callback\":null,\"data\":{\"x\":[1420070400000.0,1420156800000.0,1420416000000.0,1420502400000.0,1420588800000.0,1420675200000.0,1420761600000.0,1421020800000.0,1421107200000.0,1421193600000.0,1421280000000.0,1421366400000.0,1421625600000.0,1421712000000.0,1421798400000.0,1421884800000.0,1421971200000.0,1422316800000.0,1422403200000.0,1422489600000.0,1422576000000.0,1422835200000.0,1422921600000.0,1423008000000.0,1423094400000.0,1423180800000.0,1423440000000.0,1423526400000.0,1423612800000.0,1423699200000.0,1423785600000.0,1424044800000.0,1424217600000.0,1424304000000.0,1424390400000.0,1424649600000.0,1424736000000.0,1424822400000.0,1424908800000.0,1424995200000.0,1425081600000.0,1425254400000.0,1425340800000.0,1425427200000.0,1425513600000.0,1425859200000.0,1425945600000.0,1426032000000.0,1426118400000.0,1426204800000.0,1426464000000.0,1426550400000.0,1426636800000.0,1426723200000.0,1426809600000.0,1427068800000.0,1427155200000.0,1427241600000.0,1427328000000.0,1427414400000.0,1427673600000.0,1427760000000.0,1427846400000.0,1428278400000.0,1428364800000.0,1428451200000.0,1428537600000.0,1428624000000.0,1428883200000.0,1429056000000.0,1429142400000.0,1429228800000.0,1429488000000.0,1429574400000.0,1429660800000.0,1429747200000.0,1429833600000.0,1430092800000.0,1430179200000.0,1430265600000.0,1430352000000.0,1430697600000.0,1430784000000.0,1430870400000.0,1430956800000.0,1431043200000.0,1431302400000.0,1431388800000.0,1431475200000.0,1431561600000.0,1431648000000.0,1431907200000.0,1431993600000.0,1432080000000.0,1432166400000.0,1432252800000.0,1432512000000.0,1432598400000.0,1432684800000.0,1432771200000.0,1432857600000.0,1433116800000.0,1433203200000.0,1433289600000.0,1433376000000.0,1433462400000.0,1433721600000.0,1433808000000.0,1433894400000.0,1433980800000.0,1434067200000.0,1434326400000.0,1434412800000.0,1434499200000.0,1434585600000.0,1434672000000.0,1434931200000.0,1435017600000.0,1435104000000.0,1435190400000.0,1435276800000.0,1435536000000.0,1435622400000.0,1435708800000.0,1435795200000.0,1435881600000.0,1436140800000.0,1436227200000.0,1436313600000.0,1436400000000.0,1436486400000.0,1436745600000.0,1436832000000.0,1436918400000.0,1437004800000.0,1437091200000.0,1437350400000.0,1437436800000.0,1437523200000.0,1437609600000.0,1437696000000.0,1437955200000.0,1438041600000.0,1438128000000.0,1438214400000.0,1438300800000.0,1438560000000.0,1438646400000.0,1438732800000.0,1438819200000.0,1438905600000.0,1439164800000.0,1439251200000.0,1439337600000.0,1439424000000.0,1439510400000.0,1439769600000.0,1439856000000.0,1439942400000.0,1440028800000.0,1440115200000.0,1440374400000.0,1440460800000.0,1440547200000.0,1440633600000.0,1440720000000.0,1440979200000.0,1441065600000.0,1441152000000.0,1441238400000.0,1441324800000.0,1441584000000.0,1441670400000.0,1441756800000.0,1441843200000.0,1441929600000.0,1442188800000.0,1442275200000.0,1442361600000.0,1442534400000.0,1442793600000.0,1442880000000.0,1442966400000.0,1443052800000.0,1443398400000.0,1443484800000.0,1443571200000.0,1443657600000.0,1444003200000.0,1444089600000.0,1444176000000.0,1444262400000.0,1444348800000.0,1444608000000.0,1444694400000.0,1444780800000.0,1444867200000.0,1444953600000.0,1445212800000.0,1445299200000.0,1445385600000.0,1445558400000.0,1445817600000.0,1445904000000.0,1445990400000.0,1446076800000.0,1446163200000.0,1446422400000.0,1446508800000.0,1446595200000.0,1446681600000.0,1446768000000.0,1447027200000.0,1447113600000.0,1447200000000.0,1447372800000.0,1447632000000.0,1447718400000.0,1447804800000.0,1447891200000.0,1447977600000.0,1448236800000.0,1448323200000.0,1448496000000.0,1448582400000.0,1448841600000.0,1448928000000.0,1449014400000.0,1449100800000.0,1449187200000.0,1449446400000.0,1449532800000.0,1449619200000.0,1449705600000.0,1449792000000.0,1450051200000.0,1450137600000.0,1450224000000.0,1450310400000.0,1450396800000.0,1450656000000.0,1450742400000.0,1450828800000.0,1450915200000.0,1451260800000.0,1451347200000.0,1451433600000.0],\"y\":[500691,1694580,2484256,2416829,1812479,3391230,11215832,3189722,2200309,2480315,2085613,1672740,1021936,1701126,2123727,2489599,2371582,3434992,3283589,3842356,2708436,2175635,1316489,1290004,2968984,1863432,1634217,2129230,1449243,1571884,1414379,1561069,2153441,2418406,1742907,1272622,1609419,1511243,1611444,1950269,799334,1760248,1226388,1093807,1421229,1996180,1582479,1695228,1422141,1544921,1704658,1384828,1226391,1722935,1607724,1269675,1684133,1542742,3935210,2518555,1155772,2004103,1684622,1935438,2135567,2546394,2645387,1780944,1218084,1559446,2251953,1612579,3206346,2220412,3087746,2972950,10891363,4955660,2598375,2072264,3283565,3340398,2352129,2627102,1694996,1444419,1196378,2071223,1774771,1558461,1297336,1617494,2568019,1470547,2514828,1722206,1168952,991260,2113677,2745135,4748261,1431223,1168285,1373949,1872366,1531447,1535262,1890435,1596460,2307366,2463231,2618213,2611722,3206034,1737213,3335229,2855434,3476058,3536847,3558733,2660142,2845334,3106265,3440426,2003784,1347653,2152801,1748709,3512089,4293886,3705761,3265884,2683537,2064783,1736469,1723989,2188590,19155056,6332830,3855374,2240151,3376122,4238301,3535667,5978299,3965506,3980506,4549527,2376738,3619126,2494029,1996377,3787203,5084220,4893980,2554533,1553718,2075223,3434759,4184557,5411071,7061342,6867539,5749106,7671696,3604410,4958532,4535775,5585915,4295268,3659444,2590494,2729748,4574332,4181502,4941905,3278538,2645943,3739120,5788438,2175617,4813493,2379127,6699631,4894232,4349685,4747846,5432197,3440880,4355940,4591244,4540437,5891069,15202485,7663431,4432755,4127833,3209496,3673747,4394155,3639049,3016681,1597971,2631874,2627736,2943662,2022338,1772494,1807341,1602786,1172653,1513086,3062838,2340026,353652,1760434,3404167,3592053,5062626,4269811,3041489,2808175,2162901,4926984,2571239,9052767,2949275,3198808,2752363,4187765,2256935,2862186,3409127,2793873,2695099,2408336,2715904,2747926,2479391,3609910,2165506,2054627,1435464,615027,2763476,1672531,2576985]},\"selected\":{\"id\":\"27977\",\"type\":\"Selection\"},\"selection_policy\":{\"id\":\"27976\",\"type\":\"UnionRenderers\"}},\"id\":\"27080\",\"type\":\"ColumnDataSource\"},{\"attributes\":{\"base\":60,\"mantissas\":[1,2,5,10,15,20,30],\"max_interval\":1800000.0,\"min_interval\":1000.0,\"num_minor_ticks\":0},\"id\":\"27965\",\"type\":\"AdaptiveTicker\"},{\"attributes\":{},\"id\":\"27071\",\"type\":\"ResetTool\"},{\"attributes\":{\"overlay\":{\"id\":\"27074\",\"type\":\"BoxAnnotation\"}},\"id\":\"27070\",\"type\":\"BoxZoomTool\"},{\"attributes\":{\"data_source\":{\"id\":\"27080\",\"type\":\"ColumnDataSource\"},\"glyph\":{\"id\":\"27081\",\"type\":\"Line\"},\"hover_glyph\":null,\"muted_glyph\":null,\"nonselection_glyph\":{\"id\":\"27082\",\"type\":\"Line\"},\"selection_glyph\":null,\"view\":{\"id\":\"27084\",\"type\":\"CDSView\"}},\"id\":\"27083\",\"type\":\"GlyphRenderer\"},{\"attributes\":{\"days\":[1,2,3,4,5,6,7,8,9,10,11,12,13,14,15,16,17,18,19,20,21,22,23,24,25,26,27,28,29,30,31]},\"id\":\"27967\",\"type\":\"DaysTicker\"},{\"attributes\":{\"axis_label\":\"y\",\"formatter\":{\"id\":\"27962\",\"type\":\"BasicTickFormatter\"},\"plot\":{\"id\":\"27049\",\"subtype\":\"Figure\",\"type\":\"Plot\"},\"ticker\":{\"id\":\"27065\",\"type\":\"BasicTicker\"}},\"id\":\"27064\",\"type\":\"LinearAxis\"},{\"attributes\":{\"plot\":null,\"text\":\"Max % Change shock points highlighted Close plot for infy\"},\"id\":\"27048\",\"type\":\"Title\"},{\"attributes\":{\"axis_label\":\"x\",\"formatter\":{\"id\":\"27960\",\"type\":\"DatetimeTickFormatter\"},\"plot\":{\"id\":\"27049\",\"subtype\":\"Figure\",\"type\":\"Plot\"},\"ticker\":{\"id\":\"27060\",\"type\":\"DatetimeTicker\"}},\"id\":\"27059\",\"type\":\"DatetimeAxis\"},{\"attributes\":{\"base\":24,\"mantissas\":[1,2,4,6,8,12],\"max_interval\":43200000.0,\"min_interval\":3600000.0,\"num_minor_ticks\":0},\"id\":\"27966\",\"type\":\"AdaptiveTicker\"},{\"attributes\":{\"num_minor_ticks\":5,\"tickers\":[{\"id\":\"27964\",\"type\":\"AdaptiveTicker\"},{\"id\":\"27965\",\"type\":\"AdaptiveTicker\"},{\"id\":\"27966\",\"type\":\"AdaptiveTicker\"},{\"id\":\"27967\",\"type\":\"DaysTicker\"},{\"id\":\"27968\",\"type\":\"DaysTicker\"},{\"id\":\"27969\",\"type\":\"DaysTicker\"},{\"id\":\"27970\",\"type\":\"DaysTicker\"},{\"id\":\"27971\",\"type\":\"MonthsTicker\"},{\"id\":\"27972\",\"type\":\"MonthsTicker\"},{\"id\":\"27973\",\"type\":\"MonthsTicker\"},{\"id\":\"27974\",\"type\":\"MonthsTicker\"},{\"id\":\"27975\",\"type\":\"YearsTicker\"}]},\"id\":\"27060\",\"type\":\"DatetimeTicker\"},{\"attributes\":{\"fill_alpha\":{\"value\":0.5},\"fill_color\":{\"value\":\"red\"},\"left\":1447372800000.0,\"plot\":{\"id\":\"27049\",\"subtype\":\"Figure\",\"type\":\"Plot\"},\"right\":1449619200000.0},\"id\":\"27085\",\"type\":\"BoxAnnotation\"},{\"attributes\":{\"days\":[1,4,7,10,13,16,19,22,25,28]},\"id\":\"27968\",\"type\":\"DaysTicker\"},{\"attributes\":{},\"id\":\"27057\",\"type\":\"LinearScale\"},{\"attributes\":{\"callback\":null},\"id\":\"27053\",\"type\":\"DataRange1d\"},{\"attributes\":{\"callback\":null},\"id\":\"27051\",\"type\":\"DataRange1d\"},{\"attributes\":{\"days\":[1,8,15,22]},\"id\":\"27969\",\"type\":\"DaysTicker\"},{\"attributes\":{},\"id\":\"27069\",\"type\":\"PanTool\"},{\"attributes\":{\"days\":[1,15]},\"id\":\"27970\",\"type\":\"DaysTicker\"},{\"attributes\":{\"plot\":{\"id\":\"27049\",\"subtype\":\"Figure\",\"type\":\"Plot\"},\"ticker\":{\"id\":\"27060\",\"type\":\"DatetimeTicker\"}},\"id\":\"27063\",\"type\":\"Grid\"},{\"attributes\":{},\"id\":\"27055\",\"type\":\"LinearScale\"},{\"attributes\":{\"line_alpha\":0.1,\"line_color\":\"#1f77b4\",\"line_width\":2,\"x\":{\"field\":\"x\"},\"y\":{\"field\":\"y\"}},\"id\":\"27082\",\"type\":\"Line\"},{\"attributes\":{\"months\":[0,1,2,3,4,5,6,7,8,9,10,11]},\"id\":\"27971\",\"type\":\"MonthsTicker\"},{\"attributes\":{\"months\":[0,2,4,6,8,10]},\"id\":\"27972\",\"type\":\"MonthsTicker\"},{\"attributes\":{\"months\":[0,4,8]},\"id\":\"27973\",\"type\":\"MonthsTicker\"},{\"attributes\":{},\"id\":\"27065\",\"type\":\"BasicTicker\"},{\"attributes\":{\"dimension\":1,\"plot\":{\"id\":\"27049\",\"subtype\":\"Figure\",\"type\":\"Plot\"},\"ticker\":{\"id\":\"27065\",\"type\":\"BasicTicker\"}},\"id\":\"27068\",\"type\":\"Grid\"},{\"attributes\":{\"line_color\":\"#1f77b4\",\"line_width\":2,\"x\":{\"field\":\"x\"},\"y\":{\"field\":\"y\"}},\"id\":\"27081\",\"type\":\"Line\"},{\"attributes\":{\"months\":[0,6]},\"id\":\"27974\",\"type\":\"MonthsTicker\"}],\"root_ids\":[\"27049\"]},\"title\":\"Bokeh Application\",\"version\":\"1.0.2\"}};\n",
       "  var render_items = [{\"docid\":\"4fbd66f4-12f5-4337-87f9-a8650862c7a4\",\"roots\":{\"27049\":\"08ae195c-5492-4081-8f28-86969bb190f8\"}}];\n",
       "  root.Bokeh.embed.embed_items_notebook(docs_json, render_items);\n",
       "\n",
       "  }\n",
       "  if (root.Bokeh !== undefined) {\n",
       "    embed_document(root);\n",
       "  } else {\n",
       "    var attempts = 0;\n",
       "    var timer = setInterval(function(root) {\n",
       "      if (root.Bokeh !== undefined) {\n",
       "        embed_document(root);\n",
       "        clearInterval(timer);\n",
       "      }\n",
       "      attempts++;\n",
       "      if (attempts > 100) {\n",
       "        console.log(\"Bokeh: ERROR: Unable to run BokehJS code because BokehJS library is missing\");\n",
       "        clearInterval(timer);\n",
       "      }\n",
       "    }, 10, root)\n",
       "  }\n",
       "})(window);"
      ],
      "application/vnd.bokehjs_exec.v0+json": ""
     },
     "metadata": {
      "application/vnd.bokehjs_exec.v0+json": {
       "id": "27049"
      }
     },
     "output_type": "display_data"
    }
   ],
   "source": [
    "i = figure(title= 'Max % Change shock points highlighted Close plot for infy', x_axis_label='x',x_axis_type=\"datetime\", y_axis_label='y',plot_width=800, plot_height=350,tools=\"pan,box_zoom,reset,save\")\n",
    "i.background_fill_color = \"lightblue\"\n",
    "i.background_fill_alpha = 0.5\n",
    "\n",
    "\n",
    "i.line(infy.index,infy['Volume'],line_width=2)\n",
    "\n",
    "box = BoxAnnotation(plot=i, left=date1,   right=date2, fill_alpha=0.5, fill_color='red')\n",
    "i.renderers.extend([box])\n",
    "\n",
    "show(i)"
   ]
  },
  {
   "cell_type": "code",
   "execution_count": null,
   "metadata": {},
   "outputs": [],
   "source": []
  },
  {
   "cell_type": "code",
   "execution_count": 97,
   "metadata": {},
   "outputs": [
    {
     "data": {
      "text/html": [
       "\n",
       "\n",
       "\n",
       "\n",
       "\n",
       "\n",
       "  <div class=\"bk-root\" id=\"659914f0-6644-458d-a10d-f115db7cf1ef\"></div>\n"
      ]
     },
     "metadata": {},
     "output_type": "display_data"
    },
    {
     "data": {
      "application/javascript": [
       "(function(root) {\n",
       "  function embed_document(root) {\n",
       "    \n",
       "  var docs_json = {\"2dc2c900-cb60-4762-8a44-eeccbb699ed9\":{\"roots\":{\"references\":[{\"attributes\":{\"background_fill_alpha\":{\"value\":0.5},\"background_fill_color\":{\"value\":\"lightblue\"},\"below\":[{\"id\":\"26029\",\"type\":\"DatetimeAxis\"}],\"left\":[{\"id\":\"26034\",\"type\":\"LinearAxis\"}],\"plot_height\":350,\"plot_width\":800,\"renderers\":[{\"id\":\"26029\",\"type\":\"DatetimeAxis\"},{\"id\":\"26033\",\"type\":\"Grid\"},{\"id\":\"26034\",\"type\":\"LinearAxis\"},{\"id\":\"26038\",\"type\":\"Grid\"},{\"id\":\"26044\",\"type\":\"BoxAnnotation\"},{\"id\":\"26053\",\"type\":\"GlyphRenderer\"},{\"id\":\"26055\",\"type\":\"BoxAnnotation\"}],\"title\":{\"id\":\"26018\",\"type\":\"Title\"},\"toolbar\":{\"id\":\"26043\",\"type\":\"Toolbar\"},\"x_range\":{\"id\":\"26021\",\"type\":\"DataRange1d\"},\"x_scale\":{\"id\":\"26025\",\"type\":\"LinearScale\"},\"y_range\":{\"id\":\"26023\",\"type\":\"DataRange1d\"},\"y_scale\":{\"id\":\"26027\",\"type\":\"LinearScale\"}},\"id\":\"26019\",\"subtype\":\"Figure\",\"type\":\"Plot\"},{\"attributes\":{\"months\":[0,4,8]},\"id\":\"26923\",\"type\":\"MonthsTicker\"},{\"attributes\":{},\"id\":\"26039\",\"type\":\"PanTool\"},{\"attributes\":{\"months\":[0,6]},\"id\":\"26924\",\"type\":\"MonthsTicker\"},{\"attributes\":{\"overlay\":{\"id\":\"26044\",\"type\":\"BoxAnnotation\"}},\"id\":\"26040\",\"type\":\"BoxZoomTool\"},{\"attributes\":{},\"id\":\"26912\",\"type\":\"BasicTickFormatter\"},{\"attributes\":{\"fill_alpha\":{\"value\":0.5},\"fill_color\":{\"value\":\"red\"},\"left\":1447372800000.0,\"plot\":{\"id\":\"26019\",\"subtype\":\"Figure\",\"type\":\"Plot\"},\"right\":1449619200000.0},\"id\":\"26055\",\"type\":\"BoxAnnotation\"},{\"attributes\":{},\"id\":\"26041\",\"type\":\"ResetTool\"},{\"attributes\":{\"line_color\":\"#1f77b4\",\"line_width\":2,\"x\":{\"field\":\"x\"},\"y\":{\"field\":\"y\"}},\"id\":\"26051\",\"type\":\"Line\"},{\"attributes\":{},\"id\":\"26042\",\"type\":\"SaveTool\"},{\"attributes\":{\"line_alpha\":0.1,\"line_color\":\"#1f77b4\",\"line_width\":2,\"x\":{\"field\":\"x\"},\"y\":{\"field\":\"y\"}},\"id\":\"26052\",\"type\":\"Line\"},{\"attributes\":{},\"id\":\"26925\",\"type\":\"YearsTicker\"},{\"attributes\":{\"active_drag\":\"auto\",\"active_inspect\":\"auto\",\"active_multi\":null,\"active_scroll\":\"auto\",\"active_tap\":\"auto\",\"tools\":[{\"id\":\"26039\",\"type\":\"PanTool\"},{\"id\":\"26040\",\"type\":\"BoxZoomTool\"},{\"id\":\"26041\",\"type\":\"ResetTool\"},{\"id\":\"26042\",\"type\":\"SaveTool\"}]},\"id\":\"26043\",\"type\":\"Toolbar\"},{\"attributes\":{\"bottom_units\":\"screen\",\"fill_alpha\":{\"value\":0.5},\"fill_color\":{\"value\":\"lightgrey\"},\"left_units\":\"screen\",\"level\":\"overlay\",\"line_alpha\":{\"value\":1.0},\"line_color\":{\"value\":\"black\"},\"line_dash\":[4,4],\"line_width\":{\"value\":2},\"plot\":null,\"render_mode\":\"css\",\"right_units\":\"screen\",\"top_units\":\"screen\"},\"id\":\"26044\",\"type\":\"BoxAnnotation\"},{\"attributes\":{},\"id\":\"26910\",\"type\":\"DatetimeTickFormatter\"},{\"attributes\":{},\"id\":\"26926\",\"type\":\"UnionRenderers\"},{\"attributes\":{},\"id\":\"26927\",\"type\":\"Selection\"},{\"attributes\":{\"data_source\":{\"id\":\"26050\",\"type\":\"ColumnDataSource\"},\"glyph\":{\"id\":\"26051\",\"type\":\"Line\"},\"hover_glyph\":null,\"muted_glyph\":null,\"nonselection_glyph\":{\"id\":\"26052\",\"type\":\"Line\"},\"selection_glyph\":null,\"view\":{\"id\":\"26054\",\"type\":\"CDSView\"}},\"id\":\"26053\",\"type\":\"GlyphRenderer\"},{\"attributes\":{\"dimension\":1,\"plot\":{\"id\":\"26019\",\"subtype\":\"Figure\",\"type\":\"Plot\"},\"ticker\":{\"id\":\"26035\",\"type\":\"BasicTicker\"}},\"id\":\"26038\",\"type\":\"Grid\"},{\"attributes\":{\"source\":{\"id\":\"26050\",\"type\":\"ColumnDataSource\"}},\"id\":\"26054\",\"type\":\"CDSView\"},{\"attributes\":{},\"id\":\"26035\",\"type\":\"BasicTicker\"},{\"attributes\":{\"mantissas\":[1,2,5],\"max_interval\":500.0,\"num_minor_ticks\":0},\"id\":\"26914\",\"type\":\"AdaptiveTicker\"},{\"attributes\":{\"axis_label\":\"x\",\"formatter\":{\"id\":\"26910\",\"type\":\"DatetimeTickFormatter\"},\"plot\":{\"id\":\"26019\",\"subtype\":\"Figure\",\"type\":\"Plot\"},\"ticker\":{\"id\":\"26030\",\"type\":\"DatetimeTicker\"}},\"id\":\"26029\",\"type\":\"DatetimeAxis\"},{\"attributes\":{\"base\":60,\"mantissas\":[1,2,5,10,15,20,30],\"max_interval\":1800000.0,\"min_interval\":1000.0,\"num_minor_ticks\":0},\"id\":\"26915\",\"type\":\"AdaptiveTicker\"},{\"attributes\":{\"num_minor_ticks\":5,\"tickers\":[{\"id\":\"26914\",\"type\":\"AdaptiveTicker\"},{\"id\":\"26915\",\"type\":\"AdaptiveTicker\"},{\"id\":\"26916\",\"type\":\"AdaptiveTicker\"},{\"id\":\"26917\",\"type\":\"DaysTicker\"},{\"id\":\"26918\",\"type\":\"DaysTicker\"},{\"id\":\"26919\",\"type\":\"DaysTicker\"},{\"id\":\"26920\",\"type\":\"DaysTicker\"},{\"id\":\"26921\",\"type\":\"MonthsTicker\"},{\"id\":\"26922\",\"type\":\"MonthsTicker\"},{\"id\":\"26923\",\"type\":\"MonthsTicker\"},{\"id\":\"26924\",\"type\":\"MonthsTicker\"},{\"id\":\"26925\",\"type\":\"YearsTicker\"}]},\"id\":\"26030\",\"type\":\"DatetimeTicker\"},{\"attributes\":{\"plot\":{\"id\":\"26019\",\"subtype\":\"Figure\",\"type\":\"Plot\"},\"ticker\":{\"id\":\"26030\",\"type\":\"DatetimeTicker\"}},\"id\":\"26033\",\"type\":\"Grid\"},{\"attributes\":{\"base\":24,\"mantissas\":[1,2,4,6,8,12],\"max_interval\":43200000.0,\"min_interval\":3600000.0,\"num_minor_ticks\":0},\"id\":\"26916\",\"type\":\"AdaptiveTicker\"},{\"attributes\":{\"plot\":null,\"text\":\"Max % Change shock points highlighted  Close plot for tcs\"},\"id\":\"26018\",\"type\":\"Title\"},{\"attributes\":{\"axis_label\":\"y\",\"formatter\":{\"id\":\"26912\",\"type\":\"BasicTickFormatter\"},\"plot\":{\"id\":\"26019\",\"subtype\":\"Figure\",\"type\":\"Plot\"},\"ticker\":{\"id\":\"26035\",\"type\":\"BasicTicker\"}},\"id\":\"26034\",\"type\":\"LinearAxis\"},{\"attributes\":{\"days\":[1,2,3,4,5,6,7,8,9,10,11,12,13,14,15,16,17,18,19,20,21,22,23,24,25,26,27,28,29,30,31]},\"id\":\"26917\",\"type\":\"DaysTicker\"},{\"attributes\":{\"days\":[1,8,15,22]},\"id\":\"26919\",\"type\":\"DaysTicker\"},{\"attributes\":{},\"id\":\"26027\",\"type\":\"LinearScale\"},{\"attributes\":{\"days\":[1,4,7,10,13,16,19,22,25,28]},\"id\":\"26918\",\"type\":\"DaysTicker\"},{\"attributes\":{},\"id\":\"26025\",\"type\":\"LinearScale\"},{\"attributes\":{\"callback\":null,\"data\":{\"x\":[1420070400000.0,1420156800000.0,1420416000000.0,1420502400000.0,1420588800000.0,1420675200000.0,1420761600000.0,1421020800000.0,1421107200000.0,1421193600000.0,1421280000000.0,1421366400000.0,1421625600000.0,1421712000000.0,1421798400000.0,1421884800000.0,1421971200000.0,1422316800000.0,1422403200000.0,1422489600000.0,1422576000000.0,1422835200000.0,1422921600000.0,1423008000000.0,1423094400000.0,1423180800000.0,1423440000000.0,1423526400000.0,1423612800000.0,1423699200000.0,1423785600000.0,1424044800000.0,1424217600000.0,1424304000000.0,1424390400000.0,1424649600000.0,1424736000000.0,1424822400000.0,1424908800000.0,1424995200000.0,1425081600000.0,1425254400000.0,1425340800000.0,1425427200000.0,1425513600000.0,1425859200000.0,1425945600000.0,1426032000000.0,1426118400000.0,1426204800000.0,1426464000000.0,1426550400000.0,1426636800000.0,1426723200000.0,1426809600000.0,1427068800000.0,1427155200000.0,1427241600000.0,1427328000000.0,1427414400000.0,1427673600000.0,1427760000000.0,1427846400000.0,1428278400000.0,1428364800000.0,1428451200000.0,1428537600000.0,1428624000000.0,1428883200000.0,1429056000000.0,1429142400000.0,1429228800000.0,1429488000000.0,1429574400000.0,1429660800000.0,1429747200000.0,1429833600000.0,1430092800000.0,1430179200000.0,1430265600000.0,1430352000000.0,1430697600000.0,1430784000000.0,1430870400000.0,1430956800000.0,1431043200000.0,1431302400000.0,1431388800000.0,1431475200000.0,1431561600000.0,1431648000000.0,1431907200000.0,1431993600000.0,1432080000000.0,1432166400000.0,1432252800000.0,1432512000000.0,1432598400000.0,1432684800000.0,1432771200000.0,1432857600000.0,1433116800000.0,1433203200000.0,1433289600000.0,1433376000000.0,1433462400000.0,1433721600000.0,1433808000000.0,1433894400000.0,1433980800000.0,1434067200000.0,1434326400000.0,1434412800000.0,1434499200000.0,1434585600000.0,1434672000000.0,1434931200000.0,1435017600000.0,1435104000000.0,1435190400000.0,1435276800000.0,1435536000000.0,1435622400000.0,1435708800000.0,1435795200000.0,1435881600000.0,1436140800000.0,1436227200000.0,1436313600000.0,1436400000000.0,1436486400000.0,1436745600000.0,1436832000000.0,1436918400000.0,1437004800000.0,1437091200000.0,1437350400000.0,1437436800000.0,1437523200000.0,1437609600000.0,1437696000000.0,1437955200000.0,1438041600000.0,1438128000000.0,1438214400000.0,1438300800000.0,1438560000000.0,1438646400000.0,1438732800000.0,1438819200000.0,1438905600000.0,1439164800000.0,1439251200000.0,1439337600000.0,1439424000000.0,1439510400000.0,1439769600000.0,1439856000000.0,1439942400000.0,1440028800000.0,1440115200000.0,1440374400000.0,1440460800000.0,1440547200000.0,1440633600000.0,1440720000000.0,1440979200000.0,1441065600000.0,1441152000000.0,1441238400000.0,1441324800000.0,1441584000000.0,1441670400000.0,1441756800000.0,1441843200000.0,1441929600000.0,1442188800000.0,1442275200000.0,1442361600000.0,1442534400000.0,1442793600000.0,1442880000000.0,1442966400000.0,1443052800000.0,1443398400000.0,1443484800000.0,1443571200000.0,1443657600000.0,1444003200000.0,1444089600000.0,1444176000000.0,1444262400000.0,1444348800000.0,1444608000000.0,1444694400000.0,1444780800000.0,1444867200000.0,1444953600000.0,1445212800000.0,1445299200000.0,1445385600000.0,1445558400000.0,1445817600000.0,1445904000000.0,1445990400000.0,1446076800000.0,1446163200000.0,1446422400000.0,1446508800000.0,1446595200000.0,1446681600000.0,1446768000000.0,1447027200000.0,1447113600000.0,1447200000000.0,1447372800000.0,1447632000000.0,1447718400000.0,1447804800000.0,1447891200000.0,1447977600000.0,1448236800000.0,1448323200000.0,1448496000000.0,1448582400000.0,1448841600000.0,1448928000000.0,1449014400000.0,1449100800000.0,1449187200000.0,1449446400000.0,1449532800000.0,1449619200000.0,1449705600000.0,1449792000000.0,1450051200000.0,1450137600000.0,1450224000000.0,1450310400000.0,1450396800000.0,1450656000000.0,1450742400000.0,1450828800000.0,1450915200000.0,1451260800000.0,1451347200000.0,1451433600000.0],\"y\":[183415,462870,877121,1211892,1318166,782704,1598821,798003,734216,893548,2504960,2646915,567537,1029283,1155240,1056607,1575190,1369368,1560990,1867196,2908701,1590901,1172527,1122709,2265084,1068208,1038216,1899527,1468761,1553990,2079163,1182196,1330007,1309001,900794,807446,1099961,883997,995997,1438688,589498,1088019,1712154,1931497,1086757,1441587,1518526,1120100,913818,793419,778148,633659,627585,1224482,981954,783304,1197439,1112429,1545821,1375888,669503,1213514,1037879,784271,943461,826067,1272225,907772,654321,1456967,1608785,4834371,1445361,1273016,2093406,2171495,1812579,1366526,1544149,1009810,1869027,945315,1627535,1697203,1602514,1501832,1286541,1233693,931887,654525,730727,2253876,978861,948907,789789,1345816,491489,980870,810345,1381804,2211766,441132,1967910,902342,2065734,1154267,785160,1289457,1381675,923668,1285728,1262588,633698,987860,1082523,999805,551001,449159,585123,965496,645051,686378,774976,639854,722940,481735,591169,821418,1333925,1967061,4131827,1140154,851637,1001830,728304,535263,426893,637250,660314,748390,787486,1001869,945594,1206659,1385287,981888,589662,1171346,494497,1105683,594253,715591,1100153,1739892,703213,1146982,386822,958463,845035,1174649,1768040,2346172,1962900,1608079,2632399,1372076,1846022,1493801,1882975,1132537,1213198,879592,893873,1022538,1332909,796336,794659,689950,878408,1227647,554420,1040623,614176,1177127,1183406,1662976,1684168,1417204,2403653,1989795,1032765,1178775,1124862,1227956,3089856,4168564,1607855,1166914,1565321,1347542,964844,1167699,707315,765210,627671,1565158,758348,659647,682453,495717,798049,454012,1010778,680960,67582,1371616,1021764,992514,760176,933453,1006063,544041,499320,1457646,868603,2050024,860997,820148,1141679,623046,691302,569982,2641403,861994,826189,1359266,567934,717967,809422,1512485,805052,780429,424917,421580,1852099,854262,802881]},\"selected\":{\"id\":\"26927\",\"type\":\"Selection\"},\"selection_policy\":{\"id\":\"26926\",\"type\":\"UnionRenderers\"}},\"id\":\"26050\",\"type\":\"ColumnDataSource\"},{\"attributes\":{\"days\":[1,15]},\"id\":\"26920\",\"type\":\"DaysTicker\"},{\"attributes\":{\"callback\":null},\"id\":\"26023\",\"type\":\"DataRange1d\"},{\"attributes\":{\"months\":[0,1,2,3,4,5,6,7,8,9,10,11]},\"id\":\"26921\",\"type\":\"MonthsTicker\"},{\"attributes\":{\"callback\":null},\"id\":\"26021\",\"type\":\"DataRange1d\"},{\"attributes\":{\"months\":[0,2,4,6,8,10]},\"id\":\"26922\",\"type\":\"MonthsTicker\"}],\"root_ids\":[\"26019\"]},\"title\":\"Bokeh Application\",\"version\":\"1.0.2\"}};\n",
       "  var render_items = [{\"docid\":\"2dc2c900-cb60-4762-8a44-eeccbb699ed9\",\"roots\":{\"26019\":\"659914f0-6644-458d-a10d-f115db7cf1ef\"}}];\n",
       "  root.Bokeh.embed.embed_items_notebook(docs_json, render_items);\n",
       "\n",
       "  }\n",
       "  if (root.Bokeh !== undefined) {\n",
       "    embed_document(root);\n",
       "  } else {\n",
       "    var attempts = 0;\n",
       "    var timer = setInterval(function(root) {\n",
       "      if (root.Bokeh !== undefined) {\n",
       "        embed_document(root);\n",
       "        clearInterval(timer);\n",
       "      }\n",
       "      attempts++;\n",
       "      if (attempts > 100) {\n",
       "        console.log(\"Bokeh: ERROR: Unable to run BokehJS code because BokehJS library is missing\");\n",
       "        clearInterval(timer);\n",
       "      }\n",
       "    }, 10, root)\n",
       "  }\n",
       "})(window);"
      ],
      "application/vnd.bokehjs_exec.v0+json": ""
     },
     "metadata": {
      "application/vnd.bokehjs_exec.v0+json": {
       "id": "26019"
      }
     },
     "output_type": "display_data"
    }
   ],
   "source": [
    "date1,date2=tcs[tcs['%Volume_Inc']>350]['%Volume_Inc'].index.values\n",
    "\n",
    "i = figure(title= 'Max % Change shock points highlighted  Close plot for tcs', x_axis_label='x',x_axis_type=\"datetime\", y_axis_label='y',plot_width=800, plot_height=350,tools=\"pan,box_zoom,reset,save\")\n",
    "i.background_fill_color = \"lightblue\"\n",
    "i.background_fill_alpha = 0.5\n",
    "\n",
    "\n",
    "i.line(tcs.index,tcs['Volume'],line_width=2)\n",
    "\n",
    "box = BoxAnnotation(plot=i, left=date1,   right=date2, fill_alpha=0.5, fill_color='red')\n",
    "i.renderers.extend([box])\n",
    "\n",
    "show(i)"
   ]
  },
  {
   "cell_type": "markdown",
   "metadata": {},
   "source": [
    "# 5."
   ]
  },
  {
   "cell_type": "code",
   "execution_count": 101,
   "metadata": {},
   "outputs": [
    {
     "data": {
      "text/html": [
       "\n",
       "\n",
       "\n",
       "\n",
       "\n",
       "\n",
       "  <div class=\"bk-root\" id=\"8262a8af-0a7f-4d04-bd1e-2cf663950ddf\"></div>\n"
      ]
     },
     "metadata": {},
     "output_type": "display_data"
    },
    {
     "data": {
      "application/javascript": [
       "(function(root) {\n",
       "  function embed_document(root) {\n",
       "    \n",
       "  var docs_json = {\"4ebf4320-e3ac-4480-9615-7310125cf882\":{\"roots\":{\"references\":[{\"attributes\":{\"background_fill_alpha\":{\"value\":0.5},\"background_fill_color\":{\"value\":\"lightblue\"},\"below\":[{\"id\":\"30286\",\"type\":\"DatetimeAxis\"}],\"left\":[{\"id\":\"30291\",\"type\":\"LinearAxis\"}],\"plot_height\":350,\"plot_width\":800,\"renderers\":[{\"id\":\"30286\",\"type\":\"DatetimeAxis\"},{\"id\":\"30290\",\"type\":\"Grid\"},{\"id\":\"30291\",\"type\":\"LinearAxis\"},{\"id\":\"30295\",\"type\":\"Grid\"},{\"id\":\"30301\",\"type\":\"BoxAnnotation\"},{\"id\":\"30330\",\"type\":\"Legend\"},{\"id\":\"30310\",\"type\":\"GlyphRenderer\"},{\"id\":\"30335\",\"type\":\"GlyphRenderer\"}],\"title\":{\"id\":\"30275\",\"type\":\"Title\"},\"toolbar\":{\"id\":\"30300\",\"type\":\"Toolbar\"},\"x_range\":{\"id\":\"30278\",\"type\":\"DataRange1d\"},\"x_scale\":{\"id\":\"30282\",\"type\":\"LinearScale\"},\"y_range\":{\"id\":\"30280\",\"type\":\"DataRange1d\"},\"y_scale\":{\"id\":\"30284\",\"type\":\"LinearScale\"}},\"id\":\"30276\",\"subtype\":\"Figure\",\"type\":\"Plot\"},{\"attributes\":{},\"id\":\"30329\",\"type\":\"YearsTicker\"},{\"attributes\":{},\"id\":\"30299\",\"type\":\"SaveTool\"},{\"attributes\":{\"callback\":null,\"data\":{\"x\":[1420070400000.0,1420156800000.0,1420416000000.0,1420502400000.0,1420588800000.0,1420675200000.0,1420761600000.0,1421020800000.0,1421107200000.0,1421193600000.0,1421280000000.0,1421366400000.0,1421625600000.0,1421712000000.0,1421798400000.0,1421884800000.0,1421971200000.0,1422316800000.0,1422403200000.0,1422489600000.0,1422576000000.0,1422835200000.0,1422921600000.0,1423008000000.0,1423094400000.0,1423180800000.0,1423440000000.0,1423526400000.0,1423612800000.0,1423699200000.0,1423785600000.0,1424044800000.0,1424217600000.0,1424304000000.0,1424390400000.0,1424649600000.0,1424736000000.0,1424822400000.0,1424908800000.0,1424995200000.0,1425081600000.0,1425254400000.0,1425340800000.0,1425427200000.0,1425513600000.0,1425859200000.0,1425945600000.0,1426032000000.0,1426118400000.0,1426204800000.0,1426464000000.0,1426550400000.0,1426636800000.0,1426723200000.0,1426809600000.0,1427068800000.0,1427155200000.0,1427241600000.0,1427328000000.0,1427414400000.0,1427673600000.0,1427760000000.0,1427846400000.0,1428278400000.0,1428364800000.0,1428451200000.0,1428537600000.0,1428624000000.0,1428883200000.0,1429056000000.0,1429142400000.0,1429228800000.0,1429488000000.0,1429574400000.0,1429660800000.0,1429747200000.0,1429833600000.0,1430092800000.0,1430179200000.0,1430265600000.0,1430352000000.0,1430697600000.0,1430784000000.0,1430870400000.0,1430956800000.0,1431043200000.0,1431302400000.0,1431388800000.0,1431475200000.0,1431561600000.0,1431648000000.0,1431907200000.0,1431993600000.0,1432080000000.0,1432166400000.0,1432252800000.0,1432512000000.0,1432598400000.0,1432684800000.0,1432771200000.0,1432857600000.0,1433116800000.0,1433203200000.0,1433289600000.0,1433376000000.0,1433462400000.0,1433721600000.0,1433808000000.0,1433894400000.0,1433980800000.0,1434067200000.0,1434326400000.0,1434412800000.0,1434499200000.0,1434585600000.0,1434672000000.0,1434931200000.0,1435017600000.0,1435104000000.0,1435190400000.0,1435276800000.0,1435536000000.0,1435622400000.0,1435708800000.0,1435795200000.0,1435881600000.0,1436140800000.0,1436227200000.0,1436313600000.0,1436400000000.0,1436486400000.0,1436745600000.0,1436832000000.0,1436918400000.0,1437004800000.0,1437091200000.0,1437350400000.0,1437436800000.0,1437523200000.0,1437609600000.0,1437696000000.0,1437955200000.0,1438041600000.0,1438128000000.0,1438214400000.0,1438300800000.0,1438560000000.0,1438646400000.0,1438732800000.0,1438819200000.0,1438905600000.0,1439164800000.0,1439251200000.0,1439337600000.0,1439424000000.0,1439510400000.0,1439769600000.0,1439856000000.0,1439942400000.0,1440028800000.0,1440115200000.0,1440374400000.0,1440460800000.0,1440547200000.0,1440633600000.0,1440720000000.0,1440979200000.0,1441065600000.0,1441152000000.0,1441238400000.0,1441324800000.0,1441584000000.0,1441670400000.0,1441756800000.0,1441843200000.0,1441929600000.0,1442188800000.0,1442275200000.0,1442361600000.0,1442534400000.0,1442793600000.0,1442880000000.0,1442966400000.0,1443052800000.0,1443398400000.0,1443484800000.0,1443571200000.0,1443657600000.0,1444003200000.0,1444089600000.0,1444176000000.0,1444262400000.0,1444348800000.0,1444608000000.0,1444694400000.0,1444780800000.0,1444867200000.0,1444953600000.0,1445212800000.0,1445299200000.0,1445385600000.0,1445558400000.0,1445817600000.0,1445904000000.0,1445990400000.0,1446076800000.0,1446163200000.0,1446422400000.0,1446508800000.0,1446595200000.0,1446681600000.0,1446768000000.0,1447027200000.0,1447113600000.0,1447200000000.0,1447372800000.0,1447632000000.0,1447718400000.0,1447804800000.0,1447891200000.0,1447977600000.0,1448236800000.0,1448323200000.0,1448496000000.0,1448582400000.0,1448841600000.0,1448928000000.0,1449014400000.0,1449100800000.0,1449187200000.0,1449446400000.0,1449532800000.0,1449619200000.0,1449705600000.0,1449792000000.0,1450051200000.0,1450137600000.0,1450224000000.0,1450310400000.0,1450396800000.0,1450656000000.0,1450742400000.0,1450828800000.0,1450915200000.0,1451260800000.0,1451347200000.0,1451433600000.0],\"y\":[0,0,0,1,0,0,0,0,0,0,0,0,0,0,0,0,0,0,0,0,0,0,0,0,0,0,0,0,0,0,0,0,0,0,0,0,0,0,1,0,0,0,0,0,0,0,0,0,0,0,0,0,0,0,0,0,0,0,0,0,0,0,0,0,0,0,0,0,0,0,0,0,0,0,0,0,0,0,0,0,0,1,0,0,0,0,0,0,0,0,0,0,0,0,0,0,0,0,0,0,0,0,0,0,0,0,0,0,0,0,0,1,0,0,0,0,0,0,0,0,0,0,0,0,0,0,0,0,0,0,0,0,0,0,0,0,0,0,0,0,0,0,0,0,0,0,0,0,0,0,0,0,0,0,0,0,0,0,0,0,0,0,0,0,0,0,0,0,0,0,0,0,0,0,0,0,0,0,0,0,0,0,0,0,0,0,1,0,0,0,0,0,0,0,0,0,0,0,0,0,0,0,0,0,0,0,0,0,0,0,0,0,0,0,0,0,0,0,0,0,0,0,0,0,0,0,0,0,0,0,0,0,0,0,0,0,0,0,0,0,0,0,0,0,0,0,0]},\"selected\":{\"id\":\"30356\",\"type\":\"Selection\"},\"selection_policy\":{\"id\":\"30355\",\"type\":\"UnionRenderers\"}},\"id\":\"30307\",\"type\":\"ColumnDataSource\"},{\"attributes\":{\"items\":[{\"id\":\"30331\",\"type\":\"LegendItem\"},{\"id\":\"30357\",\"type\":\"LegendItem\"}],\"plot\":{\"id\":\"30276\",\"subtype\":\"Figure\",\"type\":\"Plot\"}},\"id\":\"30330\",\"type\":\"Legend\"},{\"attributes\":{\"active_drag\":\"auto\",\"active_inspect\":\"auto\",\"active_multi\":null,\"active_scroll\":\"auto\",\"active_tap\":\"auto\",\"tools\":[{\"id\":\"30296\",\"type\":\"PanTool\"},{\"id\":\"30297\",\"type\":\"BoxZoomTool\"},{\"id\":\"30298\",\"type\":\"ResetTool\"},{\"id\":\"30299\",\"type\":\"SaveTool\"}]},\"id\":\"30300\",\"type\":\"Toolbar\"},{\"attributes\":{\"line_alpha\":0.1,\"line_color\":\"#1f77b4\",\"line_width\":2,\"x\":{\"field\":\"x\"},\"y\":{\"field\":\"y\"}},\"id\":\"30309\",\"type\":\"Line\"},{\"attributes\":{\"bottom_units\":\"screen\",\"fill_alpha\":{\"value\":0.5},\"fill_color\":{\"value\":\"lightgrey\"},\"left_units\":\"screen\",\"level\":\"overlay\",\"line_alpha\":{\"value\":1.0},\"line_color\":{\"value\":\"black\"},\"line_dash\":[4,4],\"line_width\":{\"value\":2},\"plot\":null,\"render_mode\":\"css\",\"right_units\":\"screen\",\"top_units\":\"screen\"},\"id\":\"30301\",\"type\":\"BoxAnnotation\"},{\"attributes\":{\"plot\":null,\"text\":\"INFY Close plot\"},\"id\":\"30275\",\"type\":\"Title\"},{\"attributes\":{\"label\":{\"value\":\"infy\"},\"renderers\":[{\"id\":\"30310\",\"type\":\"GlyphRenderer\"}]},\"id\":\"30331\",\"type\":\"LegendItem\"},{\"attributes\":{\"data_source\":{\"id\":\"30307\",\"type\":\"ColumnDataSource\"},\"glyph\":{\"id\":\"30308\",\"type\":\"Line\"},\"hover_glyph\":null,\"muted_glyph\":null,\"nonselection_glyph\":{\"id\":\"30309\",\"type\":\"Line\"},\"selection_glyph\":null,\"view\":{\"id\":\"30311\",\"type\":\"CDSView\"}},\"id\":\"30310\",\"type\":\"GlyphRenderer\"},{\"attributes\":{\"callback\":null},\"id\":\"30278\",\"type\":\"DataRange1d\"},{\"attributes\":{\"line_color\":\"red\",\"line_width\":2,\"x\":{\"field\":\"x\"},\"y\":{\"field\":\"y\"}},\"id\":\"30333\",\"type\":\"Line\"},{\"attributes\":{\"source\":{\"id\":\"30307\",\"type\":\"ColumnDataSource\"}},\"id\":\"30311\",\"type\":\"CDSView\"},{\"attributes\":{\"callback\":null},\"id\":\"30280\",\"type\":\"DataRange1d\"},{\"attributes\":{\"line_alpha\":0.1,\"line_color\":\"#1f77b4\",\"line_width\":2,\"x\":{\"field\":\"x\"},\"y\":{\"field\":\"y\"}},\"id\":\"30334\",\"type\":\"Line\"},{\"attributes\":{},\"id\":\"31312\",\"type\":\"UnionRenderers\"},{\"attributes\":{},\"id\":\"30314\",\"type\":\"DatetimeTickFormatter\"},{\"attributes\":{},\"id\":\"30282\",\"type\":\"LinearScale\"},{\"attributes\":{\"data_source\":{\"id\":\"30332\",\"type\":\"ColumnDataSource\"},\"glyph\":{\"id\":\"30333\",\"type\":\"Line\"},\"hover_glyph\":null,\"muted_glyph\":null,\"nonselection_glyph\":{\"id\":\"30334\",\"type\":\"Line\"},\"selection_glyph\":null,\"view\":{\"id\":\"30336\",\"type\":\"CDSView\"}},\"id\":\"30335\",\"type\":\"GlyphRenderer\"},{\"attributes\":{},\"id\":\"30316\",\"type\":\"BasicTickFormatter\"},{\"attributes\":{},\"id\":\"30284\",\"type\":\"LinearScale\"},{\"attributes\":{\"source\":{\"id\":\"30332\",\"type\":\"ColumnDataSource\"}},\"id\":\"30336\",\"type\":\"CDSView\"},{\"attributes\":{\"mantissas\":[1,2,5],\"max_interval\":500.0,\"num_minor_ticks\":0},\"id\":\"30318\",\"type\":\"AdaptiveTicker\"},{\"attributes\":{\"axis_label\":\"x\",\"formatter\":{\"id\":\"30314\",\"type\":\"DatetimeTickFormatter\"},\"plot\":{\"id\":\"30276\",\"subtype\":\"Figure\",\"type\":\"Plot\"},\"ticker\":{\"id\":\"30287\",\"type\":\"DatetimeTicker\"}},\"id\":\"30286\",\"type\":\"DatetimeAxis\"},{\"attributes\":{},\"id\":\"30355\",\"type\":\"UnionRenderers\"},{\"attributes\":{\"num_minor_ticks\":5,\"tickers\":[{\"id\":\"30318\",\"type\":\"AdaptiveTicker\"},{\"id\":\"30319\",\"type\":\"AdaptiveTicker\"},{\"id\":\"30320\",\"type\":\"AdaptiveTicker\"},{\"id\":\"30321\",\"type\":\"DaysTicker\"},{\"id\":\"30322\",\"type\":\"DaysTicker\"},{\"id\":\"30323\",\"type\":\"DaysTicker\"},{\"id\":\"30324\",\"type\":\"DaysTicker\"},{\"id\":\"30325\",\"type\":\"MonthsTicker\"},{\"id\":\"30326\",\"type\":\"MonthsTicker\"},{\"id\":\"30327\",\"type\":\"MonthsTicker\"},{\"id\":\"30328\",\"type\":\"MonthsTicker\"},{\"id\":\"30329\",\"type\":\"YearsTicker\"}]},\"id\":\"30287\",\"type\":\"DatetimeTicker\"},{\"attributes\":{\"base\":60,\"mantissas\":[1,2,5,10,15,20,30],\"max_interval\":1800000.0,\"min_interval\":1000.0,\"num_minor_ticks\":0},\"id\":\"30319\",\"type\":\"AdaptiveTicker\"},{\"attributes\":{\"plot\":{\"id\":\"30276\",\"subtype\":\"Figure\",\"type\":\"Plot\"},\"ticker\":{\"id\":\"30287\",\"type\":\"DatetimeTicker\"}},\"id\":\"30290\",\"type\":\"Grid\"},{\"attributes\":{\"base\":24,\"mantissas\":[1,2,4,6,8,12],\"max_interval\":43200000.0,\"min_interval\":3600000.0,\"num_minor_ticks\":0},\"id\":\"30320\",\"type\":\"AdaptiveTicker\"},{\"attributes\":{},\"id\":\"30356\",\"type\":\"Selection\"},{\"attributes\":{\"label\":{\"value\":\"tcs\"},\"renderers\":[{\"id\":\"30335\",\"type\":\"GlyphRenderer\"}]},\"id\":\"30357\",\"type\":\"LegendItem\"},{\"attributes\":{\"axis_label\":\"y\",\"formatter\":{\"id\":\"30316\",\"type\":\"BasicTickFormatter\"},\"plot\":{\"id\":\"30276\",\"subtype\":\"Figure\",\"type\":\"Plot\"},\"ticker\":{\"id\":\"30292\",\"type\":\"BasicTicker\"}},\"id\":\"30291\",\"type\":\"LinearAxis\"},{\"attributes\":{\"days\":[1,2,3,4,5,6,7,8,9,10,11,12,13,14,15,16,17,18,19,20,21,22,23,24,25,26,27,28,29,30,31]},\"id\":\"30321\",\"type\":\"DaysTicker\"},{\"attributes\":{},\"id\":\"30292\",\"type\":\"BasicTicker\"},{\"attributes\":{\"days\":[1,4,7,10,13,16,19,22,25,28]},\"id\":\"30322\",\"type\":\"DaysTicker\"},{\"attributes\":{},\"id\":\"31313\",\"type\":\"Selection\"},{\"attributes\":{\"dimension\":1,\"plot\":{\"id\":\"30276\",\"subtype\":\"Figure\",\"type\":\"Plot\"},\"ticker\":{\"id\":\"30292\",\"type\":\"BasicTicker\"}},\"id\":\"30295\",\"type\":\"Grid\"},{\"attributes\":{\"days\":[1,8,15,22]},\"id\":\"30323\",\"type\":\"DaysTicker\"},{\"attributes\":{\"days\":[1,15]},\"id\":\"30324\",\"type\":\"DaysTicker\"},{\"attributes\":{\"months\":[0,6]},\"id\":\"30328\",\"type\":\"MonthsTicker\"},{\"attributes\":{\"line_color\":\"#1f77b4\",\"line_width\":2,\"x\":{\"field\":\"x\"},\"y\":{\"field\":\"y\"}},\"id\":\"30308\",\"type\":\"Line\"},{\"attributes\":{\"months\":[0,1,2,3,4,5,6,7,8,9,10,11]},\"id\":\"30325\",\"type\":\"MonthsTicker\"},{\"attributes\":{},\"id\":\"30296\",\"type\":\"PanTool\"},{\"attributes\":{\"callback\":null,\"data\":{\"x\":[1420070400000.0,1420156800000.0,1420416000000.0,1420502400000.0,1420588800000.0,1420675200000.0,1420761600000.0,1421020800000.0,1421107200000.0,1421193600000.0,1421280000000.0,1421366400000.0,1421625600000.0,1421712000000.0,1421798400000.0,1421884800000.0,1421971200000.0,1422316800000.0,1422403200000.0,1422489600000.0,1422576000000.0,1422835200000.0,1422921600000.0,1423008000000.0,1423094400000.0,1423180800000.0,1423440000000.0,1423526400000.0,1423612800000.0,1423699200000.0,1423785600000.0,1424044800000.0,1424217600000.0,1424304000000.0,1424390400000.0,1424649600000.0,1424736000000.0,1424822400000.0,1424908800000.0,1424995200000.0,1425081600000.0,1425254400000.0,1425340800000.0,1425427200000.0,1425513600000.0,1425859200000.0,1425945600000.0,1426032000000.0,1426118400000.0,1426204800000.0,1426464000000.0,1426550400000.0,1426636800000.0,1426723200000.0,1426809600000.0,1427068800000.0,1427155200000.0,1427241600000.0,1427328000000.0,1427414400000.0,1427673600000.0,1427760000000.0,1427846400000.0,1428278400000.0,1428364800000.0,1428451200000.0,1428537600000.0,1428624000000.0,1428883200000.0,1429056000000.0,1429142400000.0,1429228800000.0,1429488000000.0,1429574400000.0,1429660800000.0,1429747200000.0,1429833600000.0,1430092800000.0,1430179200000.0,1430265600000.0,1430352000000.0,1430697600000.0,1430784000000.0,1430870400000.0,1430956800000.0,1431043200000.0,1431302400000.0,1431388800000.0,1431475200000.0,1431561600000.0,1431648000000.0,1431907200000.0,1431993600000.0,1432080000000.0,1432166400000.0,1432252800000.0,1432512000000.0,1432598400000.0,1432684800000.0,1432771200000.0,1432857600000.0,1433116800000.0,1433203200000.0,1433289600000.0,1433376000000.0,1433462400000.0,1433721600000.0,1433808000000.0,1433894400000.0,1433980800000.0,1434067200000.0,1434326400000.0,1434412800000.0,1434499200000.0,1434585600000.0,1434672000000.0,1434931200000.0,1435017600000.0,1435104000000.0,1435190400000.0,1435276800000.0,1435536000000.0,1435622400000.0,1435708800000.0,1435795200000.0,1435881600000.0,1436140800000.0,1436227200000.0,1436313600000.0,1436400000000.0,1436486400000.0,1436745600000.0,1436832000000.0,1436918400000.0,1437004800000.0,1437091200000.0,1437350400000.0,1437436800000.0,1437523200000.0,1437609600000.0,1437696000000.0,1437955200000.0,1438041600000.0,1438128000000.0,1438214400000.0,1438300800000.0,1438560000000.0,1438646400000.0,1438732800000.0,1438819200000.0,1438905600000.0,1439164800000.0,1439251200000.0,1439337600000.0,1439424000000.0,1439510400000.0,1439769600000.0,1439856000000.0,1439942400000.0,1440028800000.0,1440115200000.0,1440374400000.0,1440460800000.0,1440547200000.0,1440633600000.0,1440720000000.0,1440979200000.0,1441065600000.0,1441152000000.0,1441238400000.0,1441324800000.0,1441584000000.0,1441670400000.0,1441756800000.0,1441843200000.0,1441929600000.0,1442188800000.0,1442275200000.0,1442361600000.0,1442534400000.0,1442793600000.0,1442880000000.0,1442966400000.0,1443052800000.0,1443398400000.0,1443484800000.0,1443571200000.0,1443657600000.0,1444003200000.0,1444089600000.0,1444176000000.0,1444262400000.0,1444348800000.0,1444608000000.0,1444694400000.0,1444780800000.0,1444867200000.0,1444953600000.0,1445212800000.0,1445299200000.0,1445385600000.0,1445558400000.0,1445817600000.0,1445904000000.0,1445990400000.0,1446076800000.0,1446163200000.0,1446422400000.0,1446508800000.0,1446595200000.0,1446681600000.0,1446768000000.0,1447027200000.0,1447113600000.0,1447200000000.0,1447372800000.0,1447632000000.0,1447718400000.0,1447804800000.0,1447891200000.0,1447977600000.0,1448236800000.0,1448323200000.0,1448496000000.0,1448582400000.0,1448841600000.0,1448928000000.0,1449014400000.0,1449100800000.0,1449187200000.0,1449446400000.0,1449532800000.0,1449619200000.0,1449705600000.0,1449792000000.0,1450051200000.0,1450137600000.0,1450224000000.0,1450310400000.0,1450396800000.0,1450656000000.0,1450742400000.0,1450828800000.0,1450915200000.0,1451260800000.0,1451347200000.0,1451433600000.0],\"y\":[0,0,0,0,0,0,0,0,0,0,0,0,0,0,0,0,0,0,0,0,0,0,0,0,0,0,1,0,0,0,0,0,0,0,0,0,0,0,0,0,0,0,0,0,0,0,0,0,0,0,0,0,0,0,0,0,0,0,0,0,0,0,0,0,0,0,0,0,0,0,0,0,0,0,0,0,0,0,0,0,0,0,0,1,1,0,0,0,0,0,0,0,0,0,0,0,0,0,0,0,0,0,0,0,0,0,0,0,0,0,0,0,0,0,0,0,0,0,0,0,0,0,0,0,0,0,0,0,0,0,0,0,0,0,0,0,0,0,0,0,0,0,0,0,0,0,0,0,0,0,0,0,0,0,0,0,0,0,0,0,0,0,0,0,0,0,0,0,0,0,1,0,0,0,0,0,0,0,0,0,0,0,0,0,0,0,0,0,0,0,0,0,0,0,0,0,0,0,0,0,0,0,0,0,0,0,0,0,0,0,0,0,0,0,0,0,0,0,0,0,0,0,0,0,0,0,0,0,0,0,0,0,0,0,0,0,0,0,0,0,0,0,0,0,0,0,0]},\"selected\":{\"id\":\"31313\",\"type\":\"Selection\"},\"selection_policy\":{\"id\":\"31312\",\"type\":\"UnionRenderers\"}},\"id\":\"30332\",\"type\":\"ColumnDataSource\"},{\"attributes\":{\"months\":[0,2,4,6,8,10]},\"id\":\"30326\",\"type\":\"MonthsTicker\"},{\"attributes\":{\"overlay\":{\"id\":\"30301\",\"type\":\"BoxAnnotation\"}},\"id\":\"30297\",\"type\":\"BoxZoomTool\"},{\"attributes\":{\"months\":[0,4,8]},\"id\":\"30327\",\"type\":\"MonthsTicker\"},{\"attributes\":{},\"id\":\"30298\",\"type\":\"ResetTool\"}],\"root_ids\":[\"30276\"]},\"title\":\"Bokeh Application\",\"version\":\"1.0.2\"}};\n",
       "  var render_items = [{\"docid\":\"4ebf4320-e3ac-4480-9615-7310125cf882\",\"roots\":{\"30276\":\"8262a8af-0a7f-4d04-bd1e-2cf663950ddf\"}}];\n",
       "  root.Bokeh.embed.embed_items_notebook(docs_json, render_items);\n",
       "\n",
       "  }\n",
       "  if (root.Bokeh !== undefined) {\n",
       "    embed_document(root);\n",
       "  } else {\n",
       "    var attempts = 0;\n",
       "    var timer = setInterval(function(root) {\n",
       "      if (root.Bokeh !== undefined) {\n",
       "        embed_document(root);\n",
       "        clearInterval(timer);\n",
       "      }\n",
       "      attempts++;\n",
       "      if (attempts > 100) {\n",
       "        console.log(\"Bokeh: ERROR: Unable to run BokehJS code because BokehJS library is missing\");\n",
       "        clearInterval(timer);\n",
       "      }\n",
       "    }, 10, root)\n",
       "  }\n",
       "})(window);"
      ],
      "application/vnd.bokehjs_exec.v0+json": ""
     },
     "metadata": {
      "application/vnd.bokehjs_exec.v0+json": {
       "id": "30276"
      }
     },
     "output_type": "display_data"
    }
   ],
   "source": [
    "i = figure(title= 'INFY Close plot', x_axis_label='x',x_axis_type=\"datetime\", y_axis_label='y',plot_width=800, plot_height=350,tools=\"pan,box_zoom,reset,save\")\n",
    "i.background_fill_color = \"lightblue\"\n",
    "i.background_fill_alpha = 0.5\n",
    "i.line(infy.index,infy['Closing_shock_without_volume_shock'],line_width=2,legend='infy')\n",
    "i.line(tcs.index,tcs['Closing_shock_without_volume_shock'],line_width=2,color='red',legend='tcs')\n",
    "\n",
    "show(i)"
   ]
  },
  {
   "cell_type": "markdown",
   "metadata": {},
   "source": [
    "# 6."
   ]
  },
  {
   "cell_type": "code",
   "execution_count": 103,
   "metadata": {
    "scrolled": true
   },
   "outputs": [
    {
     "name": "stdout",
     "output_type": "stream",
     "text": [
      "Figure(432x288)\n"
     ]
    },
    {
     "data": {
      "image/png": "[encoded data removed]",
      "text/plain": [
       "<Figure size 432x288 with 1 Axes>"
      ]
     },
     "metadata": {
      "needs_background": "light"
     },
     "output_type": "display_data"
    }
   ],
   "source": [
    "print(plot_acf(infy['Close'],title='Partial Autocorrelation'))"
   ]
  },
  {
   "cell_type": "code",
   "execution_count": 104,
   "metadata": {},
   "outputs": [
    {
     "name": "stdout",
     "output_type": "stream",
     "text": [
      "Figure(432x288)\n"
     ]
    },
    {
     "data": {
      "image/png": "[encoded data removed]",
      "text/plain": [
       "<Figure size 432x288 with 1 Axes>"
      ]
     },
     "metadata": {
      "needs_background": "light"
     },
     "output_type": "display_data"
    }
   ],
   "source": [
    "print(plot_acf(tcs['Close'],title='Partial Autocorrelation'))"
   ]
  },
  {
   "cell_type": "code",
   "execution_count": null,
   "metadata": {},
   "outputs": [],
   "source": []
  }
 ],
 "metadata": {
  "kernelspec": {
   "display_name": "Python 3",
   "language": "python",
   "name": "python3"
  },
  "language_info": {
   "codemirror_mode": {
    "name": "ipython",
    "version": 3
   },
   "file_extension": ".py",
   "mimetype": "text/x-python",
   "name": "python",
   "nbconvert_exporter": "python",
   "pygments_lexer": "ipython3",
   "version": "3.7.0"
  }
 },
 "nbformat": 4,
 "nbformat_minor": 2
}
